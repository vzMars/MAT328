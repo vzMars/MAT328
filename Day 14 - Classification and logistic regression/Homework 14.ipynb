{
 "cells": [
  {
   "cell_type": "markdown",
   "metadata": {},
   "source": [
    "Marcos Gonzalez  \n",
    "Homework #14  \n",
    "3/25/21"
   ]
  },
  {
   "cell_type": "markdown",
   "metadata": {},
   "source": [
    "# Homework 14\n",
    "\n",
    "This homework uses the Green taxi data from Homework 2.  The 2020 green taxi trip data from NYC Open Data was filtered to only be trips with a pickup date and time on Feb. 4, 2020. \n",
    "\n",
    "Filtered trip data URL: [https://raw.githubusercontent.com/megan-owen/MAT328-Techniques_in_Data_Science/main/data/Feb4_2020_Green_Taxi_Trip_Data.csv](https://raw.githubusercontent.com/megan-owen/MAT328-Techniques_in_Data_Science/main/data/Feb4_2020_Green_Taxi_Trip_Data.csv)\n",
    "\n",
    "We will try to predict which trips involve tolls using only the length of the trip.\n",
    "\n",
    "**Answer all questions in the homework, including ones that require written answers.**"
   ]
  },
  {
   "cell_type": "code",
   "execution_count": 1,
   "metadata": {},
   "outputs": [],
   "source": [
    "import pandas as pd\n",
    "import matplotlib.pyplot as plt\n",
    "import seaborn as sns\n",
    "import numpy as np\n",
    "import statsmodels.formula.api as smf\n",
    "\n",
    "\n",
    "%matplotlib inline"
   ]
  },
  {
   "cell_type": "markdown",
   "metadata": {},
   "source": [
    "### Question 1: Loading and cleaning the data\n",
    "\n",
    "Load the data into Python, and clean it as follows:\n",
    "* create a new column call `paid_toll` that contains a 1 if the value in the `tolls_amount` column is greater than 0 and a 0 otherwise.  Hint:  See Lab 1, Section 6.\n",
    "* create a new dataframe (or change the current one) that only contains the columns `trip_distance` and `paid_toll`.\n"
   ]
  },
  {
   "cell_type": "code",
   "execution_count": 2,
   "metadata": {},
   "outputs": [],
   "source": [
    "def is_positive(x):\n",
    "  if x > 0:\n",
    "    return 1\n",
    "  else:\n",
    "    return 0"
   ]
  },
  {
   "cell_type": "code",
   "execution_count": 3,
   "metadata": {},
   "outputs": [
    {
     "data": {
      "text/html": [
       "<div>\n",
       "<style scoped>\n",
       "    .dataframe tbody tr th:only-of-type {\n",
       "        vertical-align: middle;\n",
       "    }\n",
       "\n",
       "    .dataframe tbody tr th {\n",
       "        vertical-align: top;\n",
       "    }\n",
       "\n",
       "    .dataframe thead th {\n",
       "        text-align: right;\n",
       "    }\n",
       "</style>\n",
       "<table border=\"1\" class=\"dataframe\">\n",
       "  <thead>\n",
       "    <tr style=\"text-align: right;\">\n",
       "      <th></th>\n",
       "      <th>trip_distance</th>\n",
       "      <th>paid_toll</th>\n",
       "    </tr>\n",
       "  </thead>\n",
       "  <tbody>\n",
       "    <tr>\n",
       "      <th>0</th>\n",
       "      <td>1.21</td>\n",
       "      <td>0</td>\n",
       "    </tr>\n",
       "    <tr>\n",
       "      <th>1</th>\n",
       "      <td>3.28</td>\n",
       "      <td>0</td>\n",
       "    </tr>\n",
       "    <tr>\n",
       "      <th>2</th>\n",
       "      <td>0.68</td>\n",
       "      <td>0</td>\n",
       "    </tr>\n",
       "    <tr>\n",
       "      <th>3</th>\n",
       "      <td>1.89</td>\n",
       "      <td>0</td>\n",
       "    </tr>\n",
       "    <tr>\n",
       "      <th>4</th>\n",
       "      <td>12.80</td>\n",
       "      <td>0</td>\n",
       "    </tr>\n",
       "    <tr>\n",
       "      <th>...</th>\n",
       "      <td>...</td>\n",
       "      <td>...</td>\n",
       "    </tr>\n",
       "    <tr>\n",
       "      <th>13976</th>\n",
       "      <td>0.64</td>\n",
       "      <td>0</td>\n",
       "    </tr>\n",
       "    <tr>\n",
       "      <th>13977</th>\n",
       "      <td>1.77</td>\n",
       "      <td>0</td>\n",
       "    </tr>\n",
       "    <tr>\n",
       "      <th>13978</th>\n",
       "      <td>1.80</td>\n",
       "      <td>0</td>\n",
       "    </tr>\n",
       "    <tr>\n",
       "      <th>13979</th>\n",
       "      <td>0.69</td>\n",
       "      <td>0</td>\n",
       "    </tr>\n",
       "    <tr>\n",
       "      <th>13980</th>\n",
       "      <td>1.60</td>\n",
       "      <td>0</td>\n",
       "    </tr>\n",
       "  </tbody>\n",
       "</table>\n",
       "<p>13981 rows × 2 columns</p>\n",
       "</div>"
      ],
      "text/plain": [
       "       trip_distance  paid_toll\n",
       "0               1.21          0\n",
       "1               3.28          0\n",
       "2               0.68          0\n",
       "3               1.89          0\n",
       "4              12.80          0\n",
       "...              ...        ...\n",
       "13976           0.64          0\n",
       "13977           1.77          0\n",
       "13978           1.80          0\n",
       "13979           0.69          0\n",
       "13980           1.60          0\n",
       "\n",
       "[13981 rows x 2 columns]"
      ]
     },
     "execution_count": 3,
     "metadata": {},
     "output_type": "execute_result"
    }
   ],
   "source": [
    "taxi = pd.read_csv(\"https://raw.githubusercontent.com/megan-owen/MAT328-Techniques_in_Data_Science/main/data/Feb4_2020_Green_Taxi_Trip_Data.csv\")\n",
    "taxi[\"paid_toll\"] = taxi[\"tolls_amount\"].apply(is_positive)\n",
    "taxi2 = taxi[[\"trip_distance\",\"paid_toll\"]]\n",
    "taxi2"
   ]
  },
  {
   "cell_type": "markdown",
   "metadata": {},
   "source": [
    "### Question 2: Logistic regression\n",
    "\n",
    "2a) Plot a scatterplot with `trip_distance` on the x axis and `paid_toll` on the y axis.  Do you think our model to predict whether a taxi customer paid a toll based on trip distance will work?  Why or why not?"
   ]
  },
  {
   "cell_type": "code",
   "execution_count": 4,
   "metadata": {},
   "outputs": [
    {
     "data": {
      "text/plain": [
       "Text(0.5, 1.0, 'Paid toll based on trip distance')"
      ]
     },
     "execution_count": 4,
     "metadata": {},
     "output_type": "execute_result"
    },
    {
     "data": {
      "image/png": "[encoded data removed]",
      "text/plain": [
       "<Figure size 360x360 with 1 Axes>"
      ]
     },
     "metadata": {
      "needs_background": "light"
     },
     "output_type": "display_data"
    }
   ],
   "source": [
    "sns.relplot(x = \"trip_distance\", y = \"paid_toll\", data = taxi2)\n",
    "plt.xlabel(\"Trip Distance\")\n",
    "plt.ylabel(\"Paid Toll\")\n",
    "plt.title(\"Paid toll based on trip distance\")"
   ]
  },
  {
   "cell_type": "markdown",
   "metadata": {},
   "source": [
    "I don't believe our model to predict whether a taxi customer paid a toll based on trip distance will work due to the fact that it's kinda hard to tell what is going on since the points are all on top of each other."
   ]
  },
  {
   "cell_type": "markdown",
   "metadata": {},
   "source": [
    "2b) Create a logistic model where `paid_toll` is the independent variable and `trip_distance` is the dependent variable."
   ]
  },
  {
   "cell_type": "code",
   "execution_count": 5,
   "metadata": {},
   "outputs": [
    {
     "name": "stdout",
     "output_type": "stream",
     "text": [
      "Optimization terminated successfully.\n",
      "         Current function value: 0.129203\n",
      "         Iterations 8\n"
     ]
    },
    {
     "data": {
      "text/html": [
       "<table class=\"simpletable\">\n",
       "<caption>Logit Regression Results</caption>\n",
       "<tr>\n",
       "  <th>Dep. Variable:</th>       <td>paid_toll</td>    <th>  No. Observations:  </th>  <td> 13981</td> \n",
       "</tr>\n",
       "<tr>\n",
       "  <th>Model:</th>                 <td>Logit</td>      <th>  Df Residuals:      </th>  <td> 13979</td> \n",
       "</tr>\n",
       "<tr>\n",
       "  <th>Method:</th>                 <td>MLE</td>       <th>  Df Model:          </th>  <td>     1</td> \n",
       "</tr>\n",
       "<tr>\n",
       "  <th>Date:</th>            <td>Thu, 25 Mar 2021</td> <th>  Pseudo R-squ.:     </th>  <td>0.3803</td> \n",
       "</tr>\n",
       "<tr>\n",
       "  <th>Time:</th>                <td>20:59:19</td>     <th>  Log-Likelihood:    </th> <td> -1806.4</td>\n",
       "</tr>\n",
       "<tr>\n",
       "  <th>converged:</th>             <td>True</td>       <th>  LL-Null:           </th> <td> -2914.9</td>\n",
       "</tr>\n",
       "<tr>\n",
       "  <th>Covariance Type:</th>     <td>nonrobust</td>    <th>  LLR p-value:       </th>  <td> 0.000</td> \n",
       "</tr>\n",
       "</table>\n",
       "<table class=\"simpletable\">\n",
       "<tr>\n",
       "        <td></td>           <th>coef</th>     <th>std err</th>      <th>z</th>      <th>P>|z|</th>  <th>[0.025</th>    <th>0.975]</th>  \n",
       "</tr>\n",
       "<tr>\n",
       "  <th>Intercept</th>     <td>   -5.0030</td> <td>    0.088</td> <td>  -57.134</td> <td> 0.000</td> <td>   -5.175</td> <td>   -4.831</td>\n",
       "</tr>\n",
       "<tr>\n",
       "  <th>trip_distance</th> <td>    0.3262</td> <td>    0.008</td> <td>   39.084</td> <td> 0.000</td> <td>    0.310</td> <td>    0.343</td>\n",
       "</tr>\n",
       "</table>"
      ],
      "text/plain": [
       "<class 'statsmodels.iolib.summary.Summary'>\n",
       "\"\"\"\n",
       "                           Logit Regression Results                           \n",
       "==============================================================================\n",
       "Dep. Variable:              paid_toll   No. Observations:                13981\n",
       "Model:                          Logit   Df Residuals:                    13979\n",
       "Method:                           MLE   Df Model:                            1\n",
       "Date:                Thu, 25 Mar 2021   Pseudo R-squ.:                  0.3803\n",
       "Time:                        20:59:19   Log-Likelihood:                -1806.4\n",
       "converged:                       True   LL-Null:                       -2914.9\n",
       "Covariance Type:            nonrobust   LLR p-value:                     0.000\n",
       "=================================================================================\n",
       "                    coef    std err          z      P>|z|      [0.025      0.975]\n",
       "---------------------------------------------------------------------------------\n",
       "Intercept        -5.0030      0.088    -57.134      0.000      -5.175      -4.831\n",
       "trip_distance     0.3262      0.008     39.084      0.000       0.310       0.343\n",
       "=================================================================================\n",
       "\"\"\""
      ]
     },
     "execution_count": 5,
     "metadata": {},
     "output_type": "execute_result"
    }
   ],
   "source": [
    "logit_model = smf.logit('paid_toll ~ trip_distance',taxi2).fit()\n",
    "logit_model.summary()"
   ]
  },
  {
   "cell_type": "markdown",
   "metadata": {},
   "source": [
    "2c)  What is the R-squared value for your logistic model?  What does it suggest about the fit of the model?"
   ]
  },
  {
   "cell_type": "markdown",
   "metadata": {
    "collapsed": true
   },
   "source": [
    "R-squared value: 0.3803 which is about 40% so it doesn't seem like a good fit."
   ]
  },
  {
   "cell_type": "markdown",
   "metadata": {},
   "source": [
    "2d)  What is the equation of your logistic regression model?  The equation below is written in Latex, which is a system for typing math equations.  Double click on this cell, and replace the part of the equation that says \"reg\" to finish the formula.  \"run\" this cell (as you would a code cell) when you are finished.\n",
    "\n",
    "$$y = \\frac{1}{1 + e^{-(-5.0030 - 0.3262x1)}}$$"
   ]
  },
  {
   "cell_type": "markdown",
   "metadata": {},
   "source": [
    "2e) Plot the logistic regression model line on a scatterplot of the data.  You can use any method/package to do this."
   ]
  },
  {
   "cell_type": "code",
   "execution_count": 6,
   "metadata": {},
   "outputs": [
    {
     "data": {
      "text/plain": [
       "array([  0.        ,   0.84337349,   1.68674699,   2.53012048,\n",
       "         3.37349398,   4.21686747,   5.06024096,   5.90361446,\n",
       "         6.74698795,   7.59036145,   8.43373494,   9.27710843,\n",
       "        10.12048193,  10.96385542,  11.80722892,  12.65060241,\n",
       "        13.4939759 ,  14.3373494 ,  15.18072289,  16.02409639,\n",
       "        16.86746988,  17.71084337,  18.55421687,  19.39759036,\n",
       "        20.24096386,  21.08433735,  21.92771084,  22.77108434,\n",
       "        23.61445783,  24.45783133,  25.30120482,  26.14457831,\n",
       "        26.98795181,  27.8313253 ,  28.6746988 ,  29.51807229,\n",
       "        30.36144578,  31.20481928,  32.04819277,  32.89156627,\n",
       "        33.73493976,  34.57831325,  35.42168675,  36.26506024,\n",
       "        37.10843373,  37.95180723,  38.79518072,  39.63855422,\n",
       "        40.48192771,  41.3253012 ,  42.1686747 ,  43.01204819,\n",
       "        43.85542169,  44.69879518,  45.54216867,  46.38554217,\n",
       "        47.22891566,  48.07228916,  48.91566265,  49.75903614,\n",
       "        50.60240964,  51.44578313,  52.28915663,  53.13253012,\n",
       "        53.97590361,  54.81927711,  55.6626506 ,  56.5060241 ,\n",
       "        57.34939759,  58.19277108,  59.03614458,  59.87951807,\n",
       "        60.72289157,  61.56626506,  62.40963855,  63.25301205,\n",
       "        64.09638554,  64.93975904,  65.78313253,  66.62650602,\n",
       "        67.46987952,  68.31325301,  69.15662651,  70.        ,\n",
       "        70.84337349,  71.68674699,  72.53012048,  73.37349398,\n",
       "        74.21686747,  75.06024096,  75.90361446,  76.74698795,\n",
       "        77.59036145,  78.43373494,  79.27710843,  80.12048193,\n",
       "        80.96385542,  81.80722892,  82.65060241,  83.4939759 ,\n",
       "        84.3373494 ,  85.18072289,  86.02409639,  86.86746988,\n",
       "        87.71084337,  88.55421687,  89.39759036,  90.24096386,\n",
       "        91.08433735,  91.92771084,  92.77108434,  93.61445783,\n",
       "        94.45783133,  95.30120482,  96.14457831,  96.98795181,\n",
       "        97.8313253 ,  98.6746988 ,  99.51807229, 100.36144578,\n",
       "       101.20481928, 102.04819277, 102.89156627, 103.73493976,\n",
       "       104.57831325, 105.42168675, 106.26506024, 107.10843373,\n",
       "       107.95180723, 108.79518072, 109.63855422, 110.48192771,\n",
       "       111.3253012 , 112.1686747 , 113.01204819, 113.85542169,\n",
       "       114.69879518, 115.54216867, 116.38554217, 117.22891566,\n",
       "       118.07228916, 118.91566265, 119.75903614, 120.60240964,\n",
       "       121.44578313, 122.28915663, 123.13253012, 123.97590361,\n",
       "       124.81927711, 125.6626506 , 126.5060241 , 127.34939759,\n",
       "       128.19277108, 129.03614458, 129.87951807, 130.72289157,\n",
       "       131.56626506, 132.40963855, 133.25301205, 134.09638554,\n",
       "       134.93975904, 135.78313253, 136.62650602, 137.46987952,\n",
       "       138.31325301, 139.15662651, 140.        , 140.84337349,\n",
       "       141.68674699, 142.53012048, 143.37349398, 144.21686747,\n",
       "       145.06024096, 145.90361446, 146.74698795, 147.59036145,\n",
       "       148.43373494, 149.27710843, 150.12048193, 150.96385542,\n",
       "       151.80722892, 152.65060241, 153.4939759 , 154.3373494 ,\n",
       "       155.18072289, 156.02409639, 156.86746988, 157.71084337,\n",
       "       158.55421687, 159.39759036, 160.24096386, 161.08433735,\n",
       "       161.92771084, 162.77108434, 163.61445783, 164.45783133,\n",
       "       165.30120482, 166.14457831, 166.98795181, 167.8313253 ,\n",
       "       168.6746988 , 169.51807229, 170.36144578, 171.20481928,\n",
       "       172.04819277, 172.89156627, 173.73493976, 174.57831325,\n",
       "       175.42168675, 176.26506024, 177.10843373, 177.95180723,\n",
       "       178.79518072, 179.63855422, 180.48192771, 181.3253012 ,\n",
       "       182.1686747 , 183.01204819, 183.85542169, 184.69879518,\n",
       "       185.54216867, 186.38554217, 187.22891566, 188.07228916,\n",
       "       188.91566265, 189.75903614, 190.60240964, 191.44578313,\n",
       "       192.28915663, 193.13253012, 193.97590361, 194.81927711,\n",
       "       195.6626506 , 196.5060241 , 197.34939759, 198.19277108,\n",
       "       199.03614458, 199.87951807, 200.72289157, 201.56626506,\n",
       "       202.40963855, 203.25301205, 204.09638554, 204.93975904,\n",
       "       205.78313253, 206.62650602, 207.46987952, 208.31325301,\n",
       "       209.15662651, 210.        ])"
      ]
     },
     "execution_count": 6,
     "metadata": {},
     "output_type": "execute_result"
    }
   ],
   "source": [
    "x2 = np.linspace(0,210,250)\n",
    "x2"
   ]
  },
  {
   "cell_type": "code",
   "execution_count": 7,
   "metadata": {},
   "outputs": [
    {
     "data": {
      "text/plain": [
       "array([-5.00301060e+00, -4.72787770e+00, -4.45274479e+00, -4.17761189e+00,\n",
       "       -3.90247899e+00, -3.62734609e+00, -3.35221318e+00, -3.07708028e+00,\n",
       "       -2.80194738e+00, -2.52681448e+00, -2.25168158e+00, -1.97654867e+00,\n",
       "       -1.70141577e+00, -1.42628287e+00, -1.15114997e+00, -8.76017063e-01,\n",
       "       -6.00884161e-01, -3.25751259e-01, -5.06183564e-02,  2.24514546e-01,\n",
       "        4.99647448e-01,  7.74780351e-01,  1.04991325e+00,  1.32504616e+00,\n",
       "        1.60017906e+00,  1.87531196e+00,  2.15044486e+00,  2.42557776e+00,\n",
       "        2.70071067e+00,  2.97584357e+00,  3.25097647e+00,  3.52610937e+00,\n",
       "        3.80124228e+00,  4.07637518e+00,  4.35150808e+00,  4.62664098e+00,\n",
       "        4.90177389e+00,  5.17690679e+00,  5.45203969e+00,  5.72717259e+00,\n",
       "        6.00230549e+00,  6.27743840e+00,  6.55257130e+00,  6.82770420e+00,\n",
       "        7.10283710e+00,  7.37797001e+00,  7.65310291e+00,  7.92823581e+00,\n",
       "        8.20336871e+00,  8.47850162e+00,  8.75363452e+00,  9.02876742e+00,\n",
       "        9.30390032e+00,  9.57903323e+00,  9.85416613e+00,  1.01292990e+01,\n",
       "        1.04044319e+01,  1.06795648e+01,  1.09546977e+01,  1.12298306e+01,\n",
       "        1.15049635e+01,  1.17800964e+01,  1.20552293e+01,  1.23303622e+01,\n",
       "        1.26054952e+01,  1.28806281e+01,  1.31557610e+01,  1.34308939e+01,\n",
       "        1.37060268e+01,  1.39811597e+01,  1.42562926e+01,  1.45314255e+01,\n",
       "        1.48065584e+01,  1.50816913e+01,  1.53568242e+01,  1.56319571e+01,\n",
       "        1.59070900e+01,  1.61822229e+01,  1.64573558e+01,  1.67324887e+01,\n",
       "        1.70076216e+01,  1.72827545e+01,  1.75578874e+01,  1.78330203e+01,\n",
       "        1.81081532e+01,  1.83832861e+01,  1.86584190e+01,  1.89335519e+01,\n",
       "        1.92086848e+01,  1.94838177e+01,  1.97589506e+01,  2.00340835e+01,\n",
       "        2.03092164e+01,  2.05843493e+01,  2.08594822e+01,  2.11346151e+01,\n",
       "        2.14097480e+01,  2.16848809e+01,  2.19600138e+01,  2.22351467e+01,\n",
       "        2.25102796e+01,  2.27854125e+01,  2.30605454e+01,  2.33356783e+01,\n",
       "        2.36108112e+01,  2.38859441e+01,  2.41610770e+01,  2.44362100e+01,\n",
       "        2.47113429e+01,  2.49864758e+01,  2.52616087e+01,  2.55367416e+01,\n",
       "        2.58118745e+01,  2.60870074e+01,  2.63621403e+01,  2.66372732e+01,\n",
       "        2.69124061e+01,  2.71875390e+01,  2.74626719e+01,  2.77378048e+01,\n",
       "        2.80129377e+01,  2.82880706e+01,  2.85632035e+01,  2.88383364e+01,\n",
       "        2.91134693e+01,  2.93886022e+01,  2.96637351e+01,  2.99388680e+01,\n",
       "        3.02140009e+01,  3.04891338e+01,  3.07642667e+01,  3.10393996e+01,\n",
       "        3.13145325e+01,  3.15896654e+01,  3.18647983e+01,  3.21399312e+01,\n",
       "        3.24150641e+01,  3.26901970e+01,  3.29653299e+01,  3.32404628e+01,\n",
       "        3.35155957e+01,  3.37907286e+01,  3.40658615e+01,  3.43409944e+01,\n",
       "        3.46161273e+01,  3.48912602e+01,  3.51663931e+01,  3.54415260e+01,\n",
       "        3.57166589e+01,  3.59917918e+01,  3.62669248e+01,  3.65420577e+01,\n",
       "        3.68171906e+01,  3.70923235e+01,  3.73674564e+01,  3.76425893e+01,\n",
       "        3.79177222e+01,  3.81928551e+01,  3.84679880e+01,  3.87431209e+01,\n",
       "        3.90182538e+01,  3.92933867e+01,  3.95685196e+01,  3.98436525e+01,\n",
       "        4.01187854e+01,  4.03939183e+01,  4.06690512e+01,  4.09441841e+01,\n",
       "        4.12193170e+01,  4.14944499e+01,  4.17695828e+01,  4.20447157e+01,\n",
       "        4.23198486e+01,  4.25949815e+01,  4.28701144e+01,  4.31452473e+01,\n",
       "        4.34203802e+01,  4.36955131e+01,  4.39706460e+01,  4.42457789e+01,\n",
       "        4.45209118e+01,  4.47960447e+01,  4.50711776e+01,  4.53463105e+01,\n",
       "        4.56214434e+01,  4.58965763e+01,  4.61717092e+01,  4.64468421e+01,\n",
       "        4.67219750e+01,  4.69971079e+01,  4.72722408e+01,  4.75473737e+01,\n",
       "        4.78225067e+01,  4.80976396e+01,  4.83727725e+01,  4.86479054e+01,\n",
       "        4.89230383e+01,  4.91981712e+01,  4.94733041e+01,  4.97484370e+01,\n",
       "        5.00235699e+01,  5.02987028e+01,  5.05738357e+01,  5.08489686e+01,\n",
       "        5.11241015e+01,  5.13992344e+01,  5.16743673e+01,  5.19495002e+01,\n",
       "        5.22246331e+01,  5.24997660e+01,  5.27748989e+01,  5.30500318e+01,\n",
       "        5.33251647e+01,  5.36002976e+01,  5.38754305e+01,  5.41505634e+01,\n",
       "        5.44256963e+01,  5.47008292e+01,  5.49759621e+01,  5.52510950e+01,\n",
       "        5.55262279e+01,  5.58013608e+01,  5.60764937e+01,  5.63516266e+01,\n",
       "        5.66267595e+01,  5.69018924e+01,  5.71770253e+01,  5.74521582e+01,\n",
       "        5.77272911e+01,  5.80024240e+01,  5.82775569e+01,  5.85526898e+01,\n",
       "        5.88278227e+01,  5.91029556e+01,  5.93780885e+01,  5.96532215e+01,\n",
       "        5.99283544e+01,  6.02034873e+01,  6.04786202e+01,  6.07537531e+01,\n",
       "        6.10288860e+01,  6.13040189e+01,  6.15791518e+01,  6.18542847e+01,\n",
       "        6.21294176e+01,  6.24045505e+01,  6.26796834e+01,  6.29548163e+01,\n",
       "        6.32299492e+01,  6.35050821e+01])"
      ]
     },
     "execution_count": 7,
     "metadata": {},
     "output_type": "execute_result"
    }
   ],
   "source": [
    "p2 = logit_model.params\n",
    "reg2 = p2[\"Intercept\"] + p2[\"trip_distance\"]*x2\n",
    "reg2"
   ]
  },
  {
   "cell_type": "code",
   "execution_count": 8,
   "metadata": {},
   "outputs": [],
   "source": [
    "y2 = 1/(1 + np.exp(-reg2))"
   ]
  },
  {
   "cell_type": "code",
   "execution_count": 9,
   "metadata": {},
   "outputs": [
    {
     "data": {
      "text/plain": [
       "Text(0.5, 1.0, 'Paid toll based on trip distance')"
      ]
     },
     "execution_count": 9,
     "metadata": {},
     "output_type": "execute_result"
    },
    {
     "data": {
      "image/png": "[encoded data removed]",
      "text/plain": [
       "<Figure size 432x288 with 1 Axes>"
      ]
     },
     "metadata": {
      "needs_background": "light"
     },
     "output_type": "display_data"
    }
   ],
   "source": [
    "sns.regplot(x = \"trip_distance\", y = \"paid_toll\", data = taxi2, logistic = True)\n",
    "plt.plot(x2,y2)\n",
    "plt.xlabel(\"Trip Distance\")\n",
    "plt.ylabel(\"Paid Toll\")\n",
    "plt.title(\"Paid toll based on trip distance\")"
   ]
  },
  {
   "cell_type": "markdown",
   "metadata": {},
   "source": [
    "2f) Compute the confusion matrix for your logistic regression model.  How many true positives are there?  How many true negative?  How many false positives?  How many false negatives?  \n",
    "\n",
    "Based on the confusion matrix and the R-squared value, how good of a fit is your model?"
   ]
  },
  {
   "cell_type": "code",
   "execution_count": 11,
   "metadata": {},
   "outputs": [
    {
     "data": {
      "text/plain": [
       "array([[13110.,   124.],\n",
       "       [  493.,   254.]])"
      ]
     },
     "execution_count": 11,
     "metadata": {},
     "output_type": "execute_result"
    }
   ],
   "source": [
    "logit_model.pred_table()"
   ]
  },
  {
   "cell_type": "markdown",
   "metadata": {},
   "source": [
    "I think there are about 254 true positives, 13110 true negatives, 124 false positives and 493 false negatives. I'm not really sure of how good of a fit this model is."
   ]
  }
 ],
 "metadata": {
  "kernelspec": {
   "display_name": "Python 3",
   "language": "python",
   "name": "python3"
  },
  "language_info": {
   "codemirror_mode": {
    "name": "ipython",
    "version": 3
   },
   "file_extension": ".py",
   "mimetype": "text/x-python",
   "name": "python",
   "nbconvert_exporter": "python",
   "pygments_lexer": "ipython3",
   "version": "3.8.5"
  }
 },
 "nbformat": 4,
 "nbformat_minor": 2
}
