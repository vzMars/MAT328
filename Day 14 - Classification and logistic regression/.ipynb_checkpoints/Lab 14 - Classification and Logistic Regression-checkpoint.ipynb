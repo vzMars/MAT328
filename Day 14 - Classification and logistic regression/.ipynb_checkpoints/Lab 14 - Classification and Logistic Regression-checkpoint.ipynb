{
 "cells": [
  {
   "cell_type": "markdown",
   "metadata": {},
   "source": [
    "# Lab 14 - Classification and Logistic Regression\n",
    "\n",
    "Note: Some of this lab is based off the Harvard Data Science CS109 Lab 4, Fall 2015.\n",
    "\n",
    "We now move on to *classification*, which means predicting categorical data.  In this lab, we cover *logistic regression* which adapts linear regression to the prediction of one of two categories.\n",
    "\n",
    "In logistic regression, we fit a *sigmoid function* to the data.  Run the code below to see two examples of sigmoid functions."
   ]
  },
  {
   "cell_type": "code",
   "execution_count": 1,
   "metadata": {},
   "outputs": [
    {
     "data": {
      "text/plain": [
       "[<matplotlib.lines.Line2D at 0x7fba78eecdf0>]"
      ]
     },
     "execution_count": 1,
     "metadata": {},
     "output_type": "execute_result"
    },
    {
     "data": {
      "image/png": "[encoded data removed]",
      "text/plain": [
       "<Figure size 1440x360 with 2 Axes>"
      ]
     },
     "metadata": {
      "needs_background": "light"
     },
     "output_type": "display_data"
    }
   ],
   "source": [
    "import numpy as np\n",
    "import matplotlib.pyplot as plt\n",
    "%matplotlib inline \n",
    "\n",
    "xx = np.linspace(-10,10,100)\n",
    "yy1 = 1/(1 + np.exp(-xx))\n",
    "yy2 = 1/(1 + np.exp(5*xx +5))\n",
    "\n",
    "fig, ax = plt.subplots(1, 2, figsize=(20, 5))\n",
    "\n",
    "\n",
    "ax[0].plot(xx,yy1)\n",
    "ax[1].plot(xx,yy2)"
   ]
  },
  {
   "cell_type": "markdown",
   "metadata": {},
   "source": [
    "The equation of the sigmoid function is: \n",
    "\n",
    "$$f(x_1, x_2, ..., x_n) = \\frac{1}{1 + e^{-(\\beta_0 + \\beta_1 x_1 + \\beta_2 x_2 + ... + \\beta_n x_n)}}$$\n",
    "\n",
    "Notice that the exponent of $e$ looks like part of the linear regression equation.  This is not a coincidence!"
   ]
  },
  {
   "cell_type": "markdown",
   "metadata": {},
   "source": [
    "### Section 1: Loading and cleaning the data, and exploratory data analysis\n",
    "\n",
    "The Challenger Space Shuttle tragically exploded in 1986, killing all astronauts on board.  The explosion was shown to have been caused by an O-ring failure, likely due to cold temperatures the day of the launch (and also poor engineering that allowed this failure to cause such catastrophy).\n",
    "\n",
    "This lab will use experimental data from tests on whether O-rings failed at different temperatures.  The data set can be downloaded from [https://raw.githubusercontent.com/megan-owen/MAT328-Techniques_in_Data_Science/main/data/chall.txt](https://raw.githubusercontent.com/megan-owen/MAT328-Techniques_in_Data_Science/main/data/chall.txt).\n",
    "\n",
    "Each row in the data represents one experiment.  The first column is the temperature in Fahrenheit that the experiment was conducted at, and the second column is 1 if the O-ring failed in that experiment, and 0 if it did not. \n",
    "\n",
    "Import the necessary libraries."
   ]
  },
  {
   "cell_type": "code",
   "execution_count": 3,
   "metadata": {},
   "outputs": [],
   "source": [
    "import pandas as pd\n",
    "import matplotlib.pyplot as plt\n",
    "import seaborn as sns\n",
    "import numpy as np\n",
    "import statsmodels.formula.api as smf\n",
    "\n",
    "\n",
    "%matplotlib inline"
   ]
  },
  {
   "cell_type": "markdown",
   "metadata": {},
   "source": [
    "Open the data file in Jupyter notebook or another text editor.  What do you notice about it?  What needs to be changed or added when we read in the data?\n",
    "\n",
    "See Lab 4 for a reminder on how to deal with the spaces separating the columns instead of commas.\n",
    "\n",
    "We can add column names directly in `read_csv()`.  To do so, add the parameters: `header = None` and `names = [\"Temperature\", \"Failure\"]`."
   ]
  },
  {
   "cell_type": "code",
   "execution_count": 4,
   "metadata": {},
   "outputs": [
    {
     "data": {
      "text/html": [
       "<div>\n",
       "<style scoped>\n",
       "    .dataframe tbody tr th:only-of-type {\n",
       "        vertical-align: middle;\n",
       "    }\n",
       "\n",
       "    .dataframe tbody tr th {\n",
       "        vertical-align: top;\n",
       "    }\n",
       "\n",
       "    .dataframe thead th {\n",
       "        text-align: right;\n",
       "    }\n",
       "</style>\n",
       "<table border=\"1\" class=\"dataframe\">\n",
       "  <thead>\n",
       "    <tr style=\"text-align: right;\">\n",
       "      <th></th>\n",
       "      <th>Temperature</th>\n",
       "      <th>Failure</th>\n",
       "    </tr>\n",
       "  </thead>\n",
       "  <tbody>\n",
       "    <tr>\n",
       "      <th>0</th>\n",
       "      <td>66</td>\n",
       "      <td>0</td>\n",
       "    </tr>\n",
       "    <tr>\n",
       "      <th>1</th>\n",
       "      <td>70</td>\n",
       "      <td>1</td>\n",
       "    </tr>\n",
       "    <tr>\n",
       "      <th>2</th>\n",
       "      <td>69</td>\n",
       "      <td>0</td>\n",
       "    </tr>\n",
       "    <tr>\n",
       "      <th>3</th>\n",
       "      <td>68</td>\n",
       "      <td>0</td>\n",
       "    </tr>\n",
       "    <tr>\n",
       "      <th>4</th>\n",
       "      <td>67</td>\n",
       "      <td>0</td>\n",
       "    </tr>\n",
       "    <tr>\n",
       "      <th>5</th>\n",
       "      <td>72</td>\n",
       "      <td>0</td>\n",
       "    </tr>\n",
       "    <tr>\n",
       "      <th>6</th>\n",
       "      <td>73</td>\n",
       "      <td>0</td>\n",
       "    </tr>\n",
       "    <tr>\n",
       "      <th>7</th>\n",
       "      <td>70</td>\n",
       "      <td>0</td>\n",
       "    </tr>\n",
       "    <tr>\n",
       "      <th>8</th>\n",
       "      <td>57</td>\n",
       "      <td>1</td>\n",
       "    </tr>\n",
       "    <tr>\n",
       "      <th>9</th>\n",
       "      <td>63</td>\n",
       "      <td>1</td>\n",
       "    </tr>\n",
       "    <tr>\n",
       "      <th>10</th>\n",
       "      <td>70</td>\n",
       "      <td>1</td>\n",
       "    </tr>\n",
       "    <tr>\n",
       "      <th>11</th>\n",
       "      <td>78</td>\n",
       "      <td>0</td>\n",
       "    </tr>\n",
       "    <tr>\n",
       "      <th>12</th>\n",
       "      <td>67</td>\n",
       "      <td>0</td>\n",
       "    </tr>\n",
       "    <tr>\n",
       "      <th>13</th>\n",
       "      <td>53</td>\n",
       "      <td>1</td>\n",
       "    </tr>\n",
       "    <tr>\n",
       "      <th>14</th>\n",
       "      <td>67</td>\n",
       "      <td>0</td>\n",
       "    </tr>\n",
       "    <tr>\n",
       "      <th>15</th>\n",
       "      <td>75</td>\n",
       "      <td>0</td>\n",
       "    </tr>\n",
       "    <tr>\n",
       "      <th>16</th>\n",
       "      <td>70</td>\n",
       "      <td>0</td>\n",
       "    </tr>\n",
       "    <tr>\n",
       "      <th>17</th>\n",
       "      <td>81</td>\n",
       "      <td>0</td>\n",
       "    </tr>\n",
       "    <tr>\n",
       "      <th>18</th>\n",
       "      <td>76</td>\n",
       "      <td>0</td>\n",
       "    </tr>\n",
       "    <tr>\n",
       "      <th>19</th>\n",
       "      <td>79</td>\n",
       "      <td>0</td>\n",
       "    </tr>\n",
       "    <tr>\n",
       "      <th>20</th>\n",
       "      <td>75</td>\n",
       "      <td>1</td>\n",
       "    </tr>\n",
       "    <tr>\n",
       "      <th>21</th>\n",
       "      <td>76</td>\n",
       "      <td>0</td>\n",
       "    </tr>\n",
       "    <tr>\n",
       "      <th>22</th>\n",
       "      <td>58</td>\n",
       "      <td>1</td>\n",
       "    </tr>\n",
       "  </tbody>\n",
       "</table>\n",
       "</div>"
      ],
      "text/plain": [
       "    Temperature  Failure\n",
       "0            66        0\n",
       "1            70        1\n",
       "2            69        0\n",
       "3            68        0\n",
       "4            67        0\n",
       "5            72        0\n",
       "6            73        0\n",
       "7            70        0\n",
       "8            57        1\n",
       "9            63        1\n",
       "10           70        1\n",
       "11           78        0\n",
       "12           67        0\n",
       "13           53        1\n",
       "14           67        0\n",
       "15           75        0\n",
       "16           70        0\n",
       "17           81        0\n",
       "18           76        0\n",
       "19           79        0\n",
       "20           75        1\n",
       "21           76        0\n",
       "22           58        1"
      ]
     },
     "execution_count": 4,
     "metadata": {},
     "output_type": "execute_result"
    }
   ],
   "source": [
    "data = pd.read_csv(\"https://raw.githubusercontent.com/megan-owen/MAT328-Techniques_in_Data_Science/main/data/chall.txt\", \\\n",
    "                  sep = \"\\s+\", header = None, names = [\"Temperature\",\"Failure\"])\n",
    "data"
   ]
  },
  {
   "cell_type": "markdown",
   "metadata": {},
   "source": [
    "<details><summary>Answer:</summary>\n",
    "<code>data = pd.read_csv(\"chall.txt\",sep = \"\\s+\", header = None, names = [\"Temperature\", \"Failure\"])</code>\n",
    "</details>\n",
    "\n",
    "Create a scatter plot with temperature on the x axis and failure on the y axis."
   ]
  },
  {
   "cell_type": "code",
   "execution_count": 5,
   "metadata": {},
   "outputs": [
    {
     "data": {
      "text/plain": [
       "<seaborn.axisgrid.FacetGrid at 0x7fba7b1b46d0>"
      ]
     },
     "execution_count": 5,
     "metadata": {},
     "output_type": "execute_result"
    },
    {
     "data": {
      "image/png": "[encoded data removed]",
      "text/plain": [
       "<Figure size 360x360 with 1 Axes>"
      ]
     },
     "metadata": {
      "needs_background": "light"
     },
     "output_type": "display_data"
    }
   ],
   "source": [
    "sns.relplot(x = \"Temperature\", y = \"Failure\", data = data)"
   ]
  },
  {
   "cell_type": "markdown",
   "metadata": {},
   "source": [
    "What do you notice about the graph?\n",
    "\n",
    "### Section 2: Logistic regression\n",
    "\n",
    "We will now use statsmodel to fit a logistic regression model to the data.  Notice that the code is similar to when we fit a linear regression model to the data.  What is the independent variable?  What is the dependent variable?"
   ]
  },
  {
   "cell_type": "code",
   "execution_count": 6,
   "metadata": {},
   "outputs": [
    {
     "name": "stdout",
     "output_type": "stream",
     "text": [
      "Optimization terminated successfully.\n",
      "         Current function value: 0.441635\n",
      "         Iterations 7\n"
     ]
    },
    {
     "data": {
      "text/html": [
       "<table class=\"simpletable\">\n",
       "<caption>Logit Regression Results</caption>\n",
       "<tr>\n",
       "  <th>Dep. Variable:</th>        <td>Failure</td>     <th>  No. Observations:  </th>  <td>    23</td> \n",
       "</tr>\n",
       "<tr>\n",
       "  <th>Model:</th>                 <td>Logit</td>      <th>  Df Residuals:      </th>  <td>    21</td> \n",
       "</tr>\n",
       "<tr>\n",
       "  <th>Method:</th>                 <td>MLE</td>       <th>  Df Model:          </th>  <td>     1</td> \n",
       "</tr>\n",
       "<tr>\n",
       "  <th>Date:</th>            <td>Thu, 25 Mar 2021</td> <th>  Pseudo R-squ.:     </th>  <td>0.2813</td> \n",
       "</tr>\n",
       "<tr>\n",
       "  <th>Time:</th>                <td>19:55:21</td>     <th>  Log-Likelihood:    </th> <td> -10.158</td>\n",
       "</tr>\n",
       "<tr>\n",
       "  <th>converged:</th>             <td>True</td>       <th>  LL-Null:           </th> <td> -14.134</td>\n",
       "</tr>\n",
       "<tr>\n",
       "  <th>Covariance Type:</th>     <td>nonrobust</td>    <th>  LLR p-value:       </th> <td>0.004804</td>\n",
       "</tr>\n",
       "</table>\n",
       "<table class=\"simpletable\">\n",
       "<tr>\n",
       "       <td></td>          <th>coef</th>     <th>std err</th>      <th>z</th>      <th>P>|z|</th>  <th>[0.025</th>    <th>0.975]</th>  \n",
       "</tr>\n",
       "<tr>\n",
       "  <th>Intercept</th>   <td>   15.0429</td> <td>    7.379</td> <td>    2.039</td> <td> 0.041</td> <td>    0.581</td> <td>   29.505</td>\n",
       "</tr>\n",
       "<tr>\n",
       "  <th>Temperature</th> <td>   -0.2322</td> <td>    0.108</td> <td>   -2.145</td> <td> 0.032</td> <td>   -0.444</td> <td>   -0.020</td>\n",
       "</tr>\n",
       "</table>"
      ],
      "text/plain": [
       "<class 'statsmodels.iolib.summary.Summary'>\n",
       "\"\"\"\n",
       "                           Logit Regression Results                           \n",
       "==============================================================================\n",
       "Dep. Variable:                Failure   No. Observations:                   23\n",
       "Model:                          Logit   Df Residuals:                       21\n",
       "Method:                           MLE   Df Model:                            1\n",
       "Date:                Thu, 25 Mar 2021   Pseudo R-squ.:                  0.2813\n",
       "Time:                        19:55:21   Log-Likelihood:                -10.158\n",
       "converged:                       True   LL-Null:                       -14.134\n",
       "Covariance Type:            nonrobust   LLR p-value:                  0.004804\n",
       "===============================================================================\n",
       "                  coef    std err          z      P>|z|      [0.025      0.975]\n",
       "-------------------------------------------------------------------------------\n",
       "Intercept      15.0429      7.379      2.039      0.041       0.581      29.505\n",
       "Temperature    -0.2322      0.108     -2.145      0.032      -0.444      -0.020\n",
       "===============================================================================\n",
       "\"\"\""
      ]
     },
     "execution_count": 6,
     "metadata": {},
     "output_type": "execute_result"
    }
   ],
   "source": [
    "logit_model = smf.logit('Failure ~ Temperature',data).fit()\n",
    "logit_model.summary()"
   ]
  },
  {
   "cell_type": "markdown",
   "metadata": {},
   "source": [
    "Is there an R-squared value in the summary?  \n",
    "\n",
    "To get the formula for the model, we plug the intercept and variable coefficients into the sigmoid equation at the start of the lab.  The intercept coefficient 15.0429 replaces $\\beta_0$ and the temperature coefficient -0.2322 replaces $\\beta_1$.  $x_1$ will represent the temperature variable in the equation.\n",
    "\n",
    "$$y = \\frac{1}{1 + e^{-(15.0429 -0.2322x_1)}}$$\n",
    "\n",
    "\n",
    "There is another way to get the model parameters:"
   ]
  },
  {
   "cell_type": "code",
   "execution_count": 7,
   "metadata": {},
   "outputs": [
    {
     "data": {
      "text/plain": [
       "Intercept      15.042902\n",
       "Temperature    -0.232163\n",
       "dtype: float64"
      ]
     },
     "execution_count": 7,
     "metadata": {},
     "output_type": "execute_result"
    }
   ],
   "source": [
    "logit_model.params"
   ]
  },
  {
   "cell_type": "markdown",
   "metadata": {},
   "source": [
    "We can use these parameters to graph the model equation on the data.  \n",
    "\n",
    "First, create 200 evenly spaced x values (look at the data to see what their range should be): "
   ]
  },
  {
   "cell_type": "code",
   "execution_count": 8,
   "metadata": {},
   "outputs": [
    {
     "data": {
      "text/plain": [
       "array([50.        , 50.1758794 , 50.35175879, 50.52763819, 50.70351759,\n",
       "       50.87939698, 51.05527638, 51.23115578, 51.40703518, 51.58291457,\n",
       "       51.75879397, 51.93467337, 52.11055276, 52.28643216, 52.46231156,\n",
       "       52.63819095, 52.81407035, 52.98994975, 53.16582915, 53.34170854,\n",
       "       53.51758794, 53.69346734, 53.86934673, 54.04522613, 54.22110553,\n",
       "       54.39698492, 54.57286432, 54.74874372, 54.92462312, 55.10050251,\n",
       "       55.27638191, 55.45226131, 55.6281407 , 55.8040201 , 55.9798995 ,\n",
       "       56.15577889, 56.33165829, 56.50753769, 56.68341709, 56.85929648,\n",
       "       57.03517588, 57.21105528, 57.38693467, 57.56281407, 57.73869347,\n",
       "       57.91457286, 58.09045226, 58.26633166, 58.44221106, 58.61809045,\n",
       "       58.79396985, 58.96984925, 59.14572864, 59.32160804, 59.49748744,\n",
       "       59.67336683, 59.84924623, 60.02512563, 60.20100503, 60.37688442,\n",
       "       60.55276382, 60.72864322, 60.90452261, 61.08040201, 61.25628141,\n",
       "       61.4321608 , 61.6080402 , 61.7839196 , 61.95979899, 62.13567839,\n",
       "       62.31155779, 62.48743719, 62.66331658, 62.83919598, 63.01507538,\n",
       "       63.19095477, 63.36683417, 63.54271357, 63.71859296, 63.89447236,\n",
       "       64.07035176, 64.24623116, 64.42211055, 64.59798995, 64.77386935,\n",
       "       64.94974874, 65.12562814, 65.30150754, 65.47738693, 65.65326633,\n",
       "       65.82914573, 66.00502513, 66.18090452, 66.35678392, 66.53266332,\n",
       "       66.70854271, 66.88442211, 67.06030151, 67.2361809 , 67.4120603 ,\n",
       "       67.5879397 , 67.7638191 , 67.93969849, 68.11557789, 68.29145729,\n",
       "       68.46733668, 68.64321608, 68.81909548, 68.99497487, 69.17085427,\n",
       "       69.34673367, 69.52261307, 69.69849246, 69.87437186, 70.05025126,\n",
       "       70.22613065, 70.40201005, 70.57788945, 70.75376884, 70.92964824,\n",
       "       71.10552764, 71.28140704, 71.45728643, 71.63316583, 71.80904523,\n",
       "       71.98492462, 72.16080402, 72.33668342, 72.51256281, 72.68844221,\n",
       "       72.86432161, 73.04020101, 73.2160804 , 73.3919598 , 73.5678392 ,\n",
       "       73.74371859, 73.91959799, 74.09547739, 74.27135678, 74.44723618,\n",
       "       74.62311558, 74.79899497, 74.97487437, 75.15075377, 75.32663317,\n",
       "       75.50251256, 75.67839196, 75.85427136, 76.03015075, 76.20603015,\n",
       "       76.38190955, 76.55778894, 76.73366834, 76.90954774, 77.08542714,\n",
       "       77.26130653, 77.43718593, 77.61306533, 77.78894472, 77.96482412,\n",
       "       78.14070352, 78.31658291, 78.49246231, 78.66834171, 78.84422111,\n",
       "       79.0201005 , 79.1959799 , 79.3718593 , 79.54773869, 79.72361809,\n",
       "       79.89949749, 80.07537688, 80.25125628, 80.42713568, 80.60301508,\n",
       "       80.77889447, 80.95477387, 81.13065327, 81.30653266, 81.48241206,\n",
       "       81.65829146, 81.83417085, 82.01005025, 82.18592965, 82.36180905,\n",
       "       82.53768844, 82.71356784, 82.88944724, 83.06532663, 83.24120603,\n",
       "       83.41708543, 83.59296482, 83.76884422, 83.94472362, 84.12060302,\n",
       "       84.29648241, 84.47236181, 84.64824121, 84.8241206 , 85.        ])"
      ]
     },
     "execution_count": 8,
     "metadata": {},
     "output_type": "execute_result"
    }
   ],
   "source": [
    "x = np.linspace(50, 85, 200)\n",
    "x"
   ]
  },
  {
   "cell_type": "markdown",
   "metadata": {},
   "source": [
    "Next, we can compute $\\beta_0 + \\beta_1 x$ for all of these x values:"
   ]
  },
  {
   "cell_type": "code",
   "execution_count": 9,
   "metadata": {},
   "outputs": [
    {
     "data": {
      "text/plain": [
       "array([ 3.43476444,  3.39393179,  3.35309915,  3.31226651,  3.27143386,\n",
       "        3.23060122,  3.18976858,  3.14893593,  3.10810329,  3.06727065,\n",
       "        3.026438  ,  2.98560536,  2.94477272,  2.90394007,  2.86310743,\n",
       "        2.82227478,  2.78144214,  2.7406095 ,  2.69977685,  2.65894421,\n",
       "        2.61811157,  2.57727892,  2.53644628,  2.49561364,  2.45478099,\n",
       "        2.41394835,  2.37311571,  2.33228306,  2.29145042,  2.25061778,\n",
       "        2.20978513,  2.16895249,  2.12811985,  2.0872872 ,  2.04645456,\n",
       "        2.00562192,  1.96478927,  1.92395663,  1.88312399,  1.84229134,\n",
       "        1.8014587 ,  1.76062606,  1.71979341,  1.67896077,  1.63812812,\n",
       "        1.59729548,  1.55646284,  1.51563019,  1.47479755,  1.43396491,\n",
       "        1.39313226,  1.35229962,  1.31146698,  1.27063433,  1.22980169,\n",
       "        1.18896905,  1.1481364 ,  1.10730376,  1.06647112,  1.02563847,\n",
       "        0.98480583,  0.94397319,  0.90314054,  0.8623079 ,  0.82147526,\n",
       "        0.78064261,  0.73980997,  0.69897733,  0.65814468,  0.61731204,\n",
       "        0.57647939,  0.53564675,  0.49481411,  0.45398146,  0.41314882,\n",
       "        0.37231618,  0.33148353,  0.29065089,  0.24981825,  0.2089856 ,\n",
       "        0.16815296,  0.12732032,  0.08648767,  0.04565503,  0.00482239,\n",
       "       -0.03601026, -0.0768429 , -0.11767554, -0.15850819, -0.19934083,\n",
       "       -0.24017347, -0.28100612, -0.32183876, -0.3626714 , -0.40350405,\n",
       "       -0.44433669, -0.48516933, -0.52600198, -0.56683462, -0.60766727,\n",
       "       -0.64849991, -0.68933255, -0.7301652 , -0.77099784, -0.81183048,\n",
       "       -0.85266313, -0.89349577, -0.93432841, -0.97516106, -1.0159937 ,\n",
       "       -1.05682634, -1.09765899, -1.13849163, -1.17932427, -1.22015692,\n",
       "       -1.26098956, -1.3018222 , -1.34265485, -1.38348749, -1.42432013,\n",
       "       -1.46515278, -1.50598542, -1.54681806, -1.58765071, -1.62848335,\n",
       "       -1.669316  , -1.71014864, -1.75098128, -1.79181393, -1.83264657,\n",
       "       -1.87347921, -1.91431186, -1.9551445 , -1.99597714, -2.03680979,\n",
       "       -2.07764243, -2.11847507, -2.15930772, -2.20014036, -2.240973  ,\n",
       "       -2.28180565, -2.32263829, -2.36347093, -2.40430358, -2.44513622,\n",
       "       -2.48596886, -2.52680151, -2.56763415, -2.60846679, -2.64929944,\n",
       "       -2.69013208, -2.73096473, -2.77179737, -2.81263001, -2.85346266,\n",
       "       -2.8942953 , -2.93512794, -2.97596059, -3.01679323, -3.05762587,\n",
       "       -3.09845852, -3.13929116, -3.1801238 , -3.22095645, -3.26178909,\n",
       "       -3.30262173, -3.34345438, -3.38428702, -3.42511966, -3.46595231,\n",
       "       -3.50678495, -3.54761759, -3.58845024, -3.62928288, -3.67011552,\n",
       "       -3.71094817, -3.75178081, -3.79261345, -3.8334461 , -3.87427874,\n",
       "       -3.91511139, -3.95594403, -3.99677667, -4.03760932, -4.07844196,\n",
       "       -4.1192746 , -4.16010725, -4.20093989, -4.24177253, -4.28260518,\n",
       "       -4.32343782, -4.36427046, -4.40510311, -4.44593575, -4.48676839,\n",
       "       -4.52760104, -4.56843368, -4.60926632, -4.65009897, -4.69093161])"
      ]
     },
     "execution_count": 9,
     "metadata": {},
     "output_type": "execute_result"
    }
   ],
   "source": [
    "p = logit_model.params\n",
    "reg = p['Intercept'] + x*p['Temperature']\n",
    "reg"
   ]
  },
  {
   "cell_type": "markdown",
   "metadata": {},
   "source": [
    "Finally we can plug `reg` into the logistic equation to get the y values:"
   ]
  },
  {
   "cell_type": "code",
   "execution_count": 10,
   "metadata": {},
   "outputs": [
    {
     "data": {
      "text/plain": [
       "array([0.96877352, 0.96751435, 0.96620618, 0.96484724, 0.96343572,\n",
       "       0.96196975, 0.96044743, 0.95886677, 0.95722576, 0.95552232,\n",
       "       0.95375432, 0.95191957, 0.95001585, 0.94804087, 0.94599228,\n",
       "       0.94386771, 0.94166472, 0.93938081, 0.93701348, 0.93456013,\n",
       "       0.93201815, 0.9293849 , 0.92665767, 0.92383375, 0.92091037,\n",
       "       0.91788477, 0.91475413, 0.91151565, 0.90816649, 0.90470381,\n",
       "       0.90112478, 0.89742658, 0.89360639, 0.88966141, 0.88558888,\n",
       "       0.88138608, 0.87705033, 0.872579  , 0.86796954, 0.86321948,\n",
       "       0.85832641, 0.85328805, 0.84810222, 0.84276687, 0.83728007,\n",
       "       0.83164005, 0.82584521, 0.8198941 , 0.8137855 , 0.80751834,\n",
       "       0.80109182, 0.79450533, 0.78775853, 0.78085132, 0.77378386,\n",
       "       0.76655663, 0.75917036, 0.75162611, 0.74392524, 0.73606945,\n",
       "       0.72806076, 0.71990152, 0.71159446, 0.70314261, 0.69454941,\n",
       "       0.6858186 , 0.6769543 , 0.66796099, 0.65884349, 0.64960697,\n",
       "       0.64025691, 0.63079916, 0.62123986, 0.61158544, 0.60184267,\n",
       "       0.59201853, 0.5821203 , 0.57215547, 0.56213176, 0.55205707,\n",
       "       0.54193947, 0.53178715, 0.52160845, 0.51141178, 0.50120559,\n",
       "       0.49099841, 0.48079872, 0.47061502, 0.46045571, 0.45032916,\n",
       "       0.4402436 , 0.43020713, 0.42022769, 0.41031305, 0.40047075,\n",
       "       0.39070811, 0.38103221, 0.37144984, 0.36196754, 0.35259151,\n",
       "       0.34332766, 0.33418157, 0.32515848, 0.31626329, 0.30750057,\n",
       "       0.2988745 , 0.29038895, 0.2820474 , 0.27385299, 0.26580851,\n",
       "       0.25791641, 0.25017879, 0.24259741, 0.23517372, 0.22790884,\n",
       "       0.22080359, 0.2138585 , 0.20707381, 0.20044948, 0.19398522,\n",
       "       0.18768049, 0.18153452, 0.17554631, 0.16971468, 0.16403823,\n",
       "       0.1585154 , 0.15314444, 0.14792347, 0.14285047, 0.13792329,\n",
       "       0.13313966, 0.12849721, 0.12399349, 0.11962594, 0.11539198,\n",
       "       0.11128893, 0.10731407, 0.10346465, 0.09973789, 0.09613096,\n",
       "       0.09264106, 0.08926534, 0.08600097, 0.08284512, 0.07979496,\n",
       "       0.07684769, 0.07400052, 0.0712507 , 0.0685955 , 0.0660322 ,\n",
       "       0.06355816, 0.06117074, 0.05886736, 0.05664548, 0.0545026 ,\n",
       "       0.05243629, 0.05044413, 0.04852379, 0.04667295, 0.04488938,\n",
       "       0.04317088, 0.04151532, 0.03992059, 0.03838467, 0.03690557,\n",
       "       0.03548136, 0.03411016, 0.03279016, 0.03151957, 0.03029667,\n",
       "       0.02911979, 0.02798731, 0.02689765, 0.02584929, 0.02484075,\n",
       "       0.02387059, 0.02293743, 0.02203992, 0.02117677, 0.02034673,\n",
       "       0.01954856, 0.01878111, 0.01804323, 0.01733383, 0.01665185,\n",
       "       0.01599626, 0.01536608, 0.01476036, 0.01417817, 0.01361862,\n",
       "       0.01308086, 0.01256407, 0.01206744, 0.01159022, 0.01113165,\n",
       "       0.01069104, 0.01026768, 0.00986092, 0.00947012, 0.00909466])"
      ]
     },
     "execution_count": 10,
     "metadata": {},
     "output_type": "execute_result"
    }
   ],
   "source": [
    "y = 1/(1 + np.exp(-reg))\n",
    "y"
   ]
  },
  {
   "cell_type": "markdown",
   "metadata": {},
   "source": [
    "Plot another scatter plot of the data, plus the plot of our calculated x and y values:"
   ]
  },
  {
   "cell_type": "code",
   "execution_count": 11,
   "metadata": {},
   "outputs": [
    {
     "data": {
      "text/plain": [
       "[<matplotlib.lines.Line2D at 0x7fba7b2bfe20>]"
      ]
     },
     "execution_count": 11,
     "metadata": {},
     "output_type": "execute_result"
    },
    {
     "data": {
      "image/png": "[encoded data removed]",
      "text/plain": [
       "<Figure size 360x360 with 1 Axes>"
      ]
     },
     "metadata": {
      "needs_background": "light"
     },
     "output_type": "display_data"
    }
   ],
   "source": [
    "sns.relplot(x = \"Temperature\", y = \"Failure\", data = data)\n",
    "plt.plot(x,y)"
   ]
  },
  {
   "cell_type": "markdown",
   "metadata": {},
   "source": [
    "There are a few different ways to make predictions from the logistic regression function, but the easiest is to predict a 1 if the function (y) is > 0.5, predict a 0 if y is < 0.5 and predict either 0 or 1 (chosen randomly) if y = 0.5.\n",
    "\n",
    "### Section 3:  Confusion matrix\n",
    "\n",
    "One way to understand how well our model works is to make a *confusion table* or *confusion matrix*, which counts how many of each type of error there are.  We can create the table using the `pred_table()` function."
   ]
  },
  {
   "cell_type": "code",
   "execution_count": 12,
   "metadata": {},
   "outputs": [
    {
     "data": {
      "text/plain": [
       "array([[16.,  0.],\n",
       "       [ 3.,  4.]])"
      ]
     },
     "execution_count": 12,
     "metadata": {},
     "output_type": "execute_result"
    }
   ],
   "source": [
    "logit_model.pred_table()"
   ]
  },
  {
   "cell_type": "markdown",
   "metadata": {},
   "source": [
    "The confusion matrix can be read as follows:\n",
    "<code>   \n",
    "                        predicted\n",
    "             |    0           |      1      |\n",
    "             --------------------------------\n",
    "observed | 0 | true negative  | false positive\n",
    "         | 1 | false negative | true positive\n",
    "</code>\n"
   ]
  },
  {
   "cell_type": "markdown",
   "metadata": {},
   "source": [
    "How many correct predictions did the model make?   What kind of wrong predictions did the model make?"
   ]
  },
  {
   "cell_type": "markdown",
   "metadata": {},
   "source": [
    "### Section 4: Pima (Akimel Oʼodham) Indian Diabetes data\n",
    "\n",
    "The Akimel O'odham people, who were also known as the Pima Indians since European colonization of the US, currently have a high prevalence of diabetes.   A data set of different possible diabetes indicators and whether the person has diabetes is on [Kaggle](https://www.kaggle.com/uciml/pima-indians-diabetes-database) and can be download from [https://raw.githubusercontent.com/megan-owen/MAT328-Techniques_in_Data_Science/main/data/diabetes.csv](https://raw.githubusercontent.com/megan-owen/MAT328-Techniques_in_Data_Science/main/data/diabetes.csv).\n",
    "\n",
    "Read in the dataset."
   ]
  },
  {
   "cell_type": "code",
   "execution_count": 13,
   "metadata": {},
   "outputs": [
    {
     "data": {
      "text/html": [
       "<div>\n",
       "<style scoped>\n",
       "    .dataframe tbody tr th:only-of-type {\n",
       "        vertical-align: middle;\n",
       "    }\n",
       "\n",
       "    .dataframe tbody tr th {\n",
       "        vertical-align: top;\n",
       "    }\n",
       "\n",
       "    .dataframe thead th {\n",
       "        text-align: right;\n",
       "    }\n",
       "</style>\n",
       "<table border=\"1\" class=\"dataframe\">\n",
       "  <thead>\n",
       "    <tr style=\"text-align: right;\">\n",
       "      <th></th>\n",
       "      <th>Pregnancies</th>\n",
       "      <th>Glucose</th>\n",
       "      <th>BloodPressure</th>\n",
       "      <th>SkinThickness</th>\n",
       "      <th>Insulin</th>\n",
       "      <th>BMI</th>\n",
       "      <th>DiabetesPedigreeFunction</th>\n",
       "      <th>Age</th>\n",
       "      <th>Outcome</th>\n",
       "    </tr>\n",
       "  </thead>\n",
       "  <tbody>\n",
       "    <tr>\n",
       "      <th>0</th>\n",
       "      <td>6</td>\n",
       "      <td>148</td>\n",
       "      <td>72</td>\n",
       "      <td>35</td>\n",
       "      <td>0</td>\n",
       "      <td>33.6</td>\n",
       "      <td>0.627</td>\n",
       "      <td>50</td>\n",
       "      <td>1</td>\n",
       "    </tr>\n",
       "    <tr>\n",
       "      <th>1</th>\n",
       "      <td>1</td>\n",
       "      <td>85</td>\n",
       "      <td>66</td>\n",
       "      <td>29</td>\n",
       "      <td>0</td>\n",
       "      <td>26.6</td>\n",
       "      <td>0.351</td>\n",
       "      <td>31</td>\n",
       "      <td>0</td>\n",
       "    </tr>\n",
       "    <tr>\n",
       "      <th>2</th>\n",
       "      <td>8</td>\n",
       "      <td>183</td>\n",
       "      <td>64</td>\n",
       "      <td>0</td>\n",
       "      <td>0</td>\n",
       "      <td>23.3</td>\n",
       "      <td>0.672</td>\n",
       "      <td>32</td>\n",
       "      <td>1</td>\n",
       "    </tr>\n",
       "    <tr>\n",
       "      <th>3</th>\n",
       "      <td>1</td>\n",
       "      <td>89</td>\n",
       "      <td>66</td>\n",
       "      <td>23</td>\n",
       "      <td>94</td>\n",
       "      <td>28.1</td>\n",
       "      <td>0.167</td>\n",
       "      <td>21</td>\n",
       "      <td>0</td>\n",
       "    </tr>\n",
       "    <tr>\n",
       "      <th>4</th>\n",
       "      <td>0</td>\n",
       "      <td>137</td>\n",
       "      <td>40</td>\n",
       "      <td>35</td>\n",
       "      <td>168</td>\n",
       "      <td>43.1</td>\n",
       "      <td>2.288</td>\n",
       "      <td>33</td>\n",
       "      <td>1</td>\n",
       "    </tr>\n",
       "  </tbody>\n",
       "</table>\n",
       "</div>"
      ],
      "text/plain": [
       "   Pregnancies  Glucose  BloodPressure  SkinThickness  Insulin   BMI  \\\n",
       "0            6      148             72             35        0  33.6   \n",
       "1            1       85             66             29        0  26.6   \n",
       "2            8      183             64              0        0  23.3   \n",
       "3            1       89             66             23       94  28.1   \n",
       "4            0      137             40             35      168  43.1   \n",
       "\n",
       "   DiabetesPedigreeFunction  Age  Outcome  \n",
       "0                     0.627   50        1  \n",
       "1                     0.351   31        0  \n",
       "2                     0.672   32        1  \n",
       "3                     0.167   21        0  \n",
       "4                     2.288   33        1  "
      ]
     },
     "execution_count": 13,
     "metadata": {},
     "output_type": "execute_result"
    }
   ],
   "source": [
    "diabetes = pd.read_csv(\"https://raw.githubusercontent.com/megan-owen/MAT328-Techniques_in_Data_Science/main/data/diabetes.csv\")\n",
    "diabetes.head()"
   ]
  },
  {
   "cell_type": "markdown",
   "metadata": {},
   "source": [
    "Plot a scatter plot of the `Glucose` (x) vs. `Outcome` (y) columns.  The `Glucose` column is the plasma glucose concentration 2 hours after an oral glucose tolerance test, and measures how a person's body is able to handle a large amount of sugar."
   ]
  },
  {
   "cell_type": "code",
   "execution_count": 16,
   "metadata": {},
   "outputs": [
    {
     "data": {
      "text/plain": [
       "<seaborn.axisgrid.FacetGrid at 0x7fba7b2897f0>"
      ]
     },
     "execution_count": 16,
     "metadata": {},
     "output_type": "execute_result"
    },
    {
     "data": {
      "image/png": "[encoded data removed]",
      "text/plain": [
       "<Figure size 360x360 with 1 Axes>"
      ]
     },
     "metadata": {
      "needs_background": "light"
     },
     "output_type": "display_data"
    }
   ],
   "source": [
    "sns.relplot(x = \"Glucose\", y = \"Outcome\", data = diabetes, alpha = 0.3)"
   ]
  },
  {
   "cell_type": "markdown",
   "metadata": {},
   "source": [
    "Fit a logistic regression model to this data, using Glucose as the independent variable and Outcome as the dependent variable."
   ]
  },
  {
   "cell_type": "code",
   "execution_count": 18,
   "metadata": {},
   "outputs": [
    {
     "name": "stdout",
     "output_type": "stream",
     "text": [
      "Optimization terminated successfully.\n",
      "         Current function value: 0.526510\n",
      "         Iterations 6\n"
     ]
    },
    {
     "data": {
      "text/html": [
       "<table class=\"simpletable\">\n",
       "<caption>Logit Regression Results</caption>\n",
       "<tr>\n",
       "  <th>Dep. Variable:</th>        <td>Outcome</td>     <th>  No. Observations:  </th>  <td>   768</td>  \n",
       "</tr>\n",
       "<tr>\n",
       "  <th>Model:</th>                 <td>Logit</td>      <th>  Df Residuals:      </th>  <td>   766</td>  \n",
       "</tr>\n",
       "<tr>\n",
       "  <th>Method:</th>                 <td>MLE</td>       <th>  Df Model:          </th>  <td>     1</td>  \n",
       "</tr>\n",
       "<tr>\n",
       "  <th>Date:</th>            <td>Thu, 25 Mar 2021</td> <th>  Pseudo R-squ.:     </th>  <td>0.1860</td>  \n",
       "</tr>\n",
       "<tr>\n",
       "  <th>Time:</th>                <td>20:06:43</td>     <th>  Log-Likelihood:    </th> <td> -404.36</td> \n",
       "</tr>\n",
       "<tr>\n",
       "  <th>converged:</th>             <td>True</td>       <th>  LL-Null:           </th> <td> -496.74</td> \n",
       "</tr>\n",
       "<tr>\n",
       "  <th>Covariance Type:</th>     <td>nonrobust</td>    <th>  LLR p-value:       </th> <td>4.418e-42</td>\n",
       "</tr>\n",
       "</table>\n",
       "<table class=\"simpletable\">\n",
       "<tr>\n",
       "      <td></td>         <th>coef</th>     <th>std err</th>      <th>z</th>      <th>P>|z|</th>  <th>[0.025</th>    <th>0.975]</th>  \n",
       "</tr>\n",
       "<tr>\n",
       "  <th>Intercept</th> <td>   -5.3501</td> <td>    0.421</td> <td>  -12.713</td> <td> 0.000</td> <td>   -6.175</td> <td>   -4.525</td>\n",
       "</tr>\n",
       "<tr>\n",
       "  <th>Glucose</th>   <td>    0.0379</td> <td>    0.003</td> <td>   11.647</td> <td> 0.000</td> <td>    0.031</td> <td>    0.044</td>\n",
       "</tr>\n",
       "</table>"
      ],
      "text/plain": [
       "<class 'statsmodels.iolib.summary.Summary'>\n",
       "\"\"\"\n",
       "                           Logit Regression Results                           \n",
       "==============================================================================\n",
       "Dep. Variable:                Outcome   No. Observations:                  768\n",
       "Model:                          Logit   Df Residuals:                      766\n",
       "Method:                           MLE   Df Model:                            1\n",
       "Date:                Thu, 25 Mar 2021   Pseudo R-squ.:                  0.1860\n",
       "Time:                        20:06:43   Log-Likelihood:                -404.36\n",
       "converged:                       True   LL-Null:                       -496.74\n",
       "Covariance Type:            nonrobust   LLR p-value:                 4.418e-42\n",
       "==============================================================================\n",
       "                 coef    std err          z      P>|z|      [0.025      0.975]\n",
       "------------------------------------------------------------------------------\n",
       "Intercept     -5.3501      0.421    -12.713      0.000      -6.175      -4.525\n",
       "Glucose        0.0379      0.003     11.647      0.000       0.031       0.044\n",
       "==============================================================================\n",
       "\"\"\""
      ]
     },
     "execution_count": 18,
     "metadata": {},
     "output_type": "execute_result"
    }
   ],
   "source": [
    "logit_model2 = smf.logit(\"Outcome ~ Glucose\", diabetes).fit()\n",
    "logit_model2.summary()"
   ]
  },
  {
   "cell_type": "markdown",
   "metadata": {},
   "source": [
    "What is the equation of the logistic regression model?\n",
    "\n",
    "<details><summary>Answer:</summary>\n",
    "$$y = \\frac{1}{1 + e^{-(-5.3501 + 0.0379x)}}$$\n",
    "</details>\n",
    "\n",
    "Plot the model equation on top of your scatter plot."
   ]
  },
  {
   "cell_type": "code",
   "execution_count": 19,
   "metadata": {},
   "outputs": [
    {
     "data": {
      "text/plain": [
       "array([  0.        ,   0.84337349,   1.68674699,   2.53012048,\n",
       "         3.37349398,   4.21686747,   5.06024096,   5.90361446,\n",
       "         6.74698795,   7.59036145,   8.43373494,   9.27710843,\n",
       "        10.12048193,  10.96385542,  11.80722892,  12.65060241,\n",
       "        13.4939759 ,  14.3373494 ,  15.18072289,  16.02409639,\n",
       "        16.86746988,  17.71084337,  18.55421687,  19.39759036,\n",
       "        20.24096386,  21.08433735,  21.92771084,  22.77108434,\n",
       "        23.61445783,  24.45783133,  25.30120482,  26.14457831,\n",
       "        26.98795181,  27.8313253 ,  28.6746988 ,  29.51807229,\n",
       "        30.36144578,  31.20481928,  32.04819277,  32.89156627,\n",
       "        33.73493976,  34.57831325,  35.42168675,  36.26506024,\n",
       "        37.10843373,  37.95180723,  38.79518072,  39.63855422,\n",
       "        40.48192771,  41.3253012 ,  42.1686747 ,  43.01204819,\n",
       "        43.85542169,  44.69879518,  45.54216867,  46.38554217,\n",
       "        47.22891566,  48.07228916,  48.91566265,  49.75903614,\n",
       "        50.60240964,  51.44578313,  52.28915663,  53.13253012,\n",
       "        53.97590361,  54.81927711,  55.6626506 ,  56.5060241 ,\n",
       "        57.34939759,  58.19277108,  59.03614458,  59.87951807,\n",
       "        60.72289157,  61.56626506,  62.40963855,  63.25301205,\n",
       "        64.09638554,  64.93975904,  65.78313253,  66.62650602,\n",
       "        67.46987952,  68.31325301,  69.15662651,  70.        ,\n",
       "        70.84337349,  71.68674699,  72.53012048,  73.37349398,\n",
       "        74.21686747,  75.06024096,  75.90361446,  76.74698795,\n",
       "        77.59036145,  78.43373494,  79.27710843,  80.12048193,\n",
       "        80.96385542,  81.80722892,  82.65060241,  83.4939759 ,\n",
       "        84.3373494 ,  85.18072289,  86.02409639,  86.86746988,\n",
       "        87.71084337,  88.55421687,  89.39759036,  90.24096386,\n",
       "        91.08433735,  91.92771084,  92.77108434,  93.61445783,\n",
       "        94.45783133,  95.30120482,  96.14457831,  96.98795181,\n",
       "        97.8313253 ,  98.6746988 ,  99.51807229, 100.36144578,\n",
       "       101.20481928, 102.04819277, 102.89156627, 103.73493976,\n",
       "       104.57831325, 105.42168675, 106.26506024, 107.10843373,\n",
       "       107.95180723, 108.79518072, 109.63855422, 110.48192771,\n",
       "       111.3253012 , 112.1686747 , 113.01204819, 113.85542169,\n",
       "       114.69879518, 115.54216867, 116.38554217, 117.22891566,\n",
       "       118.07228916, 118.91566265, 119.75903614, 120.60240964,\n",
       "       121.44578313, 122.28915663, 123.13253012, 123.97590361,\n",
       "       124.81927711, 125.6626506 , 126.5060241 , 127.34939759,\n",
       "       128.19277108, 129.03614458, 129.87951807, 130.72289157,\n",
       "       131.56626506, 132.40963855, 133.25301205, 134.09638554,\n",
       "       134.93975904, 135.78313253, 136.62650602, 137.46987952,\n",
       "       138.31325301, 139.15662651, 140.        , 140.84337349,\n",
       "       141.68674699, 142.53012048, 143.37349398, 144.21686747,\n",
       "       145.06024096, 145.90361446, 146.74698795, 147.59036145,\n",
       "       148.43373494, 149.27710843, 150.12048193, 150.96385542,\n",
       "       151.80722892, 152.65060241, 153.4939759 , 154.3373494 ,\n",
       "       155.18072289, 156.02409639, 156.86746988, 157.71084337,\n",
       "       158.55421687, 159.39759036, 160.24096386, 161.08433735,\n",
       "       161.92771084, 162.77108434, 163.61445783, 164.45783133,\n",
       "       165.30120482, 166.14457831, 166.98795181, 167.8313253 ,\n",
       "       168.6746988 , 169.51807229, 170.36144578, 171.20481928,\n",
       "       172.04819277, 172.89156627, 173.73493976, 174.57831325,\n",
       "       175.42168675, 176.26506024, 177.10843373, 177.95180723,\n",
       "       178.79518072, 179.63855422, 180.48192771, 181.3253012 ,\n",
       "       182.1686747 , 183.01204819, 183.85542169, 184.69879518,\n",
       "       185.54216867, 186.38554217, 187.22891566, 188.07228916,\n",
       "       188.91566265, 189.75903614, 190.60240964, 191.44578313,\n",
       "       192.28915663, 193.13253012, 193.97590361, 194.81927711,\n",
       "       195.6626506 , 196.5060241 , 197.34939759, 198.19277108,\n",
       "       199.03614458, 199.87951807, 200.72289157, 201.56626506,\n",
       "       202.40963855, 203.25301205, 204.09638554, 204.93975904,\n",
       "       205.78313253, 206.62650602, 207.46987952, 208.31325301,\n",
       "       209.15662651, 210.        ])"
      ]
     },
     "execution_count": 19,
     "metadata": {},
     "output_type": "execute_result"
    }
   ],
   "source": [
    "x2 = np.linspace(0,210,250)\n",
    "x2"
   ]
  },
  {
   "cell_type": "code",
   "execution_count": 21,
   "metadata": {},
   "outputs": [
    {
     "data": {
      "text/plain": [
       "array([-5.35008039, -5.31813928, -5.28619816, -5.25425705, -5.22231593,\n",
       "       -5.19037482, -5.1584337 , -5.12649259, -5.09455147, -5.06261036,\n",
       "       -5.03066924, -4.99872813, -4.96678701, -4.9348459 , -4.90290478,\n",
       "       -4.87096367, -4.83902255, -4.80708144, -4.77514033, -4.74319921,\n",
       "       -4.7112581 , -4.67931698, -4.64737587, -4.61543475, -4.58349364,\n",
       "       -4.55155252, -4.51961141, -4.48767029, -4.45572918, -4.42378806,\n",
       "       -4.39184695, -4.35990583, -4.32796472, -4.2960236 , -4.26408249,\n",
       "       -4.23214137, -4.20020026, -4.16825914, -4.13631803, -4.10437691,\n",
       "       -4.0724358 , -4.04049468, -4.00855357, -3.97661245, -3.94467134,\n",
       "       -3.91273022, -3.88078911, -3.848848  , -3.81690688, -3.78496577,\n",
       "       -3.75302465, -3.72108354, -3.68914242, -3.65720131, -3.62526019,\n",
       "       -3.59331908, -3.56137796, -3.52943685, -3.49749573, -3.46555462,\n",
       "       -3.4336135 , -3.40167239, -3.36973127, -3.33779016, -3.30584904,\n",
       "       -3.27390793, -3.24196681, -3.2100257 , -3.17808458, -3.14614347,\n",
       "       -3.11420235, -3.08226124, -3.05032012, -3.01837901, -2.98643789,\n",
       "       -2.95449678, -2.92255567, -2.89061455, -2.85867344, -2.82673232,\n",
       "       -2.79479121, -2.76285009, -2.73090898, -2.69896786, -2.66702675,\n",
       "       -2.63508563, -2.60314452, -2.5712034 , -2.53926229, -2.50732117,\n",
       "       -2.47538006, -2.44343894, -2.41149783, -2.37955671, -2.3476156 ,\n",
       "       -2.31567448, -2.28373337, -2.25179225, -2.21985114, -2.18791002,\n",
       "       -2.15596891, -2.12402779, -2.09208668, -2.06014557, -2.02820445,\n",
       "       -1.99626334, -1.96432222, -1.93238111, -1.90043999, -1.86849888,\n",
       "       -1.83655776, -1.80461665, -1.77267553, -1.74073442, -1.7087933 ,\n",
       "       -1.67685219, -1.64491107, -1.61296996, -1.58102884, -1.54908773,\n",
       "       -1.51714661, -1.4852055 , -1.45326438, -1.42132327, -1.38938215,\n",
       "       -1.35744104, -1.32549992, -1.29355881, -1.26161769, -1.22967658,\n",
       "       -1.19773546, -1.16579435, -1.13385324, -1.10191212, -1.06997101,\n",
       "       -1.03802989, -1.00608878, -0.97414766, -0.94220655, -0.91026543,\n",
       "       -0.87832432, -0.8463832 , -0.81444209, -0.78250097, -0.75055986,\n",
       "       -0.71861874, -0.68667763, -0.65473651, -0.6227954 , -0.59085428,\n",
       "       -0.55891317, -0.52697205, -0.49503094, -0.46308982, -0.43114871,\n",
       "       -0.39920759, -0.36726648, -0.33532536, -0.30338425, -0.27144313,\n",
       "       -0.23950202, -0.20756091, -0.17561979, -0.14367868, -0.11173756,\n",
       "       -0.07979645, -0.04785533, -0.01591422,  0.0160269 ,  0.04796801,\n",
       "        0.07990913,  0.11185024,  0.14379136,  0.17573247,  0.20767359,\n",
       "        0.2396147 ,  0.27155582,  0.30349693,  0.33543805,  0.36737916,\n",
       "        0.39932028,  0.43126139,  0.46320251,  0.49514362,  0.52708474,\n",
       "        0.55902585,  0.59096697,  0.62290808,  0.6548492 ,  0.68679031,\n",
       "        0.71873142,  0.75067254,  0.78261365,  0.81455477,  0.84649588,\n",
       "        0.878437  ,  0.91037811,  0.94231923,  0.97426034,  1.00620146,\n",
       "        1.03814257,  1.07008369,  1.1020248 ,  1.13396592,  1.16590703,\n",
       "        1.19784815,  1.22978926,  1.26173038,  1.29367149,  1.32561261,\n",
       "        1.35755372,  1.38949484,  1.42143595,  1.45337707,  1.48531818,\n",
       "        1.5172593 ,  1.54920041,  1.58114153,  1.61308264,  1.64502375,\n",
       "        1.67696487,  1.70890598,  1.7408471 ,  1.77278821,  1.80472933,\n",
       "        1.83667044,  1.86861156,  1.90055267,  1.93249379,  1.9644349 ,\n",
       "        1.99637602,  2.02831713,  2.06025825,  2.09219936,  2.12414048,\n",
       "        2.15608159,  2.18802271,  2.21996382,  2.25190494,  2.28384605,\n",
       "        2.31578717,  2.34772828,  2.3796694 ,  2.41161051,  2.44355163,\n",
       "        2.47549274,  2.50743386,  2.53937497,  2.57131608,  2.6032572 ])"
      ]
     },
     "execution_count": 21,
     "metadata": {},
     "output_type": "execute_result"
    }
   ],
   "source": [
    "p2 = logit_model2.params\n",
    "reg2 = p2[\"Intercept\"] + p2[\"Glucose\"]*x2\n",
    "reg2"
   ]
  },
  {
   "cell_type": "code",
   "execution_count": 22,
   "metadata": {},
   "outputs": [],
   "source": [
    "y2 = 1/(1 + np.exp(-reg2))"
   ]
  },
  {
   "cell_type": "markdown",
   "metadata": {},
   "source": [
    "We can also plot the logistic regression model using Seaborn's `regplot()`.  Use `regplot()` as if you were doing linear regression on the variables, but add in the parameter `logistic = True`."
   ]
  },
  {
   "cell_type": "code",
   "execution_count": 26,
   "metadata": {},
   "outputs": [
    {
     "data": {
      "text/plain": [
       "[<matplotlib.lines.Line2D at 0x7fba7bb6d160>]"
      ]
     },
     "execution_count": 26,
     "metadata": {},
     "output_type": "execute_result"
    },
    {
     "data": {
      "image/png": "[encoded data removed]",
      "text/plain": [
       "<Figure size 360x360 with 1 Axes>"
      ]
     },
     "metadata": {
      "needs_background": "light"
     },
     "output_type": "display_data"
    }
   ],
   "source": [
    "sns.relplot(x = \"Glucose\", y = \"Outcome\", data = diabetes, alpha = 0.3)\n",
    "plt.plot(x2,y2)"
   ]
  },
  {
   "cell_type": "code",
   "execution_count": 27,
   "metadata": {},
   "outputs": [
    {
     "data": {
      "text/plain": [
       "<AxesSubplot:xlabel='Glucose', ylabel='Outcome'>"
      ]
     },
     "execution_count": 27,
     "metadata": {},
     "output_type": "execute_result"
    },
    {
     "data": {
      "image/png": "[encoded data removed]",
      "text/plain": [
       "<Figure size 432x288 with 1 Axes>"
      ]
     },
     "metadata": {
      "needs_background": "light"
     },
     "output_type": "display_data"
    }
   ],
   "source": [
    "sns.regplot(x = \"Glucose\", y = \"Outcome\", data = diabetes, logistic = True)"
   ]
  },
  {
   "cell_type": "markdown",
   "metadata": {},
   "source": [
    "Compute the confusion matrix for this model.  What does it tell you about the fit of this model?"
   ]
  },
  {
   "cell_type": "code",
   "execution_count": 28,
   "metadata": {},
   "outputs": [
    {
     "data": {
      "text/plain": [
       "array([[443.,  57.],\n",
       "       [138., 130.]])"
      ]
     },
     "execution_count": 28,
     "metadata": {},
     "output_type": "execute_result"
    }
   ],
   "source": [
    "logit_model2.pred_table()"
   ]
  },
  {
   "cell_type": "code",
   "execution_count": null,
   "metadata": {},
   "outputs": [],
   "source": []
  }
 ],
 "metadata": {
  "kernelspec": {
   "display_name": "Python 3",
   "language": "python",
   "name": "python3"
  },
  "language_info": {
   "codemirror_mode": {
    "name": "ipython",
    "version": 3
   },
   "file_extension": ".py",
   "mimetype": "text/x-python",
   "name": "python",
   "nbconvert_exporter": "python",
   "pygments_lexer": "ipython3",
   "version": "3.8.5"
  }
 },
 "nbformat": 4,
 "nbformat_minor": 2
}
