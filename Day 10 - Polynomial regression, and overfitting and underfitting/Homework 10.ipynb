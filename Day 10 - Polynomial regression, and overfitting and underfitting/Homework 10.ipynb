{
 "cells": [
  {
   "cell_type": "markdown",
   "metadata": {},
   "source": [
    "Marcos Gonzalez  \n",
    "Homework #10  \n",
    "3/11/21"
   ]
  },
  {
   "cell_type": "markdown",
   "metadata": {},
   "source": [
    "# Homework 10\n",
    "\n",
    "The following code simulates 30 data points for training your models (stored in DataFrame `df`) and 30 data points for testing your models (stored in DataFrame `df_test`).  Both sets of data are simulated from the same distribution.\n",
    "\n",
    "All questions should be answered fully, which may mean both code and a written answer.\n",
    "\n",
    "### Question 0:  Simulate the data\n",
    "Run the following code to simulate training data (in DataFrame `df`) and testing data (in DataFrame `df_test`)."
   ]
  },
  {
   "cell_type": "code",
   "execution_count": 4,
   "metadata": {},
   "outputs": [],
   "source": [
    "import pandas as pd\n",
    "import matplotlib.pyplot as plt\n",
    "import seaborn as sns\n",
    "import numpy as np\n",
    "from sklearn.model_selection import train_test_split\n",
    "from sklearn.preprocessing import PolynomialFeatures\n",
    "from sklearn.linear_model import LinearRegression\n",
    "from sklearn.metrics import mean_squared_error\n",
    "\n",
    "%matplotlib inline"
   ]
  },
  {
   "cell_type": "code",
   "execution_count": 5,
   "metadata": {},
   "outputs": [],
   "source": [
    "# number of data points\n",
    "n = 30\n",
    "\n",
    "# variance of noise added to data\n",
    "noise_std = 0.3\n",
    "\n",
    "x_data = np.random.uniform(-5, 5, n)\n",
    "x_data_test = np.random.uniform(-5, 5, n)\n",
    "\n",
    "# define a function relating input to output\n",
    "f = lambda x: -0.2 * x**2\n",
    "\n",
    "# generate noisy data from the function\n",
    "\n",
    "y_data = f(x_data) + np.random.normal(0, noise_std, n)\n",
    "y_data_test = f(x_data_test) + np.random.normal(0, noise_std, n)\n",
    "\n",
    "data = {\"x\": x_data, \"y\": y_data}\n",
    "data_test = {\"x\": x_data_test, \"y\": y_data_test}\n",
    "df = pd.DataFrame(data).sort_values(\"x\")\n",
    "df_test = pd.DataFrame(data_test).sort_values(\"x\")"
   ]
  },
  {
   "cell_type": "markdown",
   "metadata": {},
   "source": [
    "### Question 1\n",
    "\n",
    "Plot the training data on a scatterplot.  What shape does it have?"
   ]
  },
  {
   "cell_type": "code",
   "execution_count": 8,
   "metadata": {},
   "outputs": [
    {
     "data": {
      "text/plain": [
       "<seaborn.axisgrid.FacetGrid at 0x7ff604e83dc0>"
      ]
     },
     "execution_count": 8,
     "metadata": {},
     "output_type": "execute_result"
    },
    {
     "data": {
      "image/png": "[encoded data removed]",
      "text/plain": [
       "<Figure size 360x360 with 1 Axes>"
      ]
     },
     "metadata": {
      "needs_background": "light"
     },
     "output_type": "display_data"
    }
   ],
   "source": [
    "sns.relplot(x = \"x\", y = \"y\", data = df)"
   ]
  },
  {
   "cell_type": "markdown",
   "metadata": {},
   "source": [
    "It kinda makes parabola shape that has been broken off on the right side."
   ]
  },
  {
   "cell_type": "markdown",
   "metadata": {},
   "source": [
    "### Question 2\n",
    "\n",
    "a) Fit a linear regression model to the training data."
   ]
  },
  {
   "cell_type": "code",
   "execution_count": 19,
   "metadata": {},
   "outputs": [],
   "source": [
    "model = LinearRegression()"
   ]
  },
  {
   "cell_type": "code",
   "execution_count": 20,
   "metadata": {},
   "outputs": [
    {
     "data": {
      "text/plain": [
       "LinearRegression()"
      ]
     },
     "execution_count": 20,
     "metadata": {},
     "output_type": "execute_result"
    }
   ],
   "source": [
    "model.fit(df[[\"x\"]],df[\"y\"])"
   ]
  },
  {
   "cell_type": "code",
   "execution_count": 21,
   "metadata": {},
   "outputs": [
    {
     "data": {
      "text/plain": [
       "array([-2.02983542, -1.99365242, -1.95671595, -1.94650901, -1.92867495,\n",
       "       -1.9197632 , -1.9056892 , -1.78949258, -1.76495137, -1.65299259,\n",
       "       -1.54108939, -1.50690468, -1.50630085, -1.49049786, -1.47680372,\n",
       "       -1.41636446, -1.34634506, -1.32941914, -1.28337666, -1.27383751,\n",
       "       -1.22124534, -1.20485987, -1.20019038, -1.18767384, -1.12693006,\n",
       "       -1.00847847, -0.99298072, -0.95980378, -0.62731407, -0.61208133])"
      ]
     },
     "execution_count": 21,
     "metadata": {},
     "output_type": "execute_result"
    }
   ],
   "source": [
    "y_pred = model.predict(df[[\"x\"]])\n",
    "y_pred"
   ]
  },
  {
   "cell_type": "markdown",
   "metadata": {},
   "source": [
    "2b) Plot this linear model on a scatter plot of the testing data.  How well does this linear model fit the test data?"
   ]
  },
  {
   "cell_type": "code",
   "execution_count": 23,
   "metadata": {},
   "outputs": [
    {
     "data": {
      "text/plain": [
       "[<matplotlib.lines.Line2D at 0x7ff6052eda30>]"
      ]
     },
     "execution_count": 23,
     "metadata": {},
     "output_type": "execute_result"
    },
    {
     "data": {
      "image/png": "[encoded data removed]",
      "text/plain": [
       "<Figure size 360x360 with 1 Axes>"
      ]
     },
     "metadata": {
      "needs_background": "light"
     },
     "output_type": "display_data"
    }
   ],
   "source": [
    "sns.relplot(x = \"x\",y = \"y\", data = df_test)\n",
    "plt.plot(df[\"x\"], y_pred)"
   ]
  },
  {
   "cell_type": "markdown",
   "metadata": {},
   "source": [
    "It doesn't really seem like a good linear model fit for the test data."
   ]
  },
  {
   "cell_type": "markdown",
   "metadata": {},
   "source": [
    "2c) Predict the `y` values for the testing data using your linear model, and compute the mean squared error of these predictions.  "
   ]
  },
  {
   "cell_type": "code",
   "execution_count": 24,
   "metadata": {},
   "outputs": [
    {
     "data": {
      "text/plain": [
       "2.9165397169938174"
      ]
     },
     "execution_count": 24,
     "metadata": {},
     "output_type": "execute_result"
    }
   ],
   "source": [
    "mean_squared_error(df_test[\"y\"],y_pred)"
   ]
  },
  {
   "cell_type": "markdown",
   "metadata": {},
   "source": [
    "### Question 3\n",
    "a) Fit a polynomial model of degree 2 to the training data."
   ]
  },
  {
   "cell_type": "code",
   "execution_count": 26,
   "metadata": {},
   "outputs": [
    {
     "data": {
      "text/plain": [
       "LinearRegression()"
      ]
     },
     "execution_count": 26,
     "metadata": {},
     "output_type": "execute_result"
    }
   ],
   "source": [
    "polynomial_features = PolynomialFeatures(degree=2)\n",
    "x_poly = polynomial_features.fit_transform(df[[\"x\"]])\n",
    "\n",
    "model2 = LinearRegression()\n",
    "model2.fit(x_poly, df[\"y\"])"
   ]
  },
  {
   "cell_type": "code",
   "execution_count": 28,
   "metadata": {},
   "outputs": [
    {
     "data": {
      "text/plain": [
       "array([-4.56671836, -4.08035676, -3.61104381, -3.48619697, -3.27309068,\n",
       "       -3.16899898, -3.00786614, -1.82985133, -1.61580458, -0.79308768,\n",
       "       -0.22285538, -0.09891032, -0.09693237, -0.0477758 , -0.00924362,\n",
       "        0.11573258,  0.16860067,  0.16657219,  0.13188064,  0.11935802,\n",
       "        0.01743635, -0.02569112, -0.0389708 , -0.07673141, -0.30476629,\n",
       "       -0.96302675, -1.07004005, -1.31537948, -4.99751138, -5.21950427])"
      ]
     },
     "execution_count": 28,
     "metadata": {},
     "output_type": "execute_result"
    }
   ],
   "source": [
    "y_pred2 = model2.predict(x_poly)\n",
    "y_pred2"
   ]
  },
  {
   "cell_type": "markdown",
   "metadata": {},
   "source": [
    "3b) Plot this polynomial degree 2 model on a scatter plot of the testing data.  How well does this polynomial degree 2 model fit the test data?"
   ]
  },
  {
   "cell_type": "code",
   "execution_count": 29,
   "metadata": {},
   "outputs": [
    {
     "data": {
      "text/plain": [
       "[<matplotlib.lines.Line2D at 0x7ff6052e5490>]"
      ]
     },
     "execution_count": 29,
     "metadata": {},
     "output_type": "execute_result"
    },
    {
     "data": {
      "image/png": "[encoded data removed]",
      "text/plain": [
       "<Figure size 360x360 with 1 Axes>"
      ]
     },
     "metadata": {
      "needs_background": "light"
     },
     "output_type": "display_data"
    }
   ],
   "source": [
    "sns.relplot(x = \"x\",y = \"y\", data = df_test)\n",
    "plt.plot(df[\"x\"], y_pred2)"
   ]
  },
  {
   "cell_type": "markdown",
   "metadata": {},
   "source": [
    "This seems like better fit compared to the previous one."
   ]
  },
  {
   "cell_type": "markdown",
   "metadata": {},
   "source": [
    "3c) Predict the `y` values for the testing data using your polynomial degree 2 model, and compute the mean squared error of these predictions.   How does this mean squared error compare to the mean squared error of your linear model?  What can you conclude about the two models based on this? "
   ]
  },
  {
   "cell_type": "code",
   "execution_count": 30,
   "metadata": {},
   "outputs": [
    {
     "data": {
      "text/plain": [
       "0.7392206276194685"
      ]
     },
     "execution_count": 30,
     "metadata": {},
     "output_type": "execute_result"
    }
   ],
   "source": [
    "mean_squared_error(df_test[\"y\"],y_pred2)"
   ]
  },
  {
   "cell_type": "markdown",
   "metadata": {},
   "source": [
    "This mean squared error is smaller compared to the linear model's mean squared error."
   ]
  },
  {
   "cell_type": "markdown",
   "metadata": {},
   "source": [
    "### Question 4\n",
    "a) Fit a polynomial model of degree 20 to the training data."
   ]
  },
  {
   "cell_type": "code",
   "execution_count": 31,
   "metadata": {},
   "outputs": [
    {
     "data": {
      "text/plain": [
       "LinearRegression()"
      ]
     },
     "execution_count": 31,
     "metadata": {},
     "output_type": "execute_result"
    }
   ],
   "source": [
    "polynomial_features2 = PolynomialFeatures(degree=20)\n",
    "x_poly2 = polynomial_features2.fit_transform(df[[\"x\"]])\n",
    "\n",
    "model3 = LinearRegression()\n",
    "model3.fit(x_poly2, df[\"y\"])"
   ]
  },
  {
   "cell_type": "code",
   "execution_count": 32,
   "metadata": {},
   "outputs": [
    {
     "data": {
      "text/plain": [
       "array([-4.5247094 , -3.98365763, -3.71580907, -3.43814342, -3.04156695,\n",
       "       -3.01893663, -3.27259339, -1.89799284, -1.36540017, -1.23198472,\n",
       "        0.16866113, -0.26769481, -0.27333407, -0.37855671, -0.40054052,\n",
       "       -0.02147428,  0.28003388,  0.29990185,  0.28185998,  0.26098949,\n",
       "        0.13012231,  0.13133297,  0.13611086,  0.15096085, -0.58834988,\n",
       "       -0.85384956, -0.98839671, -1.4316594 , -4.91525335, -5.43084364])"
      ]
     },
     "execution_count": 32,
     "metadata": {},
     "output_type": "execute_result"
    }
   ],
   "source": [
    "y_pred3 = model3.predict(x_poly2)\n",
    "y_pred3"
   ]
  },
  {
   "cell_type": "markdown",
   "metadata": {},
   "source": [
    "4b) Plot this polynomial degree 20 model on a scatter plot of the testing data.  How well does this polynomial degree 20 model fit the test data?"
   ]
  },
  {
   "cell_type": "code",
   "execution_count": 33,
   "metadata": {},
   "outputs": [
    {
     "data": {
      "text/plain": [
       "[<matplotlib.lines.Line2D at 0x7ff605bc5190>]"
      ]
     },
     "execution_count": 33,
     "metadata": {},
     "output_type": "execute_result"
    },
    {
     "data": {
      "image/png": "[encoded data removed]",
      "text/plain": [
       "<Figure size 360x360 with 1 Axes>"
      ]
     },
     "metadata": {
      "needs_background": "light"
     },
     "output_type": "display_data"
    }
   ],
   "source": [
    "sns.relplot(x = \"x\",y = \"y\", data = df_test)\n",
    "plt.plot(df[\"x\"], y_pred3)"
   ]
  },
  {
   "cell_type": "markdown",
   "metadata": {},
   "source": [
    "I believe that this model is a better fit compared to the linear model and is pretty similar to the model of degree 2."
   ]
  },
  {
   "cell_type": "markdown",
   "metadata": {},
   "source": [
    "4c) Predict the `y` values for the testing data using your polynomial degree 20 model, and compute the mean squared error of these predictions.  How does this mean squared error compare to the mean squared errors of the two previous models?  What can you conclude about your polynomial degree 20 model based on this?"
   ]
  },
  {
   "cell_type": "code",
   "execution_count": 34,
   "metadata": {},
   "outputs": [
    {
     "data": {
      "text/plain": [
       "0.7366929829303859"
      ]
     },
     "execution_count": 34,
     "metadata": {},
     "output_type": "execute_result"
    }
   ],
   "source": [
    "mean_squared_error(df_test[\"y\"],y_pred3)"
   ]
  },
  {
   "cell_type": "markdown",
   "metadata": {},
   "source": [
    "So far this has the lowest mean squared error of the models."
   ]
  },
  {
   "cell_type": "markdown",
   "metadata": {},
   "source": [
    "4d)  Which of the three models do you think fits the data best?  Why? "
   ]
  },
  {
   "cell_type": "markdown",
   "metadata": {
    "collapsed": true
   },
   "source": [
    "For me atleast its tied between the degree 2 and degree 20 model since u can get a better look at them compared to the linear model."
   ]
  },
  {
   "cell_type": "code",
   "execution_count": null,
   "metadata": {},
   "outputs": [],
   "source": []
  }
 ],
 "metadata": {
  "kernelspec": {
   "display_name": "Python 3",
   "language": "python",
   "name": "python3"
  },
  "language_info": {
   "codemirror_mode": {
    "name": "ipython",
    "version": 3
   },
   "file_extension": ".py",
   "mimetype": "text/x-python",
   "name": "python",
   "nbconvert_exporter": "python",
   "pygments_lexer": "ipython3",
   "version": "3.8.5"
  }
 },
 "nbformat": 4,
 "nbformat_minor": 2
}
