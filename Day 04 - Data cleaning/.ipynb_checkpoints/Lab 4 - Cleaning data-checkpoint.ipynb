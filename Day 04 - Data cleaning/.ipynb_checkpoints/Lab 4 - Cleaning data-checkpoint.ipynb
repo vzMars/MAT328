{
 "cells": [
  {
   "cell_type": "markdown",
   "metadata": {},
   "source": [
    "# Lab 4:  Cleaning data\n",
    "\n",
    "We will look at a number of techniques for cleaning data in this lab.  We saw some of them previously in MAT 128.  This lab is set up to be used as a reference when cleaning data in the future.\n",
    "\n",
    "We will use a made-up data file containing a number of common problems.  The made-up data has information about employees at a company, and the following columns:\n",
    "* Name: first name of the employee\n",
    "* Gender: gender of the employee\n",
    "* Pay: yearly pay of the employee\n",
    "* Months at job: number of months the employee has worked at the company\n",
    "\n",
    "Download this made-up data from [https://raw.githubusercontent.com/megan-owen/MAT328-Techniques_in_Data_Science/main/data/Lab4_made-up_data.txt](https://raw.githubusercontent.com/megan-owen/MAT328-Techniques_in_Data_Science/main/data/Lab4_made-up_data.txt) and save it as a .txt file.\n",
    "\n",
    "### Section 1:  Cleaning while loading the data file\n",
    "\n",
    "First import the necessary libraries."
   ]
  },
  {
   "cell_type": "code",
   "execution_count": 3,
   "metadata": {},
   "outputs": [],
   "source": [
    "import pandas as pd\n",
    "import matplotlib.pyplot as plt"
   ]
  },
  {
   "cell_type": "markdown",
   "metadata": {},
   "source": [
    "We will assume the data is in a text file (a CSV file is a special kind of text file) and in rectangular format.  If the data is in a different format (ex. a PDF file), there are sometimes ways to extract it into a CSV file, but they are beyond the scope of this course.\n",
    "\n",
    "There are 4 problems that can be solved as we read in the data file:\n",
    "* extra rows at the beginning of the file\n",
    "* extra rows at the end of the file\n",
    "* columns delimited (separated) by something other than a comma.  Besides with commas, columns can also be separated by tabs, other white spaces, semi-colons (;), pipes (|), etc.\n",
    "* missing data specified by something other than NaN\n",
    "\n",
    "Open the data file `Lab4_made-up_data.txt` by clicking on it in Jupyter Hub, or opening it in a text editor like NotePad (Windows) or TextEdit (Mac).  Which of the above problems does this file have?\n",
    "\n",
    "We can use the following parameters with `read_csv()`:\n",
    "\n",
    "|Parameter|Example(s)|Effect of example|\n",
    "|-----|-------------|----------------|\n",
    "|`skiprows`|`skiprows = 5`|Skips the first 5 rows in the file|\n",
    "|`skipfooter`|`skipfooter = 3`|Skips the last 3 rows in the file|\n",
    "|`na_values`|`na_values = \"*\"`|Treats \\* as missing data|\n",
    "||`na_values = [\"-\",\".\"]`|Treats both - and . as missing data|\n",
    "|`sep`|`sep = \"\\t\"`|Columns are separated by tabs|\n",
    "||`sep = \"\\s+\"`|Columns are separated by any whitespaces (tabs, spaces, etc.)\n",
    "||`sep = \";\"`|Columns are separated by semi-colons|\n",
    "\n",
    "For even more parameters that can be used with `read_csv()` see its [API](https://pandas.pydata.org/pandas-docs/stable/reference/api/pandas.read_csv.html), which is a reference stating exactly how a function can be used.\n",
    "\n",
    "We will actually need all of these parameters to clean up our data file!  Try using them with `read_csv` below to read in and clean the file:"
   ]
  },
  {
   "cell_type": "code",
   "execution_count": 8,
   "metadata": {},
   "outputs": [
    {
     "name": "stderr",
     "output_type": "stream",
     "text": [
      "<ipython-input-8-0be5ecb05f03>:1: ParserWarning: Falling back to the 'python' engine because the 'c' engine does not support skipfooter; you can avoid this warning by specifying engine='python'.\n",
      "  df = pd.read_csv(\"Lab4_made-up_data.txt\", skiprows = 2, skipfooter = 2, na_values = \"-\", sep = \"\\t\")\n"
     ]
    }
   ],
   "source": [
    "df = pd.read_csv(\"Lab4_made-up_data.txt\", skiprows = 2, skipfooter = 2, na_values = \"-\", sep = \"\\t\")"
   ]
  },
  {
   "cell_type": "markdown",
   "metadata": {},
   "source": [
    "Ignore the warning that happens.  Our command was:\n",
    "\n",
    "`df = pd.read_csv(\"Lab4_made-up_data.txt\", skiprows = 2, skipfooter = 2, na_values = \"-\", sep = \"\\t\")`\n",
    "\n",
    "and we skipped the first and last two rows in the data file, and indicated that `-` represented missing data and the columns are separated by tabs.  \n",
    "\n",
    "Note that we have to use `sep = \"\\t\"` instead of `sep = \"\\s+\"`, since `sep = \"\\s+\"` interprets the column name `Months at job` as the names for three separate columns (`Months`,`at`,`job`) due to the spaces.\n",
    "\n",
    "If you haven't already, display your dataframe to see what else needs to be fixed and to check that `read_csv()` worked as expected."
   ]
  },
  {
   "cell_type": "code",
   "execution_count": 9,
   "metadata": {},
   "outputs": [
    {
     "data": {
      "text/html": [
       "<div>\n",
       "<style scoped>\n",
       "    .dataframe tbody tr th:only-of-type {\n",
       "        vertical-align: middle;\n",
       "    }\n",
       "\n",
       "    .dataframe tbody tr th {\n",
       "        vertical-align: top;\n",
       "    }\n",
       "\n",
       "    .dataframe thead th {\n",
       "        text-align: right;\n",
       "    }\n",
       "</style>\n",
       "<table border=\"1\" class=\"dataframe\">\n",
       "  <thead>\n",
       "    <tr style=\"text-align: right;\">\n",
       "      <th></th>\n",
       "      <th>Name</th>\n",
       "      <th>Gender</th>\n",
       "      <th>Pay</th>\n",
       "      <th>Months at job</th>\n",
       "    </tr>\n",
       "  </thead>\n",
       "  <tbody>\n",
       "    <tr>\n",
       "      <th>0</th>\n",
       "      <td>Hazel</td>\n",
       "      <td>F</td>\n",
       "      <td>$85,000</td>\n",
       "      <td>36.0</td>\n",
       "    </tr>\n",
       "    <tr>\n",
       "      <th>1</th>\n",
       "      <td>Hugo</td>\n",
       "      <td>M</td>\n",
       "      <td>$61,000</td>\n",
       "      <td>20.0</td>\n",
       "    </tr>\n",
       "    <tr>\n",
       "      <th>2</th>\n",
       "      <td>Hilbert</td>\n",
       "      <td>male</td>\n",
       "      <td>$87,000</td>\n",
       "      <td>56.0</td>\n",
       "    </tr>\n",
       "    <tr>\n",
       "      <th>3</th>\n",
       "      <td>Hilbert</td>\n",
       "      <td>male</td>\n",
       "      <td>$87,000</td>\n",
       "      <td>56.0</td>\n",
       "    </tr>\n",
       "    <tr>\n",
       "      <th>4</th>\n",
       "      <td>Hilda</td>\n",
       "      <td>female</td>\n",
       "      <td>$72,000</td>\n",
       "      <td>14.0</td>\n",
       "    </tr>\n",
       "    <tr>\n",
       "      <th>5</th>\n",
       "      <td>Honoria</td>\n",
       "      <td>f</td>\n",
       "      <td>$55,000</td>\n",
       "      <td>NaN</td>\n",
       "    </tr>\n",
       "    <tr>\n",
       "      <th>6</th>\n",
       "      <td>Herbert</td>\n",
       "      <td>male</td>\n",
       "      <td>$57,000</td>\n",
       "      <td>33.0</td>\n",
       "    </tr>\n",
       "    <tr>\n",
       "      <th>7</th>\n",
       "      <td>Hannah</td>\n",
       "      <td>female</td>\n",
       "      <td>$66,000</td>\n",
       "      <td>44.0</td>\n",
       "    </tr>\n",
       "    <tr>\n",
       "      <th>8</th>\n",
       "      <td>Hannah</td>\n",
       "      <td>female</td>\n",
       "      <td>$66,000</td>\n",
       "      <td>44.0</td>\n",
       "    </tr>\n",
       "    <tr>\n",
       "      <th>9</th>\n",
       "      <td>Hayley</td>\n",
       "      <td>f</td>\n",
       "      <td>$70,000</td>\n",
       "      <td>53.0</td>\n",
       "    </tr>\n",
       "  </tbody>\n",
       "</table>\n",
       "</div>"
      ],
      "text/plain": [
       "      Name  Gender       Pay  Months at job\n",
       "0    Hazel       F  $85,000            36.0\n",
       "1     Hugo       M  $61,000            20.0\n",
       "2  Hilbert    male  $87,000            56.0\n",
       "3  Hilbert    male  $87,000            56.0\n",
       "4    Hilda  female  $72,000            14.0\n",
       "5  Honoria       f  $55,000             NaN\n",
       "6  Herbert    male  $57,000            33.0\n",
       "7   Hannah  female  $66,000            44.0\n",
       "8   Hannah  female  $66,000            44.0\n",
       "9   Hayley       f  $70,000            53.0"
      ]
     },
     "execution_count": 9,
     "metadata": {},
     "output_type": "execute_result"
    }
   ],
   "source": [
    "df"
   ]
  },
  {
   "cell_type": "markdown",
   "metadata": {},
   "source": [
    "### Section 2: Renaming columns\n",
    "\n",
    "Sometimes column names are really long or otherwise unsuitable, and we want to rename them.  Here are two ways to rename the column `Months at job` to just `Months`.\n",
    "\n",
    "**Method 1:** make a list of the columns names you want to use in the order they appear in the DataFrame, and assign it to `name_of_dataframe.columns`."
   ]
  },
  {
   "cell_type": "code",
   "execution_count": 6,
   "metadata": {},
   "outputs": [],
   "source": [
    "new_columns = [\"Name\",\"Gender\",\"Pay\",\"Months\"]\n",
    "df.columns = new_columns"
   ]
  },
  {
   "cell_type": "markdown",
   "metadata": {},
   "source": [
    "Display your dataframe to see if method 1 worked."
   ]
  },
  {
   "cell_type": "code",
   "execution_count": 7,
   "metadata": {},
   "outputs": [
    {
     "data": {
      "text/html": [
       "<div>\n",
       "<style scoped>\n",
       "    .dataframe tbody tr th:only-of-type {\n",
       "        vertical-align: middle;\n",
       "    }\n",
       "\n",
       "    .dataframe tbody tr th {\n",
       "        vertical-align: top;\n",
       "    }\n",
       "\n",
       "    .dataframe thead th {\n",
       "        text-align: right;\n",
       "    }\n",
       "</style>\n",
       "<table border=\"1\" class=\"dataframe\">\n",
       "  <thead>\n",
       "    <tr style=\"text-align: right;\">\n",
       "      <th></th>\n",
       "      <th>Name</th>\n",
       "      <th>Gender</th>\n",
       "      <th>Pay</th>\n",
       "      <th>Months</th>\n",
       "    </tr>\n",
       "  </thead>\n",
       "  <tbody>\n",
       "    <tr>\n",
       "      <th>0</th>\n",
       "      <td>Hazel</td>\n",
       "      <td>F</td>\n",
       "      <td>$85,000</td>\n",
       "      <td>36.0</td>\n",
       "    </tr>\n",
       "    <tr>\n",
       "      <th>1</th>\n",
       "      <td>Hugo</td>\n",
       "      <td>M</td>\n",
       "      <td>$61,000</td>\n",
       "      <td>20.0</td>\n",
       "    </tr>\n",
       "    <tr>\n",
       "      <th>2</th>\n",
       "      <td>Hilbert</td>\n",
       "      <td>male</td>\n",
       "      <td>$87,000</td>\n",
       "      <td>56.0</td>\n",
       "    </tr>\n",
       "    <tr>\n",
       "      <th>3</th>\n",
       "      <td>Hilbert</td>\n",
       "      <td>male</td>\n",
       "      <td>$87,000</td>\n",
       "      <td>56.0</td>\n",
       "    </tr>\n",
       "    <tr>\n",
       "      <th>4</th>\n",
       "      <td>Hilda</td>\n",
       "      <td>female</td>\n",
       "      <td>$72,000</td>\n",
       "      <td>14.0</td>\n",
       "    </tr>\n",
       "    <tr>\n",
       "      <th>5</th>\n",
       "      <td>Honoria</td>\n",
       "      <td>f</td>\n",
       "      <td>$55,000</td>\n",
       "      <td>NaN</td>\n",
       "    </tr>\n",
       "    <tr>\n",
       "      <th>6</th>\n",
       "      <td>Herbert</td>\n",
       "      <td>male</td>\n",
       "      <td>$57,000</td>\n",
       "      <td>33.0</td>\n",
       "    </tr>\n",
       "    <tr>\n",
       "      <th>7</th>\n",
       "      <td>Hannah</td>\n",
       "      <td>female</td>\n",
       "      <td>$66,000</td>\n",
       "      <td>44.0</td>\n",
       "    </tr>\n",
       "    <tr>\n",
       "      <th>8</th>\n",
       "      <td>Hannah</td>\n",
       "      <td>female</td>\n",
       "      <td>$66,000</td>\n",
       "      <td>44.0</td>\n",
       "    </tr>\n",
       "    <tr>\n",
       "      <th>9</th>\n",
       "      <td>Hayley</td>\n",
       "      <td>f</td>\n",
       "      <td>$70,000</td>\n",
       "      <td>53.0</td>\n",
       "    </tr>\n",
       "  </tbody>\n",
       "</table>\n",
       "</div>"
      ],
      "text/plain": [
       "      Name  Gender       Pay  Months\n",
       "0    Hazel       F  $85,000     36.0\n",
       "1     Hugo       M  $61,000     20.0\n",
       "2  Hilbert    male  $87,000     56.0\n",
       "3  Hilbert    male  $87,000     56.0\n",
       "4    Hilda  female  $72,000     14.0\n",
       "5  Honoria       f  $55,000      NaN\n",
       "6  Herbert    male  $57,000     33.0\n",
       "7   Hannah  female  $66,000     44.0\n",
       "8   Hannah  female  $66,000     44.0\n",
       "9   Hayley       f  $70,000     53.0"
      ]
     },
     "execution_count": 7,
     "metadata": {},
     "output_type": "execute_result"
    }
   ],
   "source": [
    "df"
   ]
  },
  {
   "cell_type": "markdown",
   "metadata": {},
   "source": [
    "Reload your DataFrame from the file and try method 2.\n",
    "\n",
    "**Method 2:** specify which column(s) to rename using what's called a dictionary (in {} brackets)"
   ]
  },
  {
   "cell_type": "code",
   "execution_count": 10,
   "metadata": {},
   "outputs": [],
   "source": [
    "df.rename(columns = {\"Months at job\":\"Months\", \"Pay\": \"Salary\"}, inplace = True)"
   ]
  },
  {
   "cell_type": "markdown",
   "metadata": {},
   "source": [
    "Display your DataFrame again to check that method 2 works."
   ]
  },
  {
   "cell_type": "code",
   "execution_count": 11,
   "metadata": {},
   "outputs": [
    {
     "data": {
      "text/html": [
       "<div>\n",
       "<style scoped>\n",
       "    .dataframe tbody tr th:only-of-type {\n",
       "        vertical-align: middle;\n",
       "    }\n",
       "\n",
       "    .dataframe tbody tr th {\n",
       "        vertical-align: top;\n",
       "    }\n",
       "\n",
       "    .dataframe thead th {\n",
       "        text-align: right;\n",
       "    }\n",
       "</style>\n",
       "<table border=\"1\" class=\"dataframe\">\n",
       "  <thead>\n",
       "    <tr style=\"text-align: right;\">\n",
       "      <th></th>\n",
       "      <th>Name</th>\n",
       "      <th>Gender</th>\n",
       "      <th>Salary</th>\n",
       "      <th>Months</th>\n",
       "    </tr>\n",
       "  </thead>\n",
       "  <tbody>\n",
       "    <tr>\n",
       "      <th>0</th>\n",
       "      <td>Hazel</td>\n",
       "      <td>F</td>\n",
       "      <td>$85,000</td>\n",
       "      <td>36.0</td>\n",
       "    </tr>\n",
       "    <tr>\n",
       "      <th>1</th>\n",
       "      <td>Hugo</td>\n",
       "      <td>M</td>\n",
       "      <td>$61,000</td>\n",
       "      <td>20.0</td>\n",
       "    </tr>\n",
       "    <tr>\n",
       "      <th>2</th>\n",
       "      <td>Hilbert</td>\n",
       "      <td>male</td>\n",
       "      <td>$87,000</td>\n",
       "      <td>56.0</td>\n",
       "    </tr>\n",
       "    <tr>\n",
       "      <th>3</th>\n",
       "      <td>Hilbert</td>\n",
       "      <td>male</td>\n",
       "      <td>$87,000</td>\n",
       "      <td>56.0</td>\n",
       "    </tr>\n",
       "    <tr>\n",
       "      <th>4</th>\n",
       "      <td>Hilda</td>\n",
       "      <td>female</td>\n",
       "      <td>$72,000</td>\n",
       "      <td>14.0</td>\n",
       "    </tr>\n",
       "    <tr>\n",
       "      <th>5</th>\n",
       "      <td>Honoria</td>\n",
       "      <td>f</td>\n",
       "      <td>$55,000</td>\n",
       "      <td>NaN</td>\n",
       "    </tr>\n",
       "    <tr>\n",
       "      <th>6</th>\n",
       "      <td>Herbert</td>\n",
       "      <td>male</td>\n",
       "      <td>$57,000</td>\n",
       "      <td>33.0</td>\n",
       "    </tr>\n",
       "    <tr>\n",
       "      <th>7</th>\n",
       "      <td>Hannah</td>\n",
       "      <td>female</td>\n",
       "      <td>$66,000</td>\n",
       "      <td>44.0</td>\n",
       "    </tr>\n",
       "    <tr>\n",
       "      <th>8</th>\n",
       "      <td>Hannah</td>\n",
       "      <td>female</td>\n",
       "      <td>$66,000</td>\n",
       "      <td>44.0</td>\n",
       "    </tr>\n",
       "    <tr>\n",
       "      <th>9</th>\n",
       "      <td>Hayley</td>\n",
       "      <td>f</td>\n",
       "      <td>$70,000</td>\n",
       "      <td>53.0</td>\n",
       "    </tr>\n",
       "  </tbody>\n",
       "</table>\n",
       "</div>"
      ],
      "text/plain": [
       "      Name  Gender    Salary  Months\n",
       "0    Hazel       F  $85,000     36.0\n",
       "1     Hugo       M  $61,000     20.0\n",
       "2  Hilbert    male  $87,000     56.0\n",
       "3  Hilbert    male  $87,000     56.0\n",
       "4    Hilda  female  $72,000     14.0\n",
       "5  Honoria       f  $55,000      NaN\n",
       "6  Herbert    male  $57,000     33.0\n",
       "7   Hannah  female  $66,000     44.0\n",
       "8   Hannah  female  $66,000     44.0\n",
       "9   Hayley       f  $70,000     53.0"
      ]
     },
     "execution_count": 11,
     "metadata": {},
     "output_type": "execute_result"
    }
   ],
   "source": [
    "df"
   ]
  },
  {
   "cell_type": "markdown",
   "metadata": {},
   "source": [
    "For method 2, you can change more than one column at a time like this:\n",
    "\n",
    "`df.rename(columns = {\"Months at job\":\"Months\", \"Pay\": \"Salary\"}, inplace = True)`\n",
    "\n",
    "### Section 3:  Remove duplicate rows \n",
    "\n",
    "Sometimes data sets have duplicate rows that we want to remove.  We will only look at the case where the entire row is a duplicate, but it is also possible to look for duplicates in a single column.\n",
    "\n",
    "First, find the duplicated rows:"
   ]
  },
  {
   "cell_type": "code",
   "execution_count": 12,
   "metadata": {},
   "outputs": [
    {
     "data": {
      "text/html": [
       "<div>\n",
       "<style scoped>\n",
       "    .dataframe tbody tr th:only-of-type {\n",
       "        vertical-align: middle;\n",
       "    }\n",
       "\n",
       "    .dataframe tbody tr th {\n",
       "        vertical-align: top;\n",
       "    }\n",
       "\n",
       "    .dataframe thead th {\n",
       "        text-align: right;\n",
       "    }\n",
       "</style>\n",
       "<table border=\"1\" class=\"dataframe\">\n",
       "  <thead>\n",
       "    <tr style=\"text-align: right;\">\n",
       "      <th></th>\n",
       "      <th>Name</th>\n",
       "      <th>Gender</th>\n",
       "      <th>Salary</th>\n",
       "      <th>Months</th>\n",
       "    </tr>\n",
       "  </thead>\n",
       "  <tbody>\n",
       "    <tr>\n",
       "      <th>3</th>\n",
       "      <td>Hilbert</td>\n",
       "      <td>male</td>\n",
       "      <td>$87,000</td>\n",
       "      <td>56.0</td>\n",
       "    </tr>\n",
       "    <tr>\n",
       "      <th>8</th>\n",
       "      <td>Hannah</td>\n",
       "      <td>female</td>\n",
       "      <td>$66,000</td>\n",
       "      <td>44.0</td>\n",
       "    </tr>\n",
       "  </tbody>\n",
       "</table>\n",
       "</div>"
      ],
      "text/plain": [
       "      Name  Gender    Salary  Months\n",
       "3  Hilbert    male  $87,000     56.0\n",
       "8   Hannah  female  $66,000     44.0"
      ]
     },
     "execution_count": 12,
     "metadata": {},
     "output_type": "execute_result"
    }
   ],
   "source": [
    "dup_filter = df.duplicated()\n",
    "df[dup_filter]"
   ]
  },
  {
   "cell_type": "markdown",
   "metadata": {},
   "source": [
    "To drop the duplicates:"
   ]
  },
  {
   "cell_type": "code",
   "execution_count": 13,
   "metadata": {},
   "outputs": [
    {
     "data": {
      "text/html": [
       "<div>\n",
       "<style scoped>\n",
       "    .dataframe tbody tr th:only-of-type {\n",
       "        vertical-align: middle;\n",
       "    }\n",
       "\n",
       "    .dataframe tbody tr th {\n",
       "        vertical-align: top;\n",
       "    }\n",
       "\n",
       "    .dataframe thead th {\n",
       "        text-align: right;\n",
       "    }\n",
       "</style>\n",
       "<table border=\"1\" class=\"dataframe\">\n",
       "  <thead>\n",
       "    <tr style=\"text-align: right;\">\n",
       "      <th></th>\n",
       "      <th>Name</th>\n",
       "      <th>Gender</th>\n",
       "      <th>Salary</th>\n",
       "      <th>Months</th>\n",
       "    </tr>\n",
       "  </thead>\n",
       "  <tbody>\n",
       "    <tr>\n",
       "      <th>0</th>\n",
       "      <td>Hazel</td>\n",
       "      <td>F</td>\n",
       "      <td>$85,000</td>\n",
       "      <td>36.0</td>\n",
       "    </tr>\n",
       "    <tr>\n",
       "      <th>1</th>\n",
       "      <td>Hugo</td>\n",
       "      <td>M</td>\n",
       "      <td>$61,000</td>\n",
       "      <td>20.0</td>\n",
       "    </tr>\n",
       "    <tr>\n",
       "      <th>2</th>\n",
       "      <td>Hilbert</td>\n",
       "      <td>male</td>\n",
       "      <td>$87,000</td>\n",
       "      <td>56.0</td>\n",
       "    </tr>\n",
       "    <tr>\n",
       "      <th>4</th>\n",
       "      <td>Hilda</td>\n",
       "      <td>female</td>\n",
       "      <td>$72,000</td>\n",
       "      <td>14.0</td>\n",
       "    </tr>\n",
       "    <tr>\n",
       "      <th>5</th>\n",
       "      <td>Honoria</td>\n",
       "      <td>f</td>\n",
       "      <td>$55,000</td>\n",
       "      <td>NaN</td>\n",
       "    </tr>\n",
       "    <tr>\n",
       "      <th>6</th>\n",
       "      <td>Herbert</td>\n",
       "      <td>male</td>\n",
       "      <td>$57,000</td>\n",
       "      <td>33.0</td>\n",
       "    </tr>\n",
       "    <tr>\n",
       "      <th>7</th>\n",
       "      <td>Hannah</td>\n",
       "      <td>female</td>\n",
       "      <td>$66,000</td>\n",
       "      <td>44.0</td>\n",
       "    </tr>\n",
       "    <tr>\n",
       "      <th>9</th>\n",
       "      <td>Hayley</td>\n",
       "      <td>f</td>\n",
       "      <td>$70,000</td>\n",
       "      <td>53.0</td>\n",
       "    </tr>\n",
       "  </tbody>\n",
       "</table>\n",
       "</div>"
      ],
      "text/plain": [
       "      Name  Gender    Salary  Months\n",
       "0    Hazel       F  $85,000     36.0\n",
       "1     Hugo       M  $61,000     20.0\n",
       "2  Hilbert    male  $87,000     56.0\n",
       "4    Hilda  female  $72,000     14.0\n",
       "5  Honoria       f  $55,000      NaN\n",
       "6  Herbert    male  $57,000     33.0\n",
       "7   Hannah  female  $66,000     44.0\n",
       "9   Hayley       f  $70,000     53.0"
      ]
     },
     "execution_count": 13,
     "metadata": {},
     "output_type": "execute_result"
    }
   ],
   "source": [
    "df = df.drop_duplicates()\n",
    "df"
   ]
  },
  {
   "cell_type": "markdown",
   "metadata": {},
   "source": [
    "`df.drop_duplicates()` creates a new DataFrame without the duplicates, and we replace the original DataFrame `df` with this new one.\n",
    "\n",
    "### Section 4: Changing the text in columns\n",
    "\n",
    "Sometimes we want to fix the text in a column.  We look at two common examples in this DataFrame, but there are many other situations we are not covering.\n",
    "\n",
    "#### 4.1 Standardize categories\n",
    "\n",
    "In the `Gender` column, `male` has been represented by both `M` and `male`, while `female` has been represented by `F`, `f`, and `female`.  As humans, we can tell there are really only two categories, but the computer will assume there are 5 categories.\n",
    "\n",
    "We need to standardize how `male` and `female` are stored in the DataFrame.  We do this by defining a *dictionary* that links the different variations to the category name we want to use, and then applies this *map* to the column.\n",
    "\n",
    "So below, the dictionary `gender_map` will replace `M` and `male` with `male`, and `F`, `f`, and `female` with `female`."
   ]
  },
  {
   "cell_type": "code",
   "execution_count": 18,
   "metadata": {},
   "outputs": [
    {
     "name": "stderr",
     "output_type": "stream",
     "text": [
      "<ipython-input-18-7dad14c4494a>:2: SettingWithCopyWarning: \n",
      "A value is trying to be set on a copy of a slice from a DataFrame.\n",
      "Try using .loc[row_indexer,col_indexer] = value instead\n",
      "\n",
      "See the caveats in the documentation: https://pandas.pydata.org/pandas-docs/stable/user_guide/indexing.html#returning-a-view-versus-a-copy\n",
      "  df[\"Gender\"] = df[\"Gender\"].map(gender_map)\n"
     ]
    },
    {
     "data": {
      "text/html": [
       "<div>\n",
       "<style scoped>\n",
       "    .dataframe tbody tr th:only-of-type {\n",
       "        vertical-align: middle;\n",
       "    }\n",
       "\n",
       "    .dataframe tbody tr th {\n",
       "        vertical-align: top;\n",
       "    }\n",
       "\n",
       "    .dataframe thead th {\n",
       "        text-align: right;\n",
       "    }\n",
       "</style>\n",
       "<table border=\"1\" class=\"dataframe\">\n",
       "  <thead>\n",
       "    <tr style=\"text-align: right;\">\n",
       "      <th></th>\n",
       "      <th>Name</th>\n",
       "      <th>Gender</th>\n",
       "      <th>Salary</th>\n",
       "      <th>Months</th>\n",
       "    </tr>\n",
       "  </thead>\n",
       "  <tbody>\n",
       "    <tr>\n",
       "      <th>0</th>\n",
       "      <td>Hazel</td>\n",
       "      <td>female</td>\n",
       "      <td>$85,000</td>\n",
       "      <td>36.0</td>\n",
       "    </tr>\n",
       "    <tr>\n",
       "      <th>1</th>\n",
       "      <td>Hugo</td>\n",
       "      <td>male</td>\n",
       "      <td>$61,000</td>\n",
       "      <td>20.0</td>\n",
       "    </tr>\n",
       "    <tr>\n",
       "      <th>2</th>\n",
       "      <td>Hilbert</td>\n",
       "      <td>male</td>\n",
       "      <td>$87,000</td>\n",
       "      <td>56.0</td>\n",
       "    </tr>\n",
       "    <tr>\n",
       "      <th>4</th>\n",
       "      <td>Hilda</td>\n",
       "      <td>female</td>\n",
       "      <td>$72,000</td>\n",
       "      <td>14.0</td>\n",
       "    </tr>\n",
       "    <tr>\n",
       "      <th>5</th>\n",
       "      <td>Honoria</td>\n",
       "      <td>female</td>\n",
       "      <td>$55,000</td>\n",
       "      <td>NaN</td>\n",
       "    </tr>\n",
       "    <tr>\n",
       "      <th>6</th>\n",
       "      <td>Herbert</td>\n",
       "      <td>male</td>\n",
       "      <td>$57,000</td>\n",
       "      <td>33.0</td>\n",
       "    </tr>\n",
       "    <tr>\n",
       "      <th>7</th>\n",
       "      <td>Hannah</td>\n",
       "      <td>female</td>\n",
       "      <td>$66,000</td>\n",
       "      <td>44.0</td>\n",
       "    </tr>\n",
       "    <tr>\n",
       "      <th>9</th>\n",
       "      <td>Hayley</td>\n",
       "      <td>female</td>\n",
       "      <td>$70,000</td>\n",
       "      <td>53.0</td>\n",
       "    </tr>\n",
       "  </tbody>\n",
       "</table>\n",
       "</div>"
      ],
      "text/plain": [
       "      Name  Gender    Salary  Months\n",
       "0    Hazel  female  $85,000     36.0\n",
       "1     Hugo    male  $61,000     20.0\n",
       "2  Hilbert    male  $87,000     56.0\n",
       "4    Hilda  female  $72,000     14.0\n",
       "5  Honoria  female  $55,000      NaN\n",
       "6  Herbert    male  $57,000     33.0\n",
       "7   Hannah  female  $66,000     44.0\n",
       "9   Hayley  female  $70,000     53.0"
      ]
     },
     "execution_count": 18,
     "metadata": {},
     "output_type": "execute_result"
    }
   ],
   "source": [
    "gender_map = {\"M\":\"male\", \"F\":\"female\", \"f\":\"female\", \"male\":\"male\", \"female\":\"female\"}\n",
    "df[\"Gender\"] = df[\"Gender\"].map(gender_map)\n",
    "df"
   ]
  },
  {
   "cell_type": "markdown",
   "metadata": {},
   "source": [
    "#### 4.2 Removing characters and symbols\n",
    "\n",
    "If a column in a DataFrame only contains numbers, the data values will be stored as `int` (integer) or `float` (number with decimals) and we can do computations with them.  However, if the column contains any letter or other character, all data values will be stored as `string`. \n",
    "\n",
    "In general, a *string* in Python (and other programming languages) is a sequence of letters, numbers, and characters.  Strings are often written with quotes around them.  For example, `\"female\"` and `\"$57,000\"` are both strings.  Python will NOT do computations with strings, even if we would as humans (for example, with the `pay` column).\n",
    "\n",
    "Thus, we have to remove the dollar signs and commas in the pay column to be able to use this column as quantitative data.\n",
    "\n",
    "We will use the `.replace(old,new)` function, which replaces the string `old` with the string `new`.  To delete something entirely, we replace it with the *empty string* `\"\"`."
   ]
  },
  {
   "cell_type": "code",
   "execution_count": 20,
   "metadata": {},
   "outputs": [
    {
     "name": "stderr",
     "output_type": "stream",
     "text": [
      "<ipython-input-20-e257e1514e8d>:1: SettingWithCopyWarning: \n",
      "A value is trying to be set on a copy of a slice from a DataFrame.\n",
      "Try using .loc[row_indexer,col_indexer] = value instead\n",
      "\n",
      "See the caveats in the documentation: https://pandas.pydata.org/pandas-docs/stable/user_guide/indexing.html#returning-a-view-versus-a-copy\n",
      "  df[\"Salary\"] = df[\"Salary\"].str.replace(\"$\",\"\")\n"
     ]
    },
    {
     "data": {
      "text/html": [
       "<div>\n",
       "<style scoped>\n",
       "    .dataframe tbody tr th:only-of-type {\n",
       "        vertical-align: middle;\n",
       "    }\n",
       "\n",
       "    .dataframe tbody tr th {\n",
       "        vertical-align: top;\n",
       "    }\n",
       "\n",
       "    .dataframe thead th {\n",
       "        text-align: right;\n",
       "    }\n",
       "</style>\n",
       "<table border=\"1\" class=\"dataframe\">\n",
       "  <thead>\n",
       "    <tr style=\"text-align: right;\">\n",
       "      <th></th>\n",
       "      <th>Name</th>\n",
       "      <th>Gender</th>\n",
       "      <th>Salary</th>\n",
       "      <th>Months</th>\n",
       "    </tr>\n",
       "  </thead>\n",
       "  <tbody>\n",
       "    <tr>\n",
       "      <th>0</th>\n",
       "      <td>Hazel</td>\n",
       "      <td>female</td>\n",
       "      <td>85,000</td>\n",
       "      <td>36.0</td>\n",
       "    </tr>\n",
       "    <tr>\n",
       "      <th>1</th>\n",
       "      <td>Hugo</td>\n",
       "      <td>male</td>\n",
       "      <td>61,000</td>\n",
       "      <td>20.0</td>\n",
       "    </tr>\n",
       "    <tr>\n",
       "      <th>2</th>\n",
       "      <td>Hilbert</td>\n",
       "      <td>male</td>\n",
       "      <td>87,000</td>\n",
       "      <td>56.0</td>\n",
       "    </tr>\n",
       "    <tr>\n",
       "      <th>4</th>\n",
       "      <td>Hilda</td>\n",
       "      <td>female</td>\n",
       "      <td>72,000</td>\n",
       "      <td>14.0</td>\n",
       "    </tr>\n",
       "    <tr>\n",
       "      <th>5</th>\n",
       "      <td>Honoria</td>\n",
       "      <td>female</td>\n",
       "      <td>55,000</td>\n",
       "      <td>NaN</td>\n",
       "    </tr>\n",
       "    <tr>\n",
       "      <th>6</th>\n",
       "      <td>Herbert</td>\n",
       "      <td>male</td>\n",
       "      <td>57,000</td>\n",
       "      <td>33.0</td>\n",
       "    </tr>\n",
       "    <tr>\n",
       "      <th>7</th>\n",
       "      <td>Hannah</td>\n",
       "      <td>female</td>\n",
       "      <td>66,000</td>\n",
       "      <td>44.0</td>\n",
       "    </tr>\n",
       "    <tr>\n",
       "      <th>9</th>\n",
       "      <td>Hayley</td>\n",
       "      <td>female</td>\n",
       "      <td>70,000</td>\n",
       "      <td>53.0</td>\n",
       "    </tr>\n",
       "  </tbody>\n",
       "</table>\n",
       "</div>"
      ],
      "text/plain": [
       "      Name  Gender   Salary  Months\n",
       "0    Hazel  female  85,000     36.0\n",
       "1     Hugo    male  61,000     20.0\n",
       "2  Hilbert    male  87,000     56.0\n",
       "4    Hilda  female  72,000     14.0\n",
       "5  Honoria  female  55,000      NaN\n",
       "6  Herbert    male  57,000     33.0\n",
       "7   Hannah  female  66,000     44.0\n",
       "9   Hayley  female  70,000     53.0"
      ]
     },
     "execution_count": 20,
     "metadata": {},
     "output_type": "execute_result"
    }
   ],
   "source": [
    "df[\"Salary\"] = df[\"Salary\"].str.replace(\"$\",\"\")\n",
    "df"
   ]
  },
  {
   "cell_type": "markdown",
   "metadata": {},
   "source": [
    "What did the code above delete?  Next remove the commas in the `Pay` column."
   ]
  },
  {
   "cell_type": "code",
   "execution_count": 21,
   "metadata": {},
   "outputs": [
    {
     "name": "stderr",
     "output_type": "stream",
     "text": [
      "<ipython-input-21-825a8ba5b90e>:1: SettingWithCopyWarning: \n",
      "A value is trying to be set on a copy of a slice from a DataFrame.\n",
      "Try using .loc[row_indexer,col_indexer] = value instead\n",
      "\n",
      "See the caveats in the documentation: https://pandas.pydata.org/pandas-docs/stable/user_guide/indexing.html#returning-a-view-versus-a-copy\n",
      "  df[\"Salary\"] = df[\"Salary\"].str.replace(\",\",\"\")\n"
     ]
    },
    {
     "data": {
      "text/html": [
       "<div>\n",
       "<style scoped>\n",
       "    .dataframe tbody tr th:only-of-type {\n",
       "        vertical-align: middle;\n",
       "    }\n",
       "\n",
       "    .dataframe tbody tr th {\n",
       "        vertical-align: top;\n",
       "    }\n",
       "\n",
       "    .dataframe thead th {\n",
       "        text-align: right;\n",
       "    }\n",
       "</style>\n",
       "<table border=\"1\" class=\"dataframe\">\n",
       "  <thead>\n",
       "    <tr style=\"text-align: right;\">\n",
       "      <th></th>\n",
       "      <th>Name</th>\n",
       "      <th>Gender</th>\n",
       "      <th>Salary</th>\n",
       "      <th>Months</th>\n",
       "    </tr>\n",
       "  </thead>\n",
       "  <tbody>\n",
       "    <tr>\n",
       "      <th>0</th>\n",
       "      <td>Hazel</td>\n",
       "      <td>female</td>\n",
       "      <td>85000</td>\n",
       "      <td>36.0</td>\n",
       "    </tr>\n",
       "    <tr>\n",
       "      <th>1</th>\n",
       "      <td>Hugo</td>\n",
       "      <td>male</td>\n",
       "      <td>61000</td>\n",
       "      <td>20.0</td>\n",
       "    </tr>\n",
       "    <tr>\n",
       "      <th>2</th>\n",
       "      <td>Hilbert</td>\n",
       "      <td>male</td>\n",
       "      <td>87000</td>\n",
       "      <td>56.0</td>\n",
       "    </tr>\n",
       "    <tr>\n",
       "      <th>4</th>\n",
       "      <td>Hilda</td>\n",
       "      <td>female</td>\n",
       "      <td>72000</td>\n",
       "      <td>14.0</td>\n",
       "    </tr>\n",
       "    <tr>\n",
       "      <th>5</th>\n",
       "      <td>Honoria</td>\n",
       "      <td>female</td>\n",
       "      <td>55000</td>\n",
       "      <td>NaN</td>\n",
       "    </tr>\n",
       "    <tr>\n",
       "      <th>6</th>\n",
       "      <td>Herbert</td>\n",
       "      <td>male</td>\n",
       "      <td>57000</td>\n",
       "      <td>33.0</td>\n",
       "    </tr>\n",
       "    <tr>\n",
       "      <th>7</th>\n",
       "      <td>Hannah</td>\n",
       "      <td>female</td>\n",
       "      <td>66000</td>\n",
       "      <td>44.0</td>\n",
       "    </tr>\n",
       "    <tr>\n",
       "      <th>9</th>\n",
       "      <td>Hayley</td>\n",
       "      <td>female</td>\n",
       "      <td>70000</td>\n",
       "      <td>53.0</td>\n",
       "    </tr>\n",
       "  </tbody>\n",
       "</table>\n",
       "</div>"
      ],
      "text/plain": [
       "      Name  Gender  Salary  Months\n",
       "0    Hazel  female  85000     36.0\n",
       "1     Hugo    male  61000     20.0\n",
       "2  Hilbert    male  87000     56.0\n",
       "4    Hilda  female  72000     14.0\n",
       "5  Honoria  female  55000      NaN\n",
       "6  Herbert    male  57000     33.0\n",
       "7   Hannah  female  66000     44.0\n",
       "9   Hayley  female  70000     53.0"
      ]
     },
     "execution_count": 21,
     "metadata": {},
     "output_type": "execute_result"
    }
   ],
   "source": [
    "df[\"Salary\"] = df[\"Salary\"].str.replace(\",\",\"\")\n",
    "df"
   ]
  },
  {
   "cell_type": "markdown",
   "metadata": {},
   "source": [
    "### Section 5:  Changing column type\n",
    "\n",
    "Unfortunately, we are not finished yet, because the `Pay` column is still stored as strings.  Check what types the columns are: "
   ]
  },
  {
   "cell_type": "code",
   "execution_count": 22,
   "metadata": {},
   "outputs": [
    {
     "data": {
      "text/plain": [
       "Name       object\n",
       "Gender     object\n",
       "Salary     object\n",
       "Months    float64\n",
       "dtype: object"
      ]
     },
     "execution_count": 22,
     "metadata": {},
     "output_type": "execute_result"
    }
   ],
   "source": [
    "df.dtypes"
   ]
  },
  {
   "cell_type": "markdown",
   "metadata": {},
   "source": [
    "<details><summary>Answer:</summary>\n",
    "<code>df.dtypes</code>\n",
    "</details>\n",
    "\n",
    "What type is shown for the string columns?\n",
    "\n",
    "Object is a catch-all type that includes string.\n",
    "\n",
    "We need to convert the `Pay` column into type `int` using the column function `.astype(int)`.  Can you figure out how to do this?"
   ]
  },
  {
   "cell_type": "code",
   "execution_count": 25,
   "metadata": {},
   "outputs": [
    {
     "name": "stderr",
     "output_type": "stream",
     "text": [
      "<ipython-input-25-d9ae67e3f532>:1: SettingWithCopyWarning: \n",
      "A value is trying to be set on a copy of a slice from a DataFrame.\n",
      "Try using .loc[row_indexer,col_indexer] = value instead\n",
      "\n",
      "See the caveats in the documentation: https://pandas.pydata.org/pandas-docs/stable/user_guide/indexing.html#returning-a-view-versus-a-copy\n",
      "  df[\"Salary\"] = df[\"Salary\"].astype(int)\n"
     ]
    }
   ],
   "source": [
    "df[\"Salary\"] = df[\"Salary\"].astype(int)"
   ]
  },
  {
   "cell_type": "markdown",
   "metadata": {},
   "source": [
    "<details><summary>Answer:</summary>\n",
    "<code>df[\"Pay\"] = df[\"Pay\"].astype(int)</code>\n",
    "</details>\n",
    "\n",
    "Display the column types again to see if the `Pay` column changed."
   ]
  },
  {
   "cell_type": "code",
   "execution_count": 26,
   "metadata": {},
   "outputs": [
    {
     "data": {
      "text/plain": [
       "Name       object\n",
       "Gender     object\n",
       "Salary      int64\n",
       "Months    float64\n",
       "dtype: object"
      ]
     },
     "execution_count": 26,
     "metadata": {},
     "output_type": "execute_result"
    }
   ],
   "source": [
    "df.dtypes"
   ]
  },
  {
   "cell_type": "code",
   "execution_count": 29,
   "metadata": {},
   "outputs": [
    {
     "data": {
      "text/plain": [
       "<AxesSubplot:>"
      ]
     },
     "execution_count": 29,
     "metadata": {},
     "output_type": "execute_result"
    },
    {
     "data": {
      "image/png": "[encoded data removed]",
      "text/plain": [
       "<Figure size 432x288 with 1 Axes>"
      ]
     },
     "metadata": {
      "needs_background": "light"
     },
     "output_type": "display_data"
    }
   ],
   "source": [
    "%matplotlib inline\n",
    "df[\"Salary\"].hist()"
   ]
  },
  {
   "cell_type": "code",
   "execution_count": 30,
   "metadata": {},
   "outputs": [
    {
     "data": {
      "text/html": [
       "<div>\n",
       "<style scoped>\n",
       "    .dataframe tbody tr th:only-of-type {\n",
       "        vertical-align: middle;\n",
       "    }\n",
       "\n",
       "    .dataframe tbody tr th {\n",
       "        vertical-align: top;\n",
       "    }\n",
       "\n",
       "    .dataframe thead th {\n",
       "        text-align: right;\n",
       "    }\n",
       "</style>\n",
       "<table border=\"1\" class=\"dataframe\">\n",
       "  <thead>\n",
       "    <tr style=\"text-align: right;\">\n",
       "      <th></th>\n",
       "      <th>Name</th>\n",
       "      <th>Gender</th>\n",
       "      <th>Salary</th>\n",
       "      <th>Months</th>\n",
       "    </tr>\n",
       "  </thead>\n",
       "  <tbody>\n",
       "    <tr>\n",
       "      <th>0</th>\n",
       "      <td>Hazel</td>\n",
       "      <td>female</td>\n",
       "      <td>85000</td>\n",
       "      <td>36.0</td>\n",
       "    </tr>\n",
       "    <tr>\n",
       "      <th>1</th>\n",
       "      <td>Hugo</td>\n",
       "      <td>male</td>\n",
       "      <td>61000</td>\n",
       "      <td>20.0</td>\n",
       "    </tr>\n",
       "    <tr>\n",
       "      <th>2</th>\n",
       "      <td>Hilbert</td>\n",
       "      <td>male</td>\n",
       "      <td>87000</td>\n",
       "      <td>56.0</td>\n",
       "    </tr>\n",
       "    <tr>\n",
       "      <th>4</th>\n",
       "      <td>Hilda</td>\n",
       "      <td>female</td>\n",
       "      <td>72000</td>\n",
       "      <td>14.0</td>\n",
       "    </tr>\n",
       "    <tr>\n",
       "      <th>5</th>\n",
       "      <td>Honoria</td>\n",
       "      <td>female</td>\n",
       "      <td>55000</td>\n",
       "      <td>NaN</td>\n",
       "    </tr>\n",
       "    <tr>\n",
       "      <th>6</th>\n",
       "      <td>Herbert</td>\n",
       "      <td>male</td>\n",
       "      <td>57000</td>\n",
       "      <td>33.0</td>\n",
       "    </tr>\n",
       "    <tr>\n",
       "      <th>7</th>\n",
       "      <td>Hannah</td>\n",
       "      <td>female</td>\n",
       "      <td>66000</td>\n",
       "      <td>44.0</td>\n",
       "    </tr>\n",
       "    <tr>\n",
       "      <th>9</th>\n",
       "      <td>Hayley</td>\n",
       "      <td>female</td>\n",
       "      <td>70000</td>\n",
       "      <td>53.0</td>\n",
       "    </tr>\n",
       "  </tbody>\n",
       "</table>\n",
       "</div>"
      ],
      "text/plain": [
       "      Name  Gender  Salary  Months\n",
       "0    Hazel  female   85000    36.0\n",
       "1     Hugo    male   61000    20.0\n",
       "2  Hilbert    male   87000    56.0\n",
       "4    Hilda  female   72000    14.0\n",
       "5  Honoria  female   55000     NaN\n",
       "6  Herbert    male   57000    33.0\n",
       "7   Hannah  female   66000    44.0\n",
       "9   Hayley  female   70000    53.0"
      ]
     },
     "execution_count": 30,
     "metadata": {},
     "output_type": "execute_result"
    }
   ],
   "source": [
    "df"
   ]
  },
  {
   "cell_type": "markdown",
   "metadata": {},
   "source": [
    "We have now cleaned the data set, except for dealing with the missing data which we discussed last lab."
   ]
  }
 ],
 "metadata": {
  "kernelspec": {
   "display_name": "Python 3",
   "language": "python",
   "name": "python3"
  },
  "language_info": {
   "codemirror_mode": {
    "name": "ipython",
    "version": 3
   },
   "file_extension": ".py",
   "mimetype": "text/x-python",
   "name": "python",
   "nbconvert_exporter": "python",
   "pygments_lexer": "ipython3",
   "version": "3.8.5"
  }
 },
 "nbformat": 4,
 "nbformat_minor": 2
}
