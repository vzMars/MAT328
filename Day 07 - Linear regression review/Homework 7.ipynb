{
 "cells": [
  {
   "cell_type": "markdown",
   "metadata": {},
   "source": [
    "Marcos Gonzalez  \n",
    "Homework #7  \n",
    "3/4/21"
   ]
  },
  {
   "cell_type": "markdown",
   "metadata": {
    "collapsed": true
   },
   "source": [
    "# Homework 7\n",
    "\n",
    "This assignment uses the weather data from Lab 1, from [https://github.com/fivethirtyeight/data/tree/master/us-weather-history](https://github.com/fivethirtyeight/data/tree/master/us-weather-history).  We used KNYC.csv in Lab 1, and will also use KCLT.csv in this homework, which is the weather data for Charlotte, NC, in this assignment.\n",
    "\n",
    "The URLs for the two CSV files are:\n",
    "KNYC.csv: [https://raw.githubusercontent.com/fivethirtyeight/data/master/us-weather-history/KNYC.csv](https://raw.githubusercontent.com/fivethirtyeight/data/master/us-weather-history/KNYC.csv)\n",
    "KCLT.csv: [https://raw.githubusercontent.com/fivethirtyeight/data/master/us-weather-history/KCLT.csv](https://raw.githubusercontent.com/fivethirtyeight/data/master/us-weather-history/KCLT.csv)\n",
    "\n",
    "This assignment will look at different ways to predict the actual maximum daily temperature in New York using linear regression.  The actual maximum temperature was the maximum temperature recorded on that day.\n",
    "\n",
    "### Question 0:  Loading the data\n",
    "\n",
    "Import libraries and load the data.\n",
    "\n"
   ]
  },
  {
   "cell_type": "code",
   "execution_count": 2,
   "metadata": {},
   "outputs": [],
   "source": [
    "import matplotlib.pyplot as plt\n",
    "import pandas as pd\n",
    "import statsmodels.formula.api as smf\n",
    "import seaborn as sns\n",
    "import numpy as np\n",
    "\n",
    "%matplotlib inline"
   ]
  },
  {
   "cell_type": "code",
   "execution_count": 4,
   "metadata": {},
   "outputs": [
    {
     "data": {
      "text/html": [
       "<div>\n",
       "<style scoped>\n",
       "    .dataframe tbody tr th:only-of-type {\n",
       "        vertical-align: middle;\n",
       "    }\n",
       "\n",
       "    .dataframe tbody tr th {\n",
       "        vertical-align: top;\n",
       "    }\n",
       "\n",
       "    .dataframe thead th {\n",
       "        text-align: right;\n",
       "    }\n",
       "</style>\n",
       "<table border=\"1\" class=\"dataframe\">\n",
       "  <thead>\n",
       "    <tr style=\"text-align: right;\">\n",
       "      <th></th>\n",
       "      <th>date</th>\n",
       "      <th>actual_mean_temp</th>\n",
       "      <th>actual_min_temp</th>\n",
       "      <th>actual_max_temp</th>\n",
       "      <th>average_min_temp</th>\n",
       "      <th>average_max_temp</th>\n",
       "      <th>record_min_temp</th>\n",
       "      <th>record_max_temp</th>\n",
       "      <th>record_min_temp_year</th>\n",
       "      <th>record_max_temp_year</th>\n",
       "      <th>actual_precipitation</th>\n",
       "      <th>average_precipitation</th>\n",
       "      <th>record_precipitation</th>\n",
       "    </tr>\n",
       "  </thead>\n",
       "  <tbody>\n",
       "    <tr>\n",
       "      <th>0</th>\n",
       "      <td>2014-7-1</td>\n",
       "      <td>81</td>\n",
       "      <td>72</td>\n",
       "      <td>89</td>\n",
       "      <td>68</td>\n",
       "      <td>83</td>\n",
       "      <td>52</td>\n",
       "      <td>100</td>\n",
       "      <td>1943</td>\n",
       "      <td>1901</td>\n",
       "      <td>0.00</td>\n",
       "      <td>0.12</td>\n",
       "      <td>2.17</td>\n",
       "    </tr>\n",
       "    <tr>\n",
       "      <th>1</th>\n",
       "      <td>2014-7-2</td>\n",
       "      <td>82</td>\n",
       "      <td>72</td>\n",
       "      <td>91</td>\n",
       "      <td>68</td>\n",
       "      <td>83</td>\n",
       "      <td>56</td>\n",
       "      <td>100</td>\n",
       "      <td>2001</td>\n",
       "      <td>1966</td>\n",
       "      <td>0.96</td>\n",
       "      <td>0.13</td>\n",
       "      <td>1.79</td>\n",
       "    </tr>\n",
       "    <tr>\n",
       "      <th>2</th>\n",
       "      <td>2014-7-3</td>\n",
       "      <td>78</td>\n",
       "      <td>69</td>\n",
       "      <td>87</td>\n",
       "      <td>68</td>\n",
       "      <td>83</td>\n",
       "      <td>54</td>\n",
       "      <td>103</td>\n",
       "      <td>1933</td>\n",
       "      <td>1966</td>\n",
       "      <td>1.78</td>\n",
       "      <td>0.12</td>\n",
       "      <td>2.80</td>\n",
       "    </tr>\n",
       "    <tr>\n",
       "      <th>3</th>\n",
       "      <td>2014-7-4</td>\n",
       "      <td>70</td>\n",
       "      <td>65</td>\n",
       "      <td>74</td>\n",
       "      <td>68</td>\n",
       "      <td>84</td>\n",
       "      <td>55</td>\n",
       "      <td>102</td>\n",
       "      <td>1986</td>\n",
       "      <td>1949</td>\n",
       "      <td>0.14</td>\n",
       "      <td>0.13</td>\n",
       "      <td>1.76</td>\n",
       "    </tr>\n",
       "    <tr>\n",
       "      <th>4</th>\n",
       "      <td>2014-7-5</td>\n",
       "      <td>72</td>\n",
       "      <td>63</td>\n",
       "      <td>81</td>\n",
       "      <td>68</td>\n",
       "      <td>84</td>\n",
       "      <td>53</td>\n",
       "      <td>101</td>\n",
       "      <td>1979</td>\n",
       "      <td>1999</td>\n",
       "      <td>0.00</td>\n",
       "      <td>0.12</td>\n",
       "      <td>3.07</td>\n",
       "    </tr>\n",
       "  </tbody>\n",
       "</table>\n",
       "</div>"
      ],
      "text/plain": [
       "       date  actual_mean_temp  actual_min_temp  actual_max_temp  \\\n",
       "0  2014-7-1                81               72               89   \n",
       "1  2014-7-2                82               72               91   \n",
       "2  2014-7-3                78               69               87   \n",
       "3  2014-7-4                70               65               74   \n",
       "4  2014-7-5                72               63               81   \n",
       "\n",
       "   average_min_temp  average_max_temp  record_min_temp  record_max_temp  \\\n",
       "0                68                83               52              100   \n",
       "1                68                83               56              100   \n",
       "2                68                83               54              103   \n",
       "3                68                84               55              102   \n",
       "4                68                84               53              101   \n",
       "\n",
       "   record_min_temp_year  record_max_temp_year  actual_precipitation  \\\n",
       "0                  1943                  1901                  0.00   \n",
       "1                  2001                  1966                  0.96   \n",
       "2                  1933                  1966                  1.78   \n",
       "3                  1986                  1949                  0.14   \n",
       "4                  1979                  1999                  0.00   \n",
       "\n",
       "   average_precipitation  record_precipitation  \n",
       "0                   0.12                  2.17  \n",
       "1                   0.13                  1.79  \n",
       "2                   0.12                  2.80  \n",
       "3                   0.13                  1.76  \n",
       "4                   0.12                  3.07  "
      ]
     },
     "execution_count": 4,
     "metadata": {},
     "output_type": "execute_result"
    }
   ],
   "source": [
    "knyc = pd.read_csv(\"https://raw.githubusercontent.com/fivethirtyeight/data/master/us-weather-history/KNYC.csv\")\n",
    "knyc.head()"
   ]
  },
  {
   "cell_type": "code",
   "execution_count": 5,
   "metadata": {},
   "outputs": [
    {
     "data": {
      "text/html": [
       "<div>\n",
       "<style scoped>\n",
       "    .dataframe tbody tr th:only-of-type {\n",
       "        vertical-align: middle;\n",
       "    }\n",
       "\n",
       "    .dataframe tbody tr th {\n",
       "        vertical-align: top;\n",
       "    }\n",
       "\n",
       "    .dataframe thead th {\n",
       "        text-align: right;\n",
       "    }\n",
       "</style>\n",
       "<table border=\"1\" class=\"dataframe\">\n",
       "  <thead>\n",
       "    <tr style=\"text-align: right;\">\n",
       "      <th></th>\n",
       "      <th>date</th>\n",
       "      <th>actual_mean_temp</th>\n",
       "      <th>actual_min_temp</th>\n",
       "      <th>actual_max_temp</th>\n",
       "      <th>average_min_temp</th>\n",
       "      <th>average_max_temp</th>\n",
       "      <th>record_min_temp</th>\n",
       "      <th>record_max_temp</th>\n",
       "      <th>record_min_temp_year</th>\n",
       "      <th>record_max_temp_year</th>\n",
       "      <th>actual_precipitation</th>\n",
       "      <th>average_precipitation</th>\n",
       "      <th>record_precipitation</th>\n",
       "    </tr>\n",
       "  </thead>\n",
       "  <tbody>\n",
       "    <tr>\n",
       "      <th>0</th>\n",
       "      <td>2014-7-1</td>\n",
       "      <td>81</td>\n",
       "      <td>70</td>\n",
       "      <td>91</td>\n",
       "      <td>67</td>\n",
       "      <td>89</td>\n",
       "      <td>56</td>\n",
       "      <td>104</td>\n",
       "      <td>1919</td>\n",
       "      <td>2012</td>\n",
       "      <td>0.00</td>\n",
       "      <td>0.10</td>\n",
       "      <td>5.91</td>\n",
       "    </tr>\n",
       "    <tr>\n",
       "      <th>1</th>\n",
       "      <td>2014-7-2</td>\n",
       "      <td>85</td>\n",
       "      <td>74</td>\n",
       "      <td>95</td>\n",
       "      <td>68</td>\n",
       "      <td>89</td>\n",
       "      <td>56</td>\n",
       "      <td>101</td>\n",
       "      <td>2008</td>\n",
       "      <td>1931</td>\n",
       "      <td>0.00</td>\n",
       "      <td>0.10</td>\n",
       "      <td>1.53</td>\n",
       "    </tr>\n",
       "    <tr>\n",
       "      <th>2</th>\n",
       "      <td>2014-7-3</td>\n",
       "      <td>82</td>\n",
       "      <td>71</td>\n",
       "      <td>93</td>\n",
       "      <td>68</td>\n",
       "      <td>89</td>\n",
       "      <td>56</td>\n",
       "      <td>99</td>\n",
       "      <td>2010</td>\n",
       "      <td>1931</td>\n",
       "      <td>0.14</td>\n",
       "      <td>0.11</td>\n",
       "      <td>2.50</td>\n",
       "    </tr>\n",
       "    <tr>\n",
       "      <th>3</th>\n",
       "      <td>2014-7-4</td>\n",
       "      <td>75</td>\n",
       "      <td>64</td>\n",
       "      <td>86</td>\n",
       "      <td>68</td>\n",
       "      <td>89</td>\n",
       "      <td>55</td>\n",
       "      <td>99</td>\n",
       "      <td>1933</td>\n",
       "      <td>1955</td>\n",
       "      <td>0.00</td>\n",
       "      <td>0.10</td>\n",
       "      <td>2.63</td>\n",
       "    </tr>\n",
       "    <tr>\n",
       "      <th>4</th>\n",
       "      <td>2014-7-5</td>\n",
       "      <td>72</td>\n",
       "      <td>60</td>\n",
       "      <td>84</td>\n",
       "      <td>68</td>\n",
       "      <td>89</td>\n",
       "      <td>57</td>\n",
       "      <td>100</td>\n",
       "      <td>1967</td>\n",
       "      <td>1954</td>\n",
       "      <td>0.00</td>\n",
       "      <td>0.10</td>\n",
       "      <td>1.65</td>\n",
       "    </tr>\n",
       "  </tbody>\n",
       "</table>\n",
       "</div>"
      ],
      "text/plain": [
       "       date  actual_mean_temp  actual_min_temp  actual_max_temp  \\\n",
       "0  2014-7-1                81               70               91   \n",
       "1  2014-7-2                85               74               95   \n",
       "2  2014-7-3                82               71               93   \n",
       "3  2014-7-4                75               64               86   \n",
       "4  2014-7-5                72               60               84   \n",
       "\n",
       "   average_min_temp  average_max_temp  record_min_temp  record_max_temp  \\\n",
       "0                67                89               56              104   \n",
       "1                68                89               56              101   \n",
       "2                68                89               56               99   \n",
       "3                68                89               55               99   \n",
       "4                68                89               57              100   \n",
       "\n",
       "   record_min_temp_year  record_max_temp_year  actual_precipitation  \\\n",
       "0                  1919                  2012                  0.00   \n",
       "1                  2008                  1931                  0.00   \n",
       "2                  2010                  1931                  0.14   \n",
       "3                  1933                  1955                  0.00   \n",
       "4                  1967                  1954                  0.00   \n",
       "\n",
       "   average_precipitation  record_precipitation  \n",
       "0                   0.10                  5.91  \n",
       "1                   0.10                  1.53  \n",
       "2                   0.11                  2.50  \n",
       "3                   0.10                  2.63  \n",
       "4                   0.10                  1.65  "
      ]
     },
     "execution_count": 5,
     "metadata": {},
     "output_type": "execute_result"
    }
   ],
   "source": [
    "kclt = pd.read_csv(\"https://raw.githubusercontent.com/fivethirtyeight/data/master/us-weather-history/KCLT.csv\")\n",
    "kclt.head()"
   ]
  },
  {
   "cell_type": "markdown",
   "metadata": {},
   "source": [
    "## Question 1 \n",
    "\n",
    "*Predicting the NYC actual max temperature from the NYC average max temperature*\n",
    "    \n",
    "a. Use regplot from Seaborn to create a scatter plot of the average max temperature (on x axis) vs. the actual max temperature (on y axis) with the regression line.  Do you think this data has a linear relationship?"
   ]
  },
  {
   "cell_type": "code",
   "execution_count": 13,
   "metadata": {},
   "outputs": [
    {
     "data": {
      "text/plain": [
       "<AxesSubplot:xlabel='average_max_temp', ylabel='actual_max_temp'>"
      ]
     },
     "execution_count": 13,
     "metadata": {},
     "output_type": "execute_result"
    },
    {
     "data": {
      "image/png": "[encoded data removed]",
      "text/plain": [
       "<Figure size 432x288 with 1 Axes>"
      ]
     },
     "metadata": {
      "needs_background": "light"
     },
     "output_type": "display_data"
    }
   ],
   "source": [
    "sns.regplot(x = \"average_max_temp\", y = \"actual_max_temp\", data = knyc)"
   ]
  },
  {
   "cell_type": "markdown",
   "metadata": {},
   "source": [
    "It seems to be a linear relationship."
   ]
  },
  {
   "cell_type": "markdown",
   "metadata": {},
   "source": [
    "b. Compute the linear regression model where the independent variable is the average max temperature and the dependent variable is the actual max temperature.  What is the equation for the linear model?  What proportion of the variance is explained by the model?"
   ]
  },
  {
   "cell_type": "code",
   "execution_count": 14,
   "metadata": {},
   "outputs": [
    {
     "data": {
      "text/html": [
       "<table class=\"simpletable\">\n",
       "<caption>OLS Regression Results</caption>\n",
       "<tr>\n",
       "  <th>Dep. Variable:</th>     <td>actual_max_temp</td> <th>  R-squared:         </th> <td>   0.830</td> \n",
       "</tr>\n",
       "<tr>\n",
       "  <th>Model:</th>                   <td>OLS</td>       <th>  Adj. R-squared:    </th> <td>   0.830</td> \n",
       "</tr>\n",
       "<tr>\n",
       "  <th>Method:</th>             <td>Least Squares</td>  <th>  F-statistic:       </th> <td>   1776.</td> \n",
       "</tr>\n",
       "<tr>\n",
       "  <th>Date:</th>             <td>Thu, 04 Mar 2021</td> <th>  Prob (F-statistic):</th> <td>7.37e-142</td>\n",
       "</tr>\n",
       "<tr>\n",
       "  <th>Time:</th>                 <td>19:24:13</td>     <th>  Log-Likelihood:    </th> <td> -1277.0</td> \n",
       "</tr>\n",
       "<tr>\n",
       "  <th>No. Observations:</th>      <td>   365</td>      <th>  AIC:               </th> <td>   2558.</td> \n",
       "</tr>\n",
       "<tr>\n",
       "  <th>Df Residuals:</th>          <td>   363</td>      <th>  BIC:               </th> <td>   2566.</td> \n",
       "</tr>\n",
       "<tr>\n",
       "  <th>Df Model:</th>              <td>     1</td>      <th>                     </th>     <td> </td>    \n",
       "</tr>\n",
       "<tr>\n",
       "  <th>Covariance Type:</th>      <td>nonrobust</td>    <th>                     </th>     <td> </td>    \n",
       "</tr>\n",
       "</table>\n",
       "<table class=\"simpletable\">\n",
       "<tr>\n",
       "          <td></td>            <th>coef</th>     <th>std err</th>      <th>t</th>      <th>P>|t|</th>  <th>[0.025</th>    <th>0.975]</th>  \n",
       "</tr>\n",
       "<tr>\n",
       "  <th>Intercept</th>        <td>   -6.7238</td> <td>    1.678</td> <td>   -4.007</td> <td> 0.000</td> <td>  -10.024</td> <td>   -3.424</td>\n",
       "</tr>\n",
       "<tr>\n",
       "  <th>average_max_temp</th> <td>    1.1027</td> <td>    0.026</td> <td>   42.137</td> <td> 0.000</td> <td>    1.051</td> <td>    1.154</td>\n",
       "</tr>\n",
       "</table>\n",
       "<table class=\"simpletable\">\n",
       "<tr>\n",
       "  <th>Omnibus:</th>       <td> 0.665</td> <th>  Durbin-Watson:     </th> <td>   0.867</td>\n",
       "</tr>\n",
       "<tr>\n",
       "  <th>Prob(Omnibus):</th> <td> 0.717</td> <th>  Jarque-Bera (JB):  </th> <td>   0.714</td>\n",
       "</tr>\n",
       "<tr>\n",
       "  <th>Skew:</th>          <td> 0.101</td> <th>  Prob(JB):          </th> <td>   0.700</td>\n",
       "</tr>\n",
       "<tr>\n",
       "  <th>Kurtosis:</th>      <td> 2.924</td> <th>  Cond. No.          </th> <td>    256.</td>\n",
       "</tr>\n",
       "</table><br/><br/>Notes:<br/>[1] Standard Errors assume that the covariance matrix of the errors is correctly specified."
      ],
      "text/plain": [
       "<class 'statsmodels.iolib.summary.Summary'>\n",
       "\"\"\"\n",
       "                            OLS Regression Results                            \n",
       "==============================================================================\n",
       "Dep. Variable:        actual_max_temp   R-squared:                       0.830\n",
       "Model:                            OLS   Adj. R-squared:                  0.830\n",
       "Method:                 Least Squares   F-statistic:                     1776.\n",
       "Date:                Thu, 04 Mar 2021   Prob (F-statistic):          7.37e-142\n",
       "Time:                        19:24:13   Log-Likelihood:                -1277.0\n",
       "No. Observations:                 365   AIC:                             2558.\n",
       "Df Residuals:                     363   BIC:                             2566.\n",
       "Df Model:                           1                                         \n",
       "Covariance Type:            nonrobust                                         \n",
       "====================================================================================\n",
       "                       coef    std err          t      P>|t|      [0.025      0.975]\n",
       "------------------------------------------------------------------------------------\n",
       "Intercept           -6.7238      1.678     -4.007      0.000     -10.024      -3.424\n",
       "average_max_temp     1.1027      0.026     42.137      0.000       1.051       1.154\n",
       "==============================================================================\n",
       "Omnibus:                        0.665   Durbin-Watson:                   0.867\n",
       "Prob(Omnibus):                  0.717   Jarque-Bera (JB):                0.714\n",
       "Skew:                           0.101   Prob(JB):                        0.700\n",
       "Kurtosis:                       2.924   Cond. No.                         256.\n",
       "==============================================================================\n",
       "\n",
       "Notes:\n",
       "[1] Standard Errors assume that the covariance matrix of the errors is correctly specified.\n",
       "\"\"\""
      ]
     },
     "execution_count": 14,
     "metadata": {},
     "output_type": "execute_result"
    }
   ],
   "source": [
    "lm1 = smf.ols(\"actual_max_temp ~ average_max_temp\", data = knyc).fit()\n",
    "lm1.summary()"
   ]
  },
  {
   "cell_type": "markdown",
   "metadata": {},
   "source": [
    "$$Y = \\beta_0 + \\beta_1 X_1 + \\beta_2 X_2 + \\beta_3 X_3 + \\epsilon$$  \n",
    "- Equation for Linear Model: $$Y = -6.7238 + 1.1027 X_1$$"
   ]
  },
  {
   "cell_type": "markdown",
   "metadata": {},
   "source": [
    "- Proportion of the Variance: R-squared: 0.830"
   ]
  },
  {
   "cell_type": "markdown",
   "metadata": {},
   "source": [
    "c. Plot a histogram of the residuals of your model from part b.  Describe their distribution.  Based on this and your results from parts a and b, do you think this linear model is a good fit?  Why or why not?"
   ]
  },
  {
   "cell_type": "code",
   "execution_count": 15,
   "metadata": {},
   "outputs": [
    {
     "data": {
      "text/plain": [
       "0       4.195646\n",
       "1       6.195646\n",
       "2       2.195646\n",
       "3     -11.907102\n",
       "4      -4.907102\n",
       "         ...    \n",
       "360    -2.701605\n",
       "361   -12.701605\n",
       "362   -11.804354\n",
       "363    -8.804354\n",
       "364    -2.804354\n",
       "Length: 365, dtype: float64"
      ]
     },
     "execution_count": 15,
     "metadata": {},
     "output_type": "execute_result"
    }
   ],
   "source": [
    "lm1.resid"
   ]
  },
  {
   "cell_type": "code",
   "execution_count": 16,
   "metadata": {},
   "outputs": [
    {
     "data": {
      "text/plain": [
       "<AxesSubplot:>"
      ]
     },
     "execution_count": 16,
     "metadata": {},
     "output_type": "execute_result"
    },
    {
     "data": {
      "image/png": "[encoded data removed]",
      "text/plain": [
       "<Figure size 432x288 with 1 Axes>"
      ]
     },
     "metadata": {
      "needs_background": "light"
     },
     "output_type": "display_data"
    }
   ],
   "source": [
    "lm1.resid.hist(bins = 20)"
   ]
  },
  {
   "cell_type": "markdown",
   "metadata": {},
   "source": [
    "From what i can see it has a normal distribution centered at 0. I think this linear model is a good fit because the risiduals aren’t being over or under estimated."
   ]
  },
  {
   "cell_type": "markdown",
   "metadata": {},
   "source": [
    "## Question 2\n",
    "*Predicting the NYC actual max temperature from the Charlotte actual max temperature and the NYC average max temperature*\n",
    "\n",
    "Note:  To easily perform the following analysis, add the column of actual max temperatures from the Charlotte weather data to your NYC weather dataframe.  \n",
    "    ex.  `nyc_weather_df[\"name_of_new_column\"] = charlotte_weather_df[\"actual_max_temp\"]`\n",
    "\n",
    "a. Use regplot from Seaborn to create a scatter plot of the Charlotte actual max temperature (on x axis) vs. the NYC actual max temperature (on y axis) with the regression line.  Do you think this data has a linear relationship?"
   ]
  },
  {
   "cell_type": "code",
   "execution_count": 17,
   "metadata": {},
   "outputs": [
    {
     "data": {
      "text/html": [
       "<div>\n",
       "<style scoped>\n",
       "    .dataframe tbody tr th:only-of-type {\n",
       "        vertical-align: middle;\n",
       "    }\n",
       "\n",
       "    .dataframe tbody tr th {\n",
       "        vertical-align: top;\n",
       "    }\n",
       "\n",
       "    .dataframe thead th {\n",
       "        text-align: right;\n",
       "    }\n",
       "</style>\n",
       "<table border=\"1\" class=\"dataframe\">\n",
       "  <thead>\n",
       "    <tr style=\"text-align: right;\">\n",
       "      <th></th>\n",
       "      <th>date</th>\n",
       "      <th>actual_mean_temp</th>\n",
       "      <th>actual_min_temp</th>\n",
       "      <th>actual_max_temp</th>\n",
       "      <th>average_min_temp</th>\n",
       "      <th>average_max_temp</th>\n",
       "      <th>record_min_temp</th>\n",
       "      <th>record_max_temp</th>\n",
       "      <th>record_min_temp_year</th>\n",
       "      <th>record_max_temp_year</th>\n",
       "      <th>actual_precipitation</th>\n",
       "      <th>average_precipitation</th>\n",
       "      <th>record_precipitation</th>\n",
       "      <th>kclt_actual_max_temp</th>\n",
       "    </tr>\n",
       "  </thead>\n",
       "  <tbody>\n",
       "    <tr>\n",
       "      <th>0</th>\n",
       "      <td>2014-7-1</td>\n",
       "      <td>81</td>\n",
       "      <td>72</td>\n",
       "      <td>89</td>\n",
       "      <td>68</td>\n",
       "      <td>83</td>\n",
       "      <td>52</td>\n",
       "      <td>100</td>\n",
       "      <td>1943</td>\n",
       "      <td>1901</td>\n",
       "      <td>0.00</td>\n",
       "      <td>0.12</td>\n",
       "      <td>2.17</td>\n",
       "      <td>91</td>\n",
       "    </tr>\n",
       "    <tr>\n",
       "      <th>1</th>\n",
       "      <td>2014-7-2</td>\n",
       "      <td>82</td>\n",
       "      <td>72</td>\n",
       "      <td>91</td>\n",
       "      <td>68</td>\n",
       "      <td>83</td>\n",
       "      <td>56</td>\n",
       "      <td>100</td>\n",
       "      <td>2001</td>\n",
       "      <td>1966</td>\n",
       "      <td>0.96</td>\n",
       "      <td>0.13</td>\n",
       "      <td>1.79</td>\n",
       "      <td>95</td>\n",
       "    </tr>\n",
       "    <tr>\n",
       "      <th>2</th>\n",
       "      <td>2014-7-3</td>\n",
       "      <td>78</td>\n",
       "      <td>69</td>\n",
       "      <td>87</td>\n",
       "      <td>68</td>\n",
       "      <td>83</td>\n",
       "      <td>54</td>\n",
       "      <td>103</td>\n",
       "      <td>1933</td>\n",
       "      <td>1966</td>\n",
       "      <td>1.78</td>\n",
       "      <td>0.12</td>\n",
       "      <td>2.80</td>\n",
       "      <td>93</td>\n",
       "    </tr>\n",
       "    <tr>\n",
       "      <th>3</th>\n",
       "      <td>2014-7-4</td>\n",
       "      <td>70</td>\n",
       "      <td>65</td>\n",
       "      <td>74</td>\n",
       "      <td>68</td>\n",
       "      <td>84</td>\n",
       "      <td>55</td>\n",
       "      <td>102</td>\n",
       "      <td>1986</td>\n",
       "      <td>1949</td>\n",
       "      <td>0.14</td>\n",
       "      <td>0.13</td>\n",
       "      <td>1.76</td>\n",
       "      <td>86</td>\n",
       "    </tr>\n",
       "    <tr>\n",
       "      <th>4</th>\n",
       "      <td>2014-7-5</td>\n",
       "      <td>72</td>\n",
       "      <td>63</td>\n",
       "      <td>81</td>\n",
       "      <td>68</td>\n",
       "      <td>84</td>\n",
       "      <td>53</td>\n",
       "      <td>101</td>\n",
       "      <td>1979</td>\n",
       "      <td>1999</td>\n",
       "      <td>0.00</td>\n",
       "      <td>0.12</td>\n",
       "      <td>3.07</td>\n",
       "      <td>84</td>\n",
       "    </tr>\n",
       "  </tbody>\n",
       "</table>\n",
       "</div>"
      ],
      "text/plain": [
       "       date  actual_mean_temp  actual_min_temp  actual_max_temp  \\\n",
       "0  2014-7-1                81               72               89   \n",
       "1  2014-7-2                82               72               91   \n",
       "2  2014-7-3                78               69               87   \n",
       "3  2014-7-4                70               65               74   \n",
       "4  2014-7-5                72               63               81   \n",
       "\n",
       "   average_min_temp  average_max_temp  record_min_temp  record_max_temp  \\\n",
       "0                68                83               52              100   \n",
       "1                68                83               56              100   \n",
       "2                68                83               54              103   \n",
       "3                68                84               55              102   \n",
       "4                68                84               53              101   \n",
       "\n",
       "   record_min_temp_year  record_max_temp_year  actual_precipitation  \\\n",
       "0                  1943                  1901                  0.00   \n",
       "1                  2001                  1966                  0.96   \n",
       "2                  1933                  1966                  1.78   \n",
       "3                  1986                  1949                  0.14   \n",
       "4                  1979                  1999                  0.00   \n",
       "\n",
       "   average_precipitation  record_precipitation  kclt_actual_max_temp  \n",
       "0                   0.12                  2.17                    91  \n",
       "1                   0.13                  1.79                    95  \n",
       "2                   0.12                  2.80                    93  \n",
       "3                   0.13                  1.76                    86  \n",
       "4                   0.12                  3.07                    84  "
      ]
     },
     "execution_count": 17,
     "metadata": {},
     "output_type": "execute_result"
    }
   ],
   "source": [
    "knyc[\"kclt_actual_max_temp\"] = kclt[\"actual_max_temp\"]\n",
    "knyc.head()"
   ]
  },
  {
   "cell_type": "code",
   "execution_count": 18,
   "metadata": {},
   "outputs": [
    {
     "data": {
      "text/plain": [
       "<AxesSubplot:xlabel='kclt_actual_max_temp', ylabel='actual_max_temp'>"
      ]
     },
     "execution_count": 18,
     "metadata": {},
     "output_type": "execute_result"
    },
    {
     "data": {
      "image/png": "[encoded data removed]",
      "text/plain": [
       "<Figure size 432x288 with 1 Axes>"
      ]
     },
     "metadata": {
      "needs_background": "light"
     },
     "output_type": "display_data"
    }
   ],
   "source": [
    "sns.regplot(x = \"kclt_actual_max_temp\", y = \"actual_max_temp\", data = knyc)"
   ]
  },
  {
   "cell_type": "markdown",
   "metadata": {},
   "source": [
    "It seems to have linear relationship like the previous scatter plot."
   ]
  },
  {
   "cell_type": "markdown",
   "metadata": {},
   "source": [
    "b. Compute the linear regression model where the independent variables are the NYC average max temperature and Charlotte actual max temperature, and the dependent variable is the NYC actual max temperature.  What proportion of the variance is explained by the model?"
   ]
  },
  {
   "cell_type": "code",
   "execution_count": 19,
   "metadata": {},
   "outputs": [
    {
     "data": {
      "text/html": [
       "<table class=\"simpletable\">\n",
       "<caption>OLS Regression Results</caption>\n",
       "<tr>\n",
       "  <th>Dep. Variable:</th>     <td>actual_max_temp</td> <th>  R-squared:         </th> <td>   0.874</td> \n",
       "</tr>\n",
       "<tr>\n",
       "  <th>Model:</th>                   <td>OLS</td>       <th>  Adj. R-squared:    </th> <td>   0.873</td> \n",
       "</tr>\n",
       "<tr>\n",
       "  <th>Method:</th>             <td>Least Squares</td>  <th>  F-statistic:       </th> <td>   1257.</td> \n",
       "</tr>\n",
       "<tr>\n",
       "  <th>Date:</th>             <td>Thu, 04 Mar 2021</td> <th>  Prob (F-statistic):</th> <td>1.19e-163</td>\n",
       "</tr>\n",
       "<tr>\n",
       "  <th>Time:</th>                 <td>20:21:32</td>     <th>  Log-Likelihood:    </th> <td> -1222.4</td> \n",
       "</tr>\n",
       "<tr>\n",
       "  <th>No. Observations:</th>      <td>   365</td>      <th>  AIC:               </th> <td>   2451.</td> \n",
       "</tr>\n",
       "<tr>\n",
       "  <th>Df Residuals:</th>          <td>   362</td>      <th>  BIC:               </th> <td>   2462.</td> \n",
       "</tr>\n",
       "<tr>\n",
       "  <th>Df Model:</th>              <td>     2</td>      <th>                     </th>     <td> </td>    \n",
       "</tr>\n",
       "<tr>\n",
       "  <th>Covariance Type:</th>      <td>nonrobust</td>    <th>                     </th>     <td> </td>    \n",
       "</tr>\n",
       "</table>\n",
       "<table class=\"simpletable\">\n",
       "<tr>\n",
       "            <td></td>              <th>coef</th>     <th>std err</th>      <th>t</th>      <th>P>|t|</th>  <th>[0.025</th>    <th>0.975]</th>  \n",
       "</tr>\n",
       "<tr>\n",
       "  <th>Intercept</th>            <td>  -15.0091</td> <td>    1.624</td> <td>   -9.242</td> <td> 0.000</td> <td>  -18.203</td> <td>  -11.815</td>\n",
       "</tr>\n",
       "<tr>\n",
       "  <th>average_max_temp</th>     <td>    0.6962</td> <td>    0.043</td> <td>   16.328</td> <td> 0.000</td> <td>    0.612</td> <td>    0.780</td>\n",
       "</tr>\n",
       "<tr>\n",
       "  <th>kclt_actual_max_temp</th> <td>    0.4680</td> <td>    0.042</td> <td>   11.235</td> <td> 0.000</td> <td>    0.386</td> <td>    0.550</td>\n",
       "</tr>\n",
       "</table>\n",
       "<table class=\"simpletable\">\n",
       "<tr>\n",
       "  <th>Omnibus:</th>       <td> 2.483</td> <th>  Durbin-Watson:     </th> <td>   0.984</td>\n",
       "</tr>\n",
       "<tr>\n",
       "  <th>Prob(Omnibus):</th> <td> 0.289</td> <th>  Jarque-Bera (JB):  </th> <td>   2.568</td>\n",
       "</tr>\n",
       "<tr>\n",
       "  <th>Skew:</th>          <td>-0.034</td> <th>  Prob(JB):          </th> <td>   0.277</td>\n",
       "</tr>\n",
       "<tr>\n",
       "  <th>Kurtosis:</th>      <td> 3.405</td> <th>  Cond. No.          </th> <td>    437.</td>\n",
       "</tr>\n",
       "</table><br/><br/>Notes:<br/>[1] Standard Errors assume that the covariance matrix of the errors is correctly specified."
      ],
      "text/plain": [
       "<class 'statsmodels.iolib.summary.Summary'>\n",
       "\"\"\"\n",
       "                            OLS Regression Results                            \n",
       "==============================================================================\n",
       "Dep. Variable:        actual_max_temp   R-squared:                       0.874\n",
       "Model:                            OLS   Adj. R-squared:                  0.873\n",
       "Method:                 Least Squares   F-statistic:                     1257.\n",
       "Date:                Thu, 04 Mar 2021   Prob (F-statistic):          1.19e-163\n",
       "Time:                        20:21:32   Log-Likelihood:                -1222.4\n",
       "No. Observations:                 365   AIC:                             2451.\n",
       "Df Residuals:                     362   BIC:                             2462.\n",
       "Df Model:                           2                                         \n",
       "Covariance Type:            nonrobust                                         \n",
       "========================================================================================\n",
       "                           coef    std err          t      P>|t|      [0.025      0.975]\n",
       "----------------------------------------------------------------------------------------\n",
       "Intercept              -15.0091      1.624     -9.242      0.000     -18.203     -11.815\n",
       "average_max_temp         0.6962      0.043     16.328      0.000       0.612       0.780\n",
       "kclt_actual_max_temp     0.4680      0.042     11.235      0.000       0.386       0.550\n",
       "==============================================================================\n",
       "Omnibus:                        2.483   Durbin-Watson:                   0.984\n",
       "Prob(Omnibus):                  0.289   Jarque-Bera (JB):                2.568\n",
       "Skew:                          -0.034   Prob(JB):                        0.277\n",
       "Kurtosis:                       3.405   Cond. No.                         437.\n",
       "==============================================================================\n",
       "\n",
       "Notes:\n",
       "[1] Standard Errors assume that the covariance matrix of the errors is correctly specified.\n",
       "\"\"\""
      ]
     },
     "execution_count": 19,
     "metadata": {},
     "output_type": "execute_result"
    }
   ],
   "source": [
    "lm2 = smf.ols(\"actual_max_temp ~ average_max_temp + kclt_actual_max_temp\", data = knyc).fit()\n",
    "lm2.summary()"
   ]
  },
  {
   "cell_type": "markdown",
   "metadata": {},
   "source": [
    "- Proportion of the Variance: R-squared: 0.874"
   ]
  },
  {
   "cell_type": "markdown",
   "metadata": {},
   "source": [
    "c. Predict the NYC actual max temperature if the Charlotte actual max temperature is 32F and the NYC average max temperature is 40F."
   ]
  },
  {
   "cell_type": "code",
   "execution_count": 20,
   "metadata": {},
   "outputs": [
    {
     "data": {
      "text/html": [
       "<div>\n",
       "<style scoped>\n",
       "    .dataframe tbody tr th:only-of-type {\n",
       "        vertical-align: middle;\n",
       "    }\n",
       "\n",
       "    .dataframe tbody tr th {\n",
       "        vertical-align: top;\n",
       "    }\n",
       "\n",
       "    .dataframe thead th {\n",
       "        text-align: right;\n",
       "    }\n",
       "</style>\n",
       "<table border=\"1\" class=\"dataframe\">\n",
       "  <thead>\n",
       "    <tr style=\"text-align: right;\">\n",
       "      <th></th>\n",
       "      <th>kclt_actual_max_temp</th>\n",
       "      <th>average_max_temp</th>\n",
       "    </tr>\n",
       "  </thead>\n",
       "  <tbody>\n",
       "    <tr>\n",
       "      <th>0</th>\n",
       "      <td>32</td>\n",
       "      <td>40</td>\n",
       "    </tr>\n",
       "  </tbody>\n",
       "</table>\n",
       "</div>"
      ],
      "text/plain": [
       "   kclt_actual_max_temp  average_max_temp\n",
       "0                    32                40"
      ]
     },
     "execution_count": 20,
     "metadata": {},
     "output_type": "execute_result"
    }
   ],
   "source": [
    "nyc_df = pd.DataFrame({\"kclt_actual_max_temp\":[32], \"average_max_temp\":[40]})\n",
    "nyc_df"
   ]
  },
  {
   "cell_type": "code",
   "execution_count": 22,
   "metadata": {},
   "outputs": [
    {
     "data": {
      "text/plain": [
       "0    27.815802\n",
       "dtype: float64"
      ]
     },
     "execution_count": 22,
     "metadata": {},
     "output_type": "execute_result"
    }
   ],
   "source": [
    "lm2.predict(nyc_df)"
   ]
  },
  {
   "cell_type": "markdown",
   "metadata": {},
   "source": [
    "d. Plot a histogram of the residuals of your model from part b.  Describe their distribution."
   ]
  },
  {
   "cell_type": "code",
   "execution_count": 23,
   "metadata": {},
   "outputs": [
    {
     "data": {
      "text/plain": [
       "0       3.635398\n",
       "1       3.763516\n",
       "2       0.699457\n",
       "3      -9.720996\n",
       "4      -1.785055\n",
       "         ...    \n",
       "360    -7.880090\n",
       "361   -14.136327\n",
       "362    -9.556780\n",
       "363    -7.492721\n",
       "364    -4.768513\n",
       "Length: 365, dtype: float64"
      ]
     },
     "execution_count": 23,
     "metadata": {},
     "output_type": "execute_result"
    }
   ],
   "source": [
    "lm2.resid"
   ]
  },
  {
   "cell_type": "code",
   "execution_count": 26,
   "metadata": {},
   "outputs": [
    {
     "data": {
      "text/plain": [
       "<AxesSubplot:>"
      ]
     },
     "execution_count": 26,
     "metadata": {},
     "output_type": "execute_result"
    },
    {
     "data": {
      "image/png": "[encoded data removed]",
      "text/plain": [
       "<Figure size 432x288 with 1 Axes>"
      ]
     },
     "metadata": {
      "needs_background": "light"
     },
     "output_type": "display_data"
    }
   ],
   "source": [
    "lm2.resid.hist(bins = 20)"
   ]
  },
  {
   "cell_type": "markdown",
   "metadata": {},
   "source": [
    "From what i can see it has a normal distribution centered at 0"
   ]
  },
  {
   "cell_type": "markdown",
   "metadata": {},
   "source": [
    "e. Make a scatter plot of the NYC actual max temperaturs (x axis) vs. the residuals from your linear model.  If you are using `plt.scatter()` you can add a horizontal line to your plot at 0 with the code `plt.axhline(0)`.  What do you notice about how the residuals are distributed above and below this line?  What tempertures will be overestimated by this model?  What temperatures will be underestimated by this model?"
   ]
  },
  {
   "cell_type": "code",
   "execution_count": 31,
   "metadata": {},
   "outputs": [
    {
     "data": {
      "text/plain": [
       "Text(0, 0.5, 'Residuals')"
      ]
     },
     "execution_count": 31,
     "metadata": {},
     "output_type": "execute_result"
    },
    {
     "data": {
      "image/png": "[encoded data removed]",
      "text/plain": [
       "<Figure size 432x288 with 1 Axes>"
      ]
     },
     "metadata": {
      "needs_background": "light"
     },
     "output_type": "display_data"
    }
   ],
   "source": [
    "plt.scatter(x = knyc[\"actual_max_temp\"], y = lm2.resid)\n",
    "plt.axhline(0)\n",
    "plt.xlabel(\"Actual temperatures\")\n",
    "plt.ylabel(\"Residuals\")"
   ]
  },
  {
   "cell_type": "markdown",
   "metadata": {},
   "source": [
    "Temperatures under 30 seem to be overestimated and temperatures over 80 seem to be underestimated."
   ]
  },
  {
   "cell_type": "markdown",
   "metadata": {},
   "source": [
    "f. Based on the previous parts, do you think this linear model is a good fit?"
   ]
  },
  {
   "cell_type": "markdown",
   "metadata": {},
   "source": [
    "I think it might be a good fit even though there are some temperatures being overestimated and underestimated."
   ]
  },
  {
   "cell_type": "markdown",
   "metadata": {},
   "source": []
  }
 ],
 "metadata": {
  "kernelspec": {
   "display_name": "Python 3",
   "language": "python",
   "name": "python3"
  },
  "language_info": {
   "codemirror_mode": {
    "name": "ipython",
    "version": 3
   },
   "file_extension": ".py",
   "mimetype": "text/x-python",
   "name": "python",
   "nbconvert_exporter": "python",
   "pygments_lexer": "ipython3",
   "version": "3.8.5"
  }
 },
 "nbformat": 4,
 "nbformat_minor": 2
}
