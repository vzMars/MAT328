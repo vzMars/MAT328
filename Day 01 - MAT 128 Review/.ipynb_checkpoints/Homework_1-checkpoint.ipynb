{
 "cells": [
  {
   "cell_type": "markdown",
   "metadata": {
    "id": "EgFQCpRd1FCw"
   },
   "source": [
    "Marcos Gonzalez  \n",
    "Homework #1  \n",
    "2/6/21"
   ]
  },
  {
   "cell_type": "markdown",
   "metadata": {
    "id": "YmMudDEQt5Ys"
   },
   "source": [
    "# Homework 1\n",
    "\n",
    "This assignment uses a dataset of all New York City active dog licenses issued after Jan. 1, 2018 (and last updated February 7, 2020).  \n",
    "\n",
    "The file can be downloaded from [https://github.com/megan-owen/MAT328-Techniques_in_Data_Science/raw/main/data/NYC_Dog_Licensing_Dataset_Feb2018.csv](https://github.com/megan-owen/MAT328-Techniques_in_Data_Science/raw/main/data/NYC_Dog_Licensing_Dataset_Feb2018.csv)\n",
    "\n",
    "or can be filtered and downloaded from the original source [https://data.cityofnewyork.us/Health/NYC-Dog-Licensing-Dataset/nu7n-tubp/data](https://data.cityofnewyork.us/Health/NYC-Dog-Licensing-Dataset/nu7n-tubp/data) by:\n",
    "\n",
    "1. click on \"Filter\" in the menu to the right, above the data table\n",
    "2. click on \"Add a New Filter Condition\"\n",
    "3. click on \"RowNumber\" (in the right side area that appears) to change it to \"LicenseIssuedDate\"\n",
    "4. click on \"is\" to change it to \"is after\"\n",
    "5. click on the text box just below \"LicenseIssuedDate is after\" to select Jan. 1, 2018.\n",
    "6. click on \"Export\" in the menu to the right, just above the data table\n",
    "7. click on \"CSV\" under \"Download\" in the menu that appears\n",
    "\n",
    "Answer the following questions for the data, showing all outputs of your code in the notebook. \n",
    "\n",
    "All plots should have an appropriate title and axes labels.\n",
    "\n",
    "## Question 0: Load the data\n",
    "\n",
    "Put any import statements, and load the dog licensing data from the CSV file here.  The column `LicenseIssuedDate` should stored as dates.\n"
   ]
  },
  {
   "cell_type": "code",
   "execution_count": 71,
   "metadata": {
    "id": "2WlYF4EN5hT4",
    "scrolled": true
   },
   "outputs": [
    {
     "data": {
      "text/html": [
       "<div>\n",
       "<style scoped>\n",
       "    .dataframe tbody tr th:only-of-type {\n",
       "        vertical-align: middle;\n",
       "    }\n",
       "\n",
       "    .dataframe tbody tr th {\n",
       "        vertical-align: top;\n",
       "    }\n",
       "\n",
       "    .dataframe thead th {\n",
       "        text-align: right;\n",
       "    }\n",
       "</style>\n",
       "<table border=\"1\" class=\"dataframe\">\n",
       "  <thead>\n",
       "    <tr style=\"text-align: right;\">\n",
       "      <th></th>\n",
       "      <th>RowNumber</th>\n",
       "      <th>AnimalName</th>\n",
       "      <th>AnimalGender</th>\n",
       "      <th>AnimalBirthMonth</th>\n",
       "      <th>BreedName</th>\n",
       "      <th>Borough</th>\n",
       "      <th>ZipCode</th>\n",
       "      <th>LicenseIssuedDate</th>\n",
       "      <th>LicenseExpiredDate</th>\n",
       "      <th>Extract Year</th>\n",
       "    </tr>\n",
       "  </thead>\n",
       "  <tbody>\n",
       "    <tr>\n",
       "      <th>0</th>\n",
       "      <td>46907</td>\n",
       "      <td>ROCKY</td>\n",
       "      <td>M</td>\n",
       "      <td>2017</td>\n",
       "      <td>Shih Tzu Crossbreed</td>\n",
       "      <td>NaN</td>\n",
       "      <td>10468</td>\n",
       "      <td>2018-01-02</td>\n",
       "      <td>01/02/2019</td>\n",
       "      <td>2018</td>\n",
       "    </tr>\n",
       "    <tr>\n",
       "      <th>1</th>\n",
       "      <td>46908</td>\n",
       "      <td>LUNA</td>\n",
       "      <td>F</td>\n",
       "      <td>2014</td>\n",
       "      <td>Welsh Corgi, Cardigan</td>\n",
       "      <td>NaN</td>\n",
       "      <td>11238</td>\n",
       "      <td>2018-01-02</td>\n",
       "      <td>01/02/2019</td>\n",
       "      <td>2018</td>\n",
       "    </tr>\n",
       "    <tr>\n",
       "      <th>2</th>\n",
       "      <td>46909</td>\n",
       "      <td>NAYA</td>\n",
       "      <td>F</td>\n",
       "      <td>2015</td>\n",
       "      <td>Lhasa Apso</td>\n",
       "      <td>NaN</td>\n",
       "      <td>10472</td>\n",
       "      <td>2018-01-02</td>\n",
       "      <td>01/02/2019</td>\n",
       "      <td>2018</td>\n",
       "    </tr>\n",
       "    <tr>\n",
       "      <th>3</th>\n",
       "      <td>46910</td>\n",
       "      <td>LEON</td>\n",
       "      <td>M</td>\n",
       "      <td>2017</td>\n",
       "      <td>American Pit Bull Mix / Pit Bull Mix</td>\n",
       "      <td>NaN</td>\n",
       "      <td>10305</td>\n",
       "      <td>2018-01-02</td>\n",
       "      <td>01/02/2019</td>\n",
       "      <td>2018</td>\n",
       "    </tr>\n",
       "    <tr>\n",
       "      <th>4</th>\n",
       "      <td>46911</td>\n",
       "      <td>SUNSHINE</td>\n",
       "      <td>F</td>\n",
       "      <td>2010</td>\n",
       "      <td>Golden Retriever</td>\n",
       "      <td>NaN</td>\n",
       "      <td>10019</td>\n",
       "      <td>2018-01-02</td>\n",
       "      <td>01/02/2019</td>\n",
       "      <td>2018</td>\n",
       "    </tr>\n",
       "    <tr>\n",
       "      <th>...</th>\n",
       "      <td>...</td>\n",
       "      <td>...</td>\n",
       "      <td>...</td>\n",
       "      <td>...</td>\n",
       "      <td>...</td>\n",
       "      <td>...</td>\n",
       "      <td>...</td>\n",
       "      <td>...</td>\n",
       "      <td>...</td>\n",
       "      <td>...</td>\n",
       "    </tr>\n",
       "    <tr>\n",
       "      <th>70460</th>\n",
       "      <td>117367</td>\n",
       "      <td>BOLAND</td>\n",
       "      <td>F</td>\n",
       "      <td>2018</td>\n",
       "      <td>Pomeranian</td>\n",
       "      <td>NaN</td>\n",
       "      <td>10306</td>\n",
       "      <td>2018-12-31</td>\n",
       "      <td>12/31/2019</td>\n",
       "      <td>2018</td>\n",
       "    </tr>\n",
       "    <tr>\n",
       "      <th>70461</th>\n",
       "      <td>117368</td>\n",
       "      <td>UNKNOWN</td>\n",
       "      <td>M</td>\n",
       "      <td>2018</td>\n",
       "      <td>Australian Shepherd</td>\n",
       "      <td>NaN</td>\n",
       "      <td>11233</td>\n",
       "      <td>2018-12-31</td>\n",
       "      <td>12/31/2019</td>\n",
       "      <td>2018</td>\n",
       "    </tr>\n",
       "    <tr>\n",
       "      <th>70462</th>\n",
       "      <td>117369</td>\n",
       "      <td>UNKNOWN</td>\n",
       "      <td>F</td>\n",
       "      <td>2018</td>\n",
       "      <td>Dachshund</td>\n",
       "      <td>NaN</td>\n",
       "      <td>10454</td>\n",
       "      <td>2018-12-31</td>\n",
       "      <td>12/31/2019</td>\n",
       "      <td>2018</td>\n",
       "    </tr>\n",
       "    <tr>\n",
       "      <th>70463</th>\n",
       "      <td>117370</td>\n",
       "      <td>LUNA</td>\n",
       "      <td>F</td>\n",
       "      <td>2018</td>\n",
       "      <td>Jindo</td>\n",
       "      <td>NaN</td>\n",
       "      <td>11385</td>\n",
       "      <td>2018-12-31</td>\n",
       "      <td>12/31/2019</td>\n",
       "      <td>2018</td>\n",
       "    </tr>\n",
       "    <tr>\n",
       "      <th>70464</th>\n",
       "      <td>117371</td>\n",
       "      <td>HUNTER</td>\n",
       "      <td>M</td>\n",
       "      <td>2017</td>\n",
       "      <td>Siberian Husky</td>\n",
       "      <td>NaN</td>\n",
       "      <td>10456</td>\n",
       "      <td>2018-12-31</td>\n",
       "      <td>12/31/2019</td>\n",
       "      <td>2018</td>\n",
       "    </tr>\n",
       "  </tbody>\n",
       "</table>\n",
       "<p>70465 rows × 10 columns</p>\n",
       "</div>"
      ],
      "text/plain": [
       "       RowNumber AnimalName AnimalGender  AnimalBirthMonth  \\\n",
       "0          46907      ROCKY            M              2017   \n",
       "1          46908       LUNA            F              2014   \n",
       "2          46909       NAYA            F              2015   \n",
       "3          46910       LEON            M              2017   \n",
       "4          46911   SUNSHINE            F              2010   \n",
       "...          ...        ...          ...               ...   \n",
       "70460     117367     BOLAND            F              2018   \n",
       "70461     117368    UNKNOWN            M              2018   \n",
       "70462     117369    UNKNOWN            F              2018   \n",
       "70463     117370       LUNA            F              2018   \n",
       "70464     117371     HUNTER            M              2017   \n",
       "\n",
       "                                  BreedName  Borough  ZipCode  \\\n",
       "0                       Shih Tzu Crossbreed      NaN    10468   \n",
       "1                     Welsh Corgi, Cardigan      NaN    11238   \n",
       "2                                Lhasa Apso      NaN    10472   \n",
       "3      American Pit Bull Mix / Pit Bull Mix      NaN    10305   \n",
       "4                          Golden Retriever      NaN    10019   \n",
       "...                                     ...      ...      ...   \n",
       "70460                            Pomeranian      NaN    10306   \n",
       "70461                   Australian Shepherd      NaN    11233   \n",
       "70462                             Dachshund      NaN    10454   \n",
       "70463                                 Jindo      NaN    11385   \n",
       "70464                        Siberian Husky      NaN    10456   \n",
       "\n",
       "      LicenseIssuedDate LicenseExpiredDate  Extract Year  \n",
       "0            2018-01-02         01/02/2019          2018  \n",
       "1            2018-01-02         01/02/2019          2018  \n",
       "2            2018-01-02         01/02/2019          2018  \n",
       "3            2018-01-02         01/02/2019          2018  \n",
       "4            2018-01-02         01/02/2019          2018  \n",
       "...                 ...                ...           ...  \n",
       "70460        2018-12-31         12/31/2019          2018  \n",
       "70461        2018-12-31         12/31/2019          2018  \n",
       "70462        2018-12-31         12/31/2019          2018  \n",
       "70463        2018-12-31         12/31/2019          2018  \n",
       "70464        2018-12-31         12/31/2019          2018  \n",
       "\n",
       "[70465 rows x 10 columns]"
      ]
     },
     "execution_count": 71,
     "metadata": {},
     "output_type": "execute_result"
    }
   ],
   "source": [
    "import matplotlib.pyplot as plt\n",
    "import pandas as pd\n",
    "import seaborn as sns\n",
    "import numpy as np\n",
    "%matplotlib inline\n",
    "\n",
    "dog_licenses = pd.read_csv(\"NYC_Dog_Licensing_Dataset.csv\")\n",
    "dog_licenses[\"LicenseIssuedDate\"] = pd.to_datetime(dog_licenses[\"LicenseIssuedDate\"])\n",
    "dog_licenses"
   ]
  },
  {
   "cell_type": "markdown",
   "metadata": {
    "id": "DED2tOEet5Yx"
   },
   "source": [
    "### Question 1\n",
    "Do any of the columns have missing data?  To get summary information about qualitative columns (ex. text, dates) pass the parameter `include = [\"O\"]` into the function `.describe()`."
   ]
  },
  {
   "cell_type": "code",
   "execution_count": 13,
   "metadata": {
    "id": "cDEJzBzKvha0"
   },
   "outputs": [
    {
     "data": {
      "text/html": [
       "<div>\n",
       "<style scoped>\n",
       "    .dataframe tbody tr th:only-of-type {\n",
       "        vertical-align: middle;\n",
       "    }\n",
       "\n",
       "    .dataframe tbody tr th {\n",
       "        vertical-align: top;\n",
       "    }\n",
       "\n",
       "    .dataframe thead th {\n",
       "        text-align: right;\n",
       "    }\n",
       "</style>\n",
       "<table border=\"1\" class=\"dataframe\">\n",
       "  <thead>\n",
       "    <tr style=\"text-align: right;\">\n",
       "      <th></th>\n",
       "      <th>RowNumber</th>\n",
       "      <th>AnimalBirthMonth</th>\n",
       "      <th>Borough</th>\n",
       "      <th>ZipCode</th>\n",
       "      <th>Extract Year</th>\n",
       "    </tr>\n",
       "  </thead>\n",
       "  <tbody>\n",
       "    <tr>\n",
       "      <th>count</th>\n",
       "      <td>70465.000000</td>\n",
       "      <td>70465.000000</td>\n",
       "      <td>0.0</td>\n",
       "      <td>70465.000000</td>\n",
       "      <td>70465.0</td>\n",
       "    </tr>\n",
       "    <tr>\n",
       "      <th>mean</th>\n",
       "      <td>82139.000000</td>\n",
       "      <td>2012.384985</td>\n",
       "      <td>NaN</td>\n",
       "      <td>10699.009764</td>\n",
       "      <td>2018.0</td>\n",
       "    </tr>\n",
       "    <tr>\n",
       "      <th>std</th>\n",
       "      <td>20341.637696</td>\n",
       "      <td>22.584445</td>\n",
       "      <td>NaN</td>\n",
       "      <td>889.252178</td>\n",
       "      <td>0.0</td>\n",
       "    </tr>\n",
       "    <tr>\n",
       "      <th>min</th>\n",
       "      <td>46907.000000</td>\n",
       "      <td>1.000000</td>\n",
       "      <td>NaN</td>\n",
       "      <td>1135.000000</td>\n",
       "      <td>2018.0</td>\n",
       "    </tr>\n",
       "    <tr>\n",
       "      <th>25%</th>\n",
       "      <td>64523.000000</td>\n",
       "      <td>2009.000000</td>\n",
       "      <td>NaN</td>\n",
       "      <td>10032.000000</td>\n",
       "      <td>2018.0</td>\n",
       "    </tr>\n",
       "    <tr>\n",
       "      <th>50%</th>\n",
       "      <td>82139.000000</td>\n",
       "      <td>2013.000000</td>\n",
       "      <td>NaN</td>\n",
       "      <td>10468.000000</td>\n",
       "      <td>2018.0</td>\n",
       "    </tr>\n",
       "    <tr>\n",
       "      <th>75%</th>\n",
       "      <td>99755.000000</td>\n",
       "      <td>2017.000000</td>\n",
       "      <td>NaN</td>\n",
       "      <td>11229.000000</td>\n",
       "      <td>2018.0</td>\n",
       "    </tr>\n",
       "    <tr>\n",
       "      <th>max</th>\n",
       "      <td>117371.000000</td>\n",
       "      <td>2018.000000</td>\n",
       "      <td>NaN</td>\n",
       "      <td>98363.000000</td>\n",
       "      <td>2018.0</td>\n",
       "    </tr>\n",
       "  </tbody>\n",
       "</table>\n",
       "</div>"
      ],
      "text/plain": [
       "           RowNumber  AnimalBirthMonth  Borough       ZipCode  Extract Year\n",
       "count   70465.000000      70465.000000      0.0  70465.000000       70465.0\n",
       "mean    82139.000000       2012.384985      NaN  10699.009764        2018.0\n",
       "std     20341.637696         22.584445      NaN    889.252178           0.0\n",
       "min     46907.000000          1.000000      NaN   1135.000000        2018.0\n",
       "25%     64523.000000       2009.000000      NaN  10032.000000        2018.0\n",
       "50%     82139.000000       2013.000000      NaN  10468.000000        2018.0\n",
       "75%     99755.000000       2017.000000      NaN  11229.000000        2018.0\n",
       "max    117371.000000       2018.000000      NaN  98363.000000        2018.0"
      ]
     },
     "execution_count": 13,
     "metadata": {},
     "output_type": "execute_result"
    }
   ],
   "source": [
    "dog_licenses.describe()"
   ]
  },
  {
   "cell_type": "code",
   "execution_count": 19,
   "metadata": {
    "scrolled": true
   },
   "outputs": [
    {
     "data": {
      "text/html": [
       "<div>\n",
       "<style scoped>\n",
       "    .dataframe tbody tr th:only-of-type {\n",
       "        vertical-align: middle;\n",
       "    }\n",
       "\n",
       "    .dataframe tbody tr th {\n",
       "        vertical-align: top;\n",
       "    }\n",
       "\n",
       "    .dataframe thead th {\n",
       "        text-align: right;\n",
       "    }\n",
       "</style>\n",
       "<table border=\"1\" class=\"dataframe\">\n",
       "  <thead>\n",
       "    <tr style=\"text-align: right;\">\n",
       "      <th></th>\n",
       "      <th>AnimalName</th>\n",
       "      <th>AnimalGender</th>\n",
       "      <th>BreedName</th>\n",
       "      <th>LicenseExpiredDate</th>\n",
       "    </tr>\n",
       "  </thead>\n",
       "  <tbody>\n",
       "    <tr>\n",
       "      <th>count</th>\n",
       "      <td>70217</td>\n",
       "      <td>70460</td>\n",
       "      <td>70465</td>\n",
       "      <td>70465</td>\n",
       "    </tr>\n",
       "    <tr>\n",
       "      <th>unique</th>\n",
       "      <td>12877</td>\n",
       "      <td>2</td>\n",
       "      <td>305</td>\n",
       "      <td>1995</td>\n",
       "    </tr>\n",
       "    <tr>\n",
       "      <th>top</th>\n",
       "      <td>UNKNOWN</td>\n",
       "      <td>M</td>\n",
       "      <td>Unknown</td>\n",
       "      <td>07/30/2019</td>\n",
       "    </tr>\n",
       "    <tr>\n",
       "      <th>freq</th>\n",
       "      <td>1000</td>\n",
       "      <td>38423</td>\n",
       "      <td>8259</td>\n",
       "      <td>654</td>\n",
       "    </tr>\n",
       "  </tbody>\n",
       "</table>\n",
       "</div>"
      ],
      "text/plain": [
       "       AnimalName AnimalGender BreedName LicenseExpiredDate\n",
       "count       70217        70460     70465              70465\n",
       "unique      12877            2       305               1995\n",
       "top       UNKNOWN            M   Unknown         07/30/2019\n",
       "freq         1000        38423      8259                654"
      ]
     },
     "execution_count": 19,
     "metadata": {},
     "output_type": "execute_result"
    }
   ],
   "source": [
    "dog_licenses.describe(include = ['O'])"
   ]
  },
  {
   "cell_type": "markdown",
   "metadata": {},
   "source": [
    "The columns AnimalName and AnimalGender seem to have missing data. AnimalName has names for only 70217 dogs and AnimalGender has the gender only for 70460 dogs."
   ]
  },
  {
   "cell_type": "markdown",
   "metadata": {
    "id": "pKvRICa4t5Yy"
   },
   "source": [
    "### Question 2\n",
    "Plot a bar chart of the distribution of the months licenses were issued.  Which month are the the most licenses issued?  Do you notice any other trends?"
   ]
  },
  {
   "cell_type": "code",
   "execution_count": 33,
   "metadata": {
    "id": "z-BurvCgt5Yy",
    "scrolled": true
   },
   "outputs": [
    {
     "data": {
      "text/plain": [
       "Text(0.5, 1.0, 'Number of Licenses Issued By Month')"
      ]
     },
     "execution_count": 33,
     "metadata": {},
     "output_type": "execute_result"
    },
    {
     "data": {
      "image/png": "[encoded data removed]",
      "text/plain": [
       "<Figure size 432x288 with 1 Axes>"
      ]
     },
     "metadata": {
      "needs_background": "light"
     },
     "output_type": "display_data"
    }
   ],
   "source": [
    "dog_licenses[\"LicenseIssuedDate\"].dt.month.value_counts().sort_index().plot(kind = \"bar\")\n",
    "plt.xlabel(\"Months\")\n",
    "plt.ylabel(\"Number of Licenses Issued\")\n",
    "plt.title(\"Number of Licenses Issued By Month\")"
   ]
  },
  {
   "attachments": {},
   "cell_type": "markdown",
   "metadata": {},
   "source": [
    "July is the month with the most licenses issued. January is the month with the least licenses issued."
   ]
  },
  {
   "cell_type": "markdown",
   "metadata": {
    "id": "inh7Cqext5Yz"
   },
   "source": [
    "### Question 3\n",
    "a) The column `AnimalBirthMonth` actually holds the year the dog was born.  Plot a histogram of the distribution of the birth years.  What do you notice about this distibution?  What might be the cause?"
   ]
  },
  {
   "cell_type": "code",
   "execution_count": 62,
   "metadata": {
    "id": "nB3yqTCot5Y0"
   },
   "outputs": [
    {
     "data": {
      "text/plain": [
       "Text(0.5, 1.0, 'Birth Years of Dogs')"
      ]
     },
     "execution_count": 62,
     "metadata": {},
     "output_type": "execute_result"
    },
    {
     "data": {
      "image/png": "[encoded data removed]",
      "text/plain": [
       "<Figure size 432x288 with 1 Axes>"
      ]
     },
     "metadata": {
      "needs_background": "light"
     },
     "output_type": "display_data"
    }
   ],
   "source": [
    "dog_licenses[\"AnimalBirthMonth\"].hist(bins = 20)\n",
    "plt.xlabel(\"Birth Years\")\n",
    "plt.ylabel(\"Number of Dogs\")\n",
    "plt.title(\"Birth Years of Dogs\")"
   ]
  },
  {
   "cell_type": "markdown",
   "metadata": {},
   "source": [
    "The data seems to be more distributed to the right. I believe that this is caused by the fact the range of years used is too large. If the range of years selected was shorter, we can get a clearer look."
   ]
  },
  {
   "cell_type": "markdown",
   "metadata": {
    "id": "9XHQfCUWigcB"
   },
   "source": [
    "3b)  Use the `value_counts()` function to display the different values in the `AnimalBirthMonth` column.  Which values do you think are not valid birth years?"
   ]
  },
  {
   "cell_type": "code",
   "execution_count": 36,
   "metadata": {
    "id": "mBZjEbxMhfzz"
   },
   "outputs": [
    {
     "data": {
      "text/plain": [
       "2017    9536\n",
       "2018    8908\n",
       "2016    6386\n",
       "2015    5339\n",
       "2014    4782\n",
       "2013    4666\n",
       "2012    4473\n",
       "2010    4249\n",
       "2011    4244\n",
       "2009    3964\n",
       "2008    3628\n",
       "2007    2987\n",
       "2006    2460\n",
       "2005    1887\n",
       "2004    1305\n",
       "2003     825\n",
       "2002     403\n",
       "2001     189\n",
       "2000     149\n",
       "1999      26\n",
       "1998      14\n",
       "1997       9\n",
       "1996       5\n",
       "1995       3\n",
       "1993       3\n",
       "1          3\n",
       "1987       2\n",
       "217        2\n",
       "1818       2\n",
       "1977       2\n",
       "917        1\n",
       "118        1\n",
       "1989       1\n",
       "8          1\n",
       "1994       1\n",
       "1017       1\n",
       "1013       1\n",
       "1941       1\n",
       "1934       1\n",
       "816        1\n",
       "1317       1\n",
       "218        1\n",
       "1915       1\n",
       "1980       1\n",
       "Name: AnimalBirthMonth, dtype: int64"
      ]
     },
     "execution_count": 36,
     "metadata": {},
     "output_type": "execute_result"
    }
   ],
   "source": [
    "dog_licenses[\"AnimalBirthMonth\"].value_counts()"
   ]
  },
  {
   "attachments": {},
   "cell_type": "markdown",
   "metadata": {},
   "source": [
    "Well clearly a dog born in 1013 wouldn’t be alive to be given a license. There are a few years like that in this column that aren’t valid birth years."
   ]
  },
  {
   "cell_type": "markdown",
   "metadata": {
    "id": "hcT0Wm_QlwRI"
   },
   "source": [
    "3c)  Filter the birth year to only include 1988 or later, and replot the birth year histogram of this filtered dataset.  What do you notice about this distribution?  Is this what you expect?\n",
    "\n",
    "Hint:  To review filtering, see MAT 128 Lab 9 (link to MAT 128 labs in left menu on Blackboard)"
   ]
  },
  {
   "cell_type": "code",
   "execution_count": 45,
   "metadata": {
    "id": "TYifs7sot5Y0"
   },
   "outputs": [
    {
     "data": {
      "text/html": [
       "<div>\n",
       "<style scoped>\n",
       "    .dataframe tbody tr th:only-of-type {\n",
       "        vertical-align: middle;\n",
       "    }\n",
       "\n",
       "    .dataframe tbody tr th {\n",
       "        vertical-align: top;\n",
       "    }\n",
       "\n",
       "    .dataframe thead th {\n",
       "        text-align: right;\n",
       "    }\n",
       "</style>\n",
       "<table border=\"1\" class=\"dataframe\">\n",
       "  <thead>\n",
       "    <tr style=\"text-align: right;\">\n",
       "      <th></th>\n",
       "      <th>RowNumber</th>\n",
       "      <th>AnimalName</th>\n",
       "      <th>AnimalGender</th>\n",
       "      <th>AnimalBirthMonth</th>\n",
       "      <th>BreedName</th>\n",
       "      <th>Borough</th>\n",
       "      <th>ZipCode</th>\n",
       "      <th>LicenseIssuedDate</th>\n",
       "      <th>LicenseExpiredDate</th>\n",
       "      <th>Extract Year</th>\n",
       "    </tr>\n",
       "  </thead>\n",
       "  <tbody>\n",
       "    <tr>\n",
       "      <th>0</th>\n",
       "      <td>46907</td>\n",
       "      <td>ROCKY</td>\n",
       "      <td>M</td>\n",
       "      <td>2017</td>\n",
       "      <td>Shih Tzu Crossbreed</td>\n",
       "      <td>NaN</td>\n",
       "      <td>10468</td>\n",
       "      <td>2018-01-02</td>\n",
       "      <td>01/02/2019</td>\n",
       "      <td>2018</td>\n",
       "    </tr>\n",
       "    <tr>\n",
       "      <th>1</th>\n",
       "      <td>46908</td>\n",
       "      <td>LUNA</td>\n",
       "      <td>F</td>\n",
       "      <td>2014</td>\n",
       "      <td>Welsh Corgi, Cardigan</td>\n",
       "      <td>NaN</td>\n",
       "      <td>11238</td>\n",
       "      <td>2018-01-02</td>\n",
       "      <td>01/02/2019</td>\n",
       "      <td>2018</td>\n",
       "    </tr>\n",
       "    <tr>\n",
       "      <th>2</th>\n",
       "      <td>46909</td>\n",
       "      <td>NAYA</td>\n",
       "      <td>F</td>\n",
       "      <td>2015</td>\n",
       "      <td>Lhasa Apso</td>\n",
       "      <td>NaN</td>\n",
       "      <td>10472</td>\n",
       "      <td>2018-01-02</td>\n",
       "      <td>01/02/2019</td>\n",
       "      <td>2018</td>\n",
       "    </tr>\n",
       "    <tr>\n",
       "      <th>3</th>\n",
       "      <td>46910</td>\n",
       "      <td>LEON</td>\n",
       "      <td>M</td>\n",
       "      <td>2017</td>\n",
       "      <td>American Pit Bull Mix / Pit Bull Mix</td>\n",
       "      <td>NaN</td>\n",
       "      <td>10305</td>\n",
       "      <td>2018-01-02</td>\n",
       "      <td>01/02/2019</td>\n",
       "      <td>2018</td>\n",
       "    </tr>\n",
       "    <tr>\n",
       "      <th>4</th>\n",
       "      <td>46911</td>\n",
       "      <td>SUNSHINE</td>\n",
       "      <td>F</td>\n",
       "      <td>2010</td>\n",
       "      <td>Golden Retriever</td>\n",
       "      <td>NaN</td>\n",
       "      <td>10019</td>\n",
       "      <td>2018-01-02</td>\n",
       "      <td>01/02/2019</td>\n",
       "      <td>2018</td>\n",
       "    </tr>\n",
       "    <tr>\n",
       "      <th>...</th>\n",
       "      <td>...</td>\n",
       "      <td>...</td>\n",
       "      <td>...</td>\n",
       "      <td>...</td>\n",
       "      <td>...</td>\n",
       "      <td>...</td>\n",
       "      <td>...</td>\n",
       "      <td>...</td>\n",
       "      <td>...</td>\n",
       "      <td>...</td>\n",
       "    </tr>\n",
       "    <tr>\n",
       "      <th>70460</th>\n",
       "      <td>117367</td>\n",
       "      <td>BOLAND</td>\n",
       "      <td>F</td>\n",
       "      <td>2018</td>\n",
       "      <td>Pomeranian</td>\n",
       "      <td>NaN</td>\n",
       "      <td>10306</td>\n",
       "      <td>2018-12-31</td>\n",
       "      <td>12/31/2019</td>\n",
       "      <td>2018</td>\n",
       "    </tr>\n",
       "    <tr>\n",
       "      <th>70461</th>\n",
       "      <td>117368</td>\n",
       "      <td>UNKNOWN</td>\n",
       "      <td>M</td>\n",
       "      <td>2018</td>\n",
       "      <td>Australian Shepherd</td>\n",
       "      <td>NaN</td>\n",
       "      <td>11233</td>\n",
       "      <td>2018-12-31</td>\n",
       "      <td>12/31/2019</td>\n",
       "      <td>2018</td>\n",
       "    </tr>\n",
       "    <tr>\n",
       "      <th>70462</th>\n",
       "      <td>117369</td>\n",
       "      <td>UNKNOWN</td>\n",
       "      <td>F</td>\n",
       "      <td>2018</td>\n",
       "      <td>Dachshund</td>\n",
       "      <td>NaN</td>\n",
       "      <td>10454</td>\n",
       "      <td>2018-12-31</td>\n",
       "      <td>12/31/2019</td>\n",
       "      <td>2018</td>\n",
       "    </tr>\n",
       "    <tr>\n",
       "      <th>70463</th>\n",
       "      <td>117370</td>\n",
       "      <td>LUNA</td>\n",
       "      <td>F</td>\n",
       "      <td>2018</td>\n",
       "      <td>Jindo</td>\n",
       "      <td>NaN</td>\n",
       "      <td>11385</td>\n",
       "      <td>2018-12-31</td>\n",
       "      <td>12/31/2019</td>\n",
       "      <td>2018</td>\n",
       "    </tr>\n",
       "    <tr>\n",
       "      <th>70464</th>\n",
       "      <td>117371</td>\n",
       "      <td>HUNTER</td>\n",
       "      <td>M</td>\n",
       "      <td>2017</td>\n",
       "      <td>Siberian Husky</td>\n",
       "      <td>NaN</td>\n",
       "      <td>10456</td>\n",
       "      <td>2018-12-31</td>\n",
       "      <td>12/31/2019</td>\n",
       "      <td>2018</td>\n",
       "    </tr>\n",
       "  </tbody>\n",
       "</table>\n",
       "<p>70442 rows × 10 columns</p>\n",
       "</div>"
      ],
      "text/plain": [
       "       RowNumber AnimalName AnimalGender  AnimalBirthMonth  \\\n",
       "0          46907      ROCKY            M              2017   \n",
       "1          46908       LUNA            F              2014   \n",
       "2          46909       NAYA            F              2015   \n",
       "3          46910       LEON            M              2017   \n",
       "4          46911   SUNSHINE            F              2010   \n",
       "...          ...        ...          ...               ...   \n",
       "70460     117367     BOLAND            F              2018   \n",
       "70461     117368    UNKNOWN            M              2018   \n",
       "70462     117369    UNKNOWN            F              2018   \n",
       "70463     117370       LUNA            F              2018   \n",
       "70464     117371     HUNTER            M              2017   \n",
       "\n",
       "                                  BreedName  Borough  ZipCode  \\\n",
       "0                       Shih Tzu Crossbreed      NaN    10468   \n",
       "1                     Welsh Corgi, Cardigan      NaN    11238   \n",
       "2                                Lhasa Apso      NaN    10472   \n",
       "3      American Pit Bull Mix / Pit Bull Mix      NaN    10305   \n",
       "4                          Golden Retriever      NaN    10019   \n",
       "...                                     ...      ...      ...   \n",
       "70460                            Pomeranian      NaN    10306   \n",
       "70461                   Australian Shepherd      NaN    11233   \n",
       "70462                             Dachshund      NaN    10454   \n",
       "70463                                 Jindo      NaN    11385   \n",
       "70464                        Siberian Husky      NaN    10456   \n",
       "\n",
       "      LicenseIssuedDate LicenseExpiredDate  Extract Year  \n",
       "0            2018-01-02         01/02/2019          2018  \n",
       "1            2018-01-02         01/02/2019          2018  \n",
       "2            2018-01-02         01/02/2019          2018  \n",
       "3            2018-01-02         01/02/2019          2018  \n",
       "4            2018-01-02         01/02/2019          2018  \n",
       "...                 ...                ...           ...  \n",
       "70460        2018-12-31         12/31/2019          2018  \n",
       "70461        2018-12-31         12/31/2019          2018  \n",
       "70462        2018-12-31         12/31/2019          2018  \n",
       "70463        2018-12-31         12/31/2019          2018  \n",
       "70464        2018-12-31         12/31/2019          2018  \n",
       "\n",
       "[70442 rows x 10 columns]"
      ]
     },
     "execution_count": 45,
     "metadata": {},
     "output_type": "execute_result"
    }
   ],
   "source": [
    "year_filter = dog_licenses[\"AnimalBirthMonth\"] >= 1988\n",
    "dog_licenses[year_filter]"
   ]
  },
  {
   "cell_type": "code",
   "execution_count": 63,
   "metadata": {},
   "outputs": [
    {
     "data": {
      "text/plain": [
       "Text(0.5, 1.0, 'Birth Years of Dogs')"
      ]
     },
     "execution_count": 63,
     "metadata": {},
     "output_type": "execute_result"
    },
    {
     "data": {
      "image/png": "[encoded data removed]",
      "text/plain": [
       "<Figure size 432x288 with 1 Axes>"
      ]
     },
     "metadata": {
      "needs_background": "light"
     },
     "output_type": "display_data"
    }
   ],
   "source": [
    "dog_licenses_filter = dog_licenses[year_filter]\n",
    "dog_licenses_filter[\"AnimalBirthMonth\"].hist(bins = 20)\n",
    "plt.xlabel(\"Birth Years\")\n",
    "plt.ylabel(\"Number of Dogs\")\n",
    "plt.title(\"Birth Years of Dogs\")"
   ]
  },
  {
   "cell_type": "markdown",
   "metadata": {},
   "source": [
    "While it is still distributed more to the right like the previous histogram but because the range is much shorter, we can get better look at the data. From what we see in the histogram the majority of the dogs were born during the 2010s."
   ]
  },
  {
   "cell_type": "markdown",
   "metadata": {
    "id": "K-z4ddart5Y1"
   },
   "source": [
    "### Question 4\n",
    "Make a bar chart of the distribution of the gender of dogs licensed in February.  Do you think there is a significant difference in the number of male and female dogs?  Why/why not?  What could you do to be more sure?  (Note: actually doing this analysis is a bonus question)"
   ]
  },
  {
   "cell_type": "code",
   "execution_count": 59,
   "metadata": {
    "id": "ZlM69yart5Y1",
    "scrolled": true
   },
   "outputs": [
    {
     "data": {
      "text/html": [
       "<div>\n",
       "<style scoped>\n",
       "    .dataframe tbody tr th:only-of-type {\n",
       "        vertical-align: middle;\n",
       "    }\n",
       "\n",
       "    .dataframe tbody tr th {\n",
       "        vertical-align: top;\n",
       "    }\n",
       "\n",
       "    .dataframe thead th {\n",
       "        text-align: right;\n",
       "    }\n",
       "</style>\n",
       "<table border=\"1\" class=\"dataframe\">\n",
       "  <thead>\n",
       "    <tr style=\"text-align: right;\">\n",
       "      <th></th>\n",
       "      <th>RowNumber</th>\n",
       "      <th>AnimalName</th>\n",
       "      <th>AnimalGender</th>\n",
       "      <th>AnimalBirthMonth</th>\n",
       "      <th>BreedName</th>\n",
       "      <th>Borough</th>\n",
       "      <th>ZipCode</th>\n",
       "      <th>LicenseIssuedDate</th>\n",
       "      <th>LicenseExpiredDate</th>\n",
       "      <th>Extract Year</th>\n",
       "    </tr>\n",
       "  </thead>\n",
       "  <tbody>\n",
       "    <tr>\n",
       "      <th>4883</th>\n",
       "      <td>51877</td>\n",
       "      <td>CHARLIE</td>\n",
       "      <td>M</td>\n",
       "      <td>2011</td>\n",
       "      <td>Unknown</td>\n",
       "      <td>NaN</td>\n",
       "      <td>10025</td>\n",
       "      <td>2018-02-01</td>\n",
       "      <td>03/18/2019</td>\n",
       "      <td>2018</td>\n",
       "    </tr>\n",
       "    <tr>\n",
       "      <th>4884</th>\n",
       "      <td>51878</td>\n",
       "      <td>CHLOE</td>\n",
       "      <td>F</td>\n",
       "      <td>2012</td>\n",
       "      <td>Maltese</td>\n",
       "      <td>NaN</td>\n",
       "      <td>11357</td>\n",
       "      <td>2018-02-01</td>\n",
       "      <td>03/07/2019</td>\n",
       "      <td>2018</td>\n",
       "    </tr>\n",
       "    <tr>\n",
       "      <th>4885</th>\n",
       "      <td>51790</td>\n",
       "      <td>NONE</td>\n",
       "      <td>M</td>\n",
       "      <td>2017</td>\n",
       "      <td>Poodle Crossbreed</td>\n",
       "      <td>NaN</td>\n",
       "      <td>11226</td>\n",
       "      <td>2018-02-01</td>\n",
       "      <td>02/01/2019</td>\n",
       "      <td>2018</td>\n",
       "    </tr>\n",
       "    <tr>\n",
       "      <th>4886</th>\n",
       "      <td>51791</td>\n",
       "      <td>CHAVEZ</td>\n",
       "      <td>M</td>\n",
       "      <td>2014</td>\n",
       "      <td>Labrador Retriever</td>\n",
       "      <td>NaN</td>\n",
       "      <td>11222</td>\n",
       "      <td>2018-02-01</td>\n",
       "      <td>02/01/2019</td>\n",
       "      <td>2018</td>\n",
       "    </tr>\n",
       "    <tr>\n",
       "      <th>4887</th>\n",
       "      <td>51792</td>\n",
       "      <td>ROCKY</td>\n",
       "      <td>M</td>\n",
       "      <td>2013</td>\n",
       "      <td>Chihuahua</td>\n",
       "      <td>NaN</td>\n",
       "      <td>10029</td>\n",
       "      <td>2018-02-01</td>\n",
       "      <td>02/01/2021</td>\n",
       "      <td>2018</td>\n",
       "    </tr>\n",
       "    <tr>\n",
       "      <th>...</th>\n",
       "      <td>...</td>\n",
       "      <td>...</td>\n",
       "      <td>...</td>\n",
       "      <td>...</td>\n",
       "      <td>...</td>\n",
       "      <td>...</td>\n",
       "      <td>...</td>\n",
       "      <td>...</td>\n",
       "      <td>...</td>\n",
       "      <td>...</td>\n",
       "    </tr>\n",
       "    <tr>\n",
       "      <th>10272</th>\n",
       "      <td>57179</td>\n",
       "      <td>TROTSKY</td>\n",
       "      <td>M</td>\n",
       "      <td>2017</td>\n",
       "      <td>Dachshund, Long Haired Miniature</td>\n",
       "      <td>NaN</td>\n",
       "      <td>11217</td>\n",
       "      <td>2018-02-28</td>\n",
       "      <td>02/28/2019</td>\n",
       "      <td>2018</td>\n",
       "    </tr>\n",
       "    <tr>\n",
       "      <th>10273</th>\n",
       "      <td>57180</td>\n",
       "      <td>NaN</td>\n",
       "      <td>F</td>\n",
       "      <td>2017</td>\n",
       "      <td>Shih Tzu</td>\n",
       "      <td>NaN</td>\n",
       "      <td>11201</td>\n",
       "      <td>2018-02-28</td>\n",
       "      <td>02/28/2019</td>\n",
       "      <td>2018</td>\n",
       "    </tr>\n",
       "    <tr>\n",
       "      <th>10274</th>\n",
       "      <td>57181</td>\n",
       "      <td>MIMI</td>\n",
       "      <td>F</td>\n",
       "      <td>2017</td>\n",
       "      <td>Shih Tzu</td>\n",
       "      <td>NaN</td>\n",
       "      <td>10462</td>\n",
       "      <td>2018-02-28</td>\n",
       "      <td>02/28/2019</td>\n",
       "      <td>2018</td>\n",
       "    </tr>\n",
       "    <tr>\n",
       "      <th>10275</th>\n",
       "      <td>57182</td>\n",
       "      <td>ACE</td>\n",
       "      <td>M</td>\n",
       "      <td>2016</td>\n",
       "      <td>Shih Tzu Crossbreed</td>\n",
       "      <td>NaN</td>\n",
       "      <td>10463</td>\n",
       "      <td>2018-02-28</td>\n",
       "      <td>02/28/2021</td>\n",
       "      <td>2018</td>\n",
       "    </tr>\n",
       "    <tr>\n",
       "      <th>10276</th>\n",
       "      <td>57183</td>\n",
       "      <td>HEIDI</td>\n",
       "      <td>F</td>\n",
       "      <td>2017</td>\n",
       "      <td>Beagle</td>\n",
       "      <td>NaN</td>\n",
       "      <td>11365</td>\n",
       "      <td>2018-02-28</td>\n",
       "      <td>02/28/2019</td>\n",
       "      <td>2018</td>\n",
       "    </tr>\n",
       "  </tbody>\n",
       "</table>\n",
       "<p>5394 rows × 10 columns</p>\n",
       "</div>"
      ],
      "text/plain": [
       "       RowNumber AnimalName AnimalGender  AnimalBirthMonth  \\\n",
       "4883       51877    CHARLIE            M              2011   \n",
       "4884       51878      CHLOE            F              2012   \n",
       "4885       51790       NONE            M              2017   \n",
       "4886       51791     CHAVEZ            M              2014   \n",
       "4887       51792      ROCKY            M              2013   \n",
       "...          ...        ...          ...               ...   \n",
       "10272      57179    TROTSKY            M              2017   \n",
       "10273      57180        NaN            F              2017   \n",
       "10274      57181       MIMI            F              2017   \n",
       "10275      57182        ACE            M              2016   \n",
       "10276      57183      HEIDI            F              2017   \n",
       "\n",
       "                              BreedName  Borough  ZipCode LicenseIssuedDate  \\\n",
       "4883                            Unknown      NaN    10025        2018-02-01   \n",
       "4884                            Maltese      NaN    11357        2018-02-01   \n",
       "4885                  Poodle Crossbreed      NaN    11226        2018-02-01   \n",
       "4886                 Labrador Retriever      NaN    11222        2018-02-01   \n",
       "4887                          Chihuahua      NaN    10029        2018-02-01   \n",
       "...                                 ...      ...      ...               ...   \n",
       "10272  Dachshund, Long Haired Miniature      NaN    11217        2018-02-28   \n",
       "10273                          Shih Tzu      NaN    11201        2018-02-28   \n",
       "10274                          Shih Tzu      NaN    10462        2018-02-28   \n",
       "10275               Shih Tzu Crossbreed      NaN    10463        2018-02-28   \n",
       "10276                            Beagle      NaN    11365        2018-02-28   \n",
       "\n",
       "      LicenseExpiredDate  Extract Year  \n",
       "4883          03/18/2019          2018  \n",
       "4884          03/07/2019          2018  \n",
       "4885          02/01/2019          2018  \n",
       "4886          02/01/2019          2018  \n",
       "4887          02/01/2021          2018  \n",
       "...                  ...           ...  \n",
       "10272         02/28/2019          2018  \n",
       "10273         02/28/2019          2018  \n",
       "10274         02/28/2019          2018  \n",
       "10275         02/28/2021          2018  \n",
       "10276         02/28/2019          2018  \n",
       "\n",
       "[5394 rows x 10 columns]"
      ]
     },
     "execution_count": 59,
     "metadata": {},
     "output_type": "execute_result"
    }
   ],
   "source": [
    "feb_filter = dog_licenses[\"LicenseIssuedDate\"].dt.month == 2\n",
    "feb_licenses = dog_licenses[feb_filter]\n",
    "feb_licenses"
   ]
  },
  {
   "cell_type": "code",
   "execution_count": 64,
   "metadata": {
    "scrolled": true
   },
   "outputs": [
    {
     "data": {
      "text/plain": [
       "Text(0.5, 1.0, 'Number of Licensed Dogs by Gender')"
      ]
     },
     "execution_count": 64,
     "metadata": {},
     "output_type": "execute_result"
    },
    {
     "data": {
      "image/png": "[encoded data removed]",
      "text/plain": [
       "<Figure size 432x288 with 1 Axes>"
      ]
     },
     "metadata": {
      "needs_background": "light"
     },
     "output_type": "display_data"
    }
   ],
   "source": [
    "feb_licenses[\"AnimalGender\"].value_counts().plot(kind = \"bar\")\n",
    "plt.xlabel(\"Gender\")\n",
    "plt.ylabel(\"Number of Dogs\")\n",
    "plt.title(\"Number of Licensed Dogs by Gender\")"
   ]
  },
  {
   "cell_type": "markdown",
   "metadata": {
    "id": "cY09kupht5Y2"
   },
   "source": [
    "### Bonus question:\n",
    "Conduct a hypothesis test to see if there is actually a difference in the number of male and female dogs licensed in February.\n",
    "\n",
    "Hint:  See MAT 128 Lab 14 since this is not reviewed in MAT 328 Lab 1."
   ]
  },
  {
   "cell_type": "code",
   "execution_count": 96,
   "metadata": {
    "id": "Mt0QncjCyB_p"
   },
   "outputs": [],
   "source": [
    "population = [\"M\", \"F\"]\n",
    "pop_prob = [0.54,0.46]"
   ]
  },
  {
   "cell_type": "code",
   "execution_count": 112,
   "metadata": {},
   "outputs": [],
   "source": [
    "counts = []\n",
    "for i in range(10000):\n",
    "    sample = np.random.choice(population, p = pop_prob, size = 5394)\n",
    "    sample_counts = pd.Series(sample).value_counts()\n",
    "    counts.append(sample_counts[\"M\"])"
   ]
  },
  {
   "cell_type": "code",
   "execution_count": 114,
   "metadata": {},
   "outputs": [
    {
     "data": {
      "text/plain": [
       "Text(0.5, 1.0, 'Frequency of Male Dogs Licensed')"
      ]
     },
     "execution_count": 114,
     "metadata": {},
     "output_type": "execute_result"
    },
    {
     "data": {
      "image/png": "[encoded data removed]",
      "text/plain": [
       "<Figure size 432x288 with 1 Axes>"
      ]
     },
     "metadata": {
      "needs_background": "light"
     },
     "output_type": "display_data"
    }
   ],
   "source": [
    "pd.Series(counts).hist(bins = 20)\n",
    "plt.xlabel(\"Number of Male Dogs\")\n",
    "plt.ylabel(\"Frequency\")\n",
    "plt.title(\"Frequency of Male Dogs Licensed\")"
   ]
  },
  {
   "attachments": {},
   "cell_type": "markdown",
   "metadata": {},
   "source": [
    "From what I can see from this histogram there seems to be a normal distribution between the amount of male and female dogs. There may be times where there are more male dogs compared to female dogs but a majority of the time the difference isn’t that large."
   ]
  }
 ],
 "metadata": {
  "colab": {
   "collapsed_sections": [],
   "name": "Homework 1.ipynb",
   "provenance": []
  },
  "kernelspec": {
   "display_name": "Python 3",
   "language": "python",
   "name": "python3"
  },
  "language_info": {
   "codemirror_mode": {
    "name": "ipython",
    "version": 3
   },
   "file_extension": ".py",
   "mimetype": "text/x-python",
   "name": "python",
   "nbconvert_exporter": "python",
   "pygments_lexer": "ipython3",
   "version": "3.8.5"
  }
 },
 "nbformat": 4,
 "nbformat_minor": 1
}
