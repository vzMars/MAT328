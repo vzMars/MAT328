{
 "cells": [
  {
   "cell_type": "markdown",
   "metadata": {},
   "source": [
    "Marcos Gonzalez  \n",
    "Homework #15    \n",
    "4/6/21"
   ]
  },
  {
   "cell_type": "markdown",
   "metadata": {},
   "source": [
    "# Homework 15\n",
    "\n",
    "This homework uses the Green taxi data from Homework 2 and 14.  The 2020 green taxi trip data from NYC Open Data was filtered to only be trips with a pickup date and time on Feb. 4, 2020. \n",
    "\n",
    "The `RatecodeID` column is a qualitative column with the following categories:\n",
    "* 1 = Standard rate\n",
    "* 2 = JFK (flat rate from JFK to Manhattan)\n",
    "* 3 = Newark\n",
    "* 4 = Nassau or Westchester\n",
    "* 5 = Negotiated fare\n",
    "* 6 = Group ride\n",
    "\n",
    "Filtered trip data URL: [https://raw.githubusercontent.com/megan-owen/MAT328-Techniques_in_Data_Science/main/data/Feb4_2020_Green_Taxi_Trip_Data.csv](https://raw.githubusercontent.com/megan-owen/MAT328-Techniques_in_Data_Science/main/data/Feb4_2020_Green_Taxi_Trip_Data.csv)\n",
    "\n",
    "We will try to predict which trips involve tolls using the `RatecodeId`, `passenger_count`, `trip_distance`, and `total_amount` columns.\n",
    "\n",
    "**Answer all questions in the homework, including ones that require written answers.**  For questions related to Homework 14, you can use the Homework 14 solutions posted on Blackboard if you did not complete Homework 14."
   ]
  },
  {
   "cell_type": "code",
   "execution_count": 1,
   "metadata": {},
   "outputs": [],
   "source": [
    "import pandas as pd\n",
    "import matplotlib.pyplot as plt\n",
    "import seaborn as sns\n",
    "import numpy as np\n",
    "from sklearn.model_selection import train_test_split\n",
    "from sklearn.linear_model import LogisticRegression\n",
    "import statsmodels.formula.api as smf\n",
    "from scipy.special import expit\n",
    "from scipy.stats import logistic\n",
    "\n",
    "%matplotlib inline"
   ]
  },
  {
   "cell_type": "markdown",
   "metadata": {},
   "source": [
    "### Question 1: Loading and cleaning the data\n",
    "\n",
    "1a) Load the data into Python."
   ]
  },
  {
   "cell_type": "code",
   "execution_count": 2,
   "metadata": {},
   "outputs": [
    {
     "data": {
      "text/html": [
       "<div>\n",
       "<style scoped>\n",
       "    .dataframe tbody tr th:only-of-type {\n",
       "        vertical-align: middle;\n",
       "    }\n",
       "\n",
       "    .dataframe tbody tr th {\n",
       "        vertical-align: top;\n",
       "    }\n",
       "\n",
       "    .dataframe thead th {\n",
       "        text-align: right;\n",
       "    }\n",
       "</style>\n",
       "<table border=\"1\" class=\"dataframe\">\n",
       "  <thead>\n",
       "    <tr style=\"text-align: right;\">\n",
       "      <th></th>\n",
       "      <th>VendorID</th>\n",
       "      <th>lpep_pickup_datetime</th>\n",
       "      <th>lpep_dropoff_datetime</th>\n",
       "      <th>store_and_fwd_flag</th>\n",
       "      <th>RatecodeID</th>\n",
       "      <th>PULocationID</th>\n",
       "      <th>DOLocationID</th>\n",
       "      <th>passenger_count</th>\n",
       "      <th>trip_distance</th>\n",
       "      <th>fare_amount</th>\n",
       "      <th>extra</th>\n",
       "      <th>mta_tax</th>\n",
       "      <th>tip_amount</th>\n",
       "      <th>tolls_amount</th>\n",
       "      <th>ehail_fee</th>\n",
       "      <th>improvement_surcharge</th>\n",
       "      <th>total_amount</th>\n",
       "      <th>payment_type</th>\n",
       "      <th>trip_type</th>\n",
       "      <th>congestion_surcharge</th>\n",
       "    </tr>\n",
       "  </thead>\n",
       "  <tbody>\n",
       "    <tr>\n",
       "      <th>0</th>\n",
       "      <td>2.0</td>\n",
       "      <td>02/04/2020 12:00:07 AM</td>\n",
       "      <td>02/04/2020 12:08:01 AM</td>\n",
       "      <td>N</td>\n",
       "      <td>1.0</td>\n",
       "      <td>42</td>\n",
       "      <td>152</td>\n",
       "      <td>1.0</td>\n",
       "      <td>1.21</td>\n",
       "      <td>7.00</td>\n",
       "      <td>0.50</td>\n",
       "      <td>0.5</td>\n",
       "      <td>0.0</td>\n",
       "      <td>0.0</td>\n",
       "      <td>NaN</td>\n",
       "      <td>0.3</td>\n",
       "      <td>8.3</td>\n",
       "      <td>1.0</td>\n",
       "      <td>1.0</td>\n",
       "      <td>0.0</td>\n",
       "    </tr>\n",
       "    <tr>\n",
       "      <th>1</th>\n",
       "      <td>2.0</td>\n",
       "      <td>02/04/2020 12:00:20 AM</td>\n",
       "      <td>02/04/2020 12:13:44 AM</td>\n",
       "      <td>N</td>\n",
       "      <td>1.0</td>\n",
       "      <td>25</td>\n",
       "      <td>188</td>\n",
       "      <td>1.0</td>\n",
       "      <td>3.28</td>\n",
       "      <td>12.50</td>\n",
       "      <td>0.50</td>\n",
       "      <td>0.5</td>\n",
       "      <td>0.0</td>\n",
       "      <td>0.0</td>\n",
       "      <td>NaN</td>\n",
       "      <td>0.3</td>\n",
       "      <td>13.8</td>\n",
       "      <td>2.0</td>\n",
       "      <td>1.0</td>\n",
       "      <td>0.0</td>\n",
       "    </tr>\n",
       "    <tr>\n",
       "      <th>2</th>\n",
       "      <td>2.0</td>\n",
       "      <td>02/04/2020 12:00:42 AM</td>\n",
       "      <td>02/04/2020 12:03:29 AM</td>\n",
       "      <td>N</td>\n",
       "      <td>1.0</td>\n",
       "      <td>166</td>\n",
       "      <td>152</td>\n",
       "      <td>1.0</td>\n",
       "      <td>0.68</td>\n",
       "      <td>4.00</td>\n",
       "      <td>0.50</td>\n",
       "      <td>0.5</td>\n",
       "      <td>0.0</td>\n",
       "      <td>0.0</td>\n",
       "      <td>NaN</td>\n",
       "      <td>0.3</td>\n",
       "      <td>5.3</td>\n",
       "      <td>2.0</td>\n",
       "      <td>1.0</td>\n",
       "      <td>0.0</td>\n",
       "    </tr>\n",
       "    <tr>\n",
       "      <th>3</th>\n",
       "      <td>2.0</td>\n",
       "      <td>02/04/2020 12:01:00 AM</td>\n",
       "      <td>02/04/2020 12:13:15 AM</td>\n",
       "      <td>N</td>\n",
       "      <td>1.0</td>\n",
       "      <td>82</td>\n",
       "      <td>173</td>\n",
       "      <td>1.0</td>\n",
       "      <td>1.89</td>\n",
       "      <td>9.50</td>\n",
       "      <td>0.50</td>\n",
       "      <td>0.5</td>\n",
       "      <td>1.5</td>\n",
       "      <td>0.0</td>\n",
       "      <td>NaN</td>\n",
       "      <td>0.3</td>\n",
       "      <td>12.3</td>\n",
       "      <td>1.0</td>\n",
       "      <td>1.0</td>\n",
       "      <td>0.0</td>\n",
       "    </tr>\n",
       "    <tr>\n",
       "      <th>4</th>\n",
       "      <td>NaN</td>\n",
       "      <td>02/04/2020 12:01:00 AM</td>\n",
       "      <td>02/04/2020 12:31:00 AM</td>\n",
       "      <td>NaN</td>\n",
       "      <td>NaN</td>\n",
       "      <td>136</td>\n",
       "      <td>90</td>\n",
       "      <td>NaN</td>\n",
       "      <td>12.80</td>\n",
       "      <td>51.55</td>\n",
       "      <td>2.75</td>\n",
       "      <td>0.0</td>\n",
       "      <td>0.0</td>\n",
       "      <td>0.0</td>\n",
       "      <td>NaN</td>\n",
       "      <td>0.3</td>\n",
       "      <td>54.6</td>\n",
       "      <td>NaN</td>\n",
       "      <td>NaN</td>\n",
       "      <td>NaN</td>\n",
       "    </tr>\n",
       "  </tbody>\n",
       "</table>\n",
       "</div>"
      ],
      "text/plain": [
       "   VendorID    lpep_pickup_datetime   lpep_dropoff_datetime  \\\n",
       "0       2.0  02/04/2020 12:00:07 AM  02/04/2020 12:08:01 AM   \n",
       "1       2.0  02/04/2020 12:00:20 AM  02/04/2020 12:13:44 AM   \n",
       "2       2.0  02/04/2020 12:00:42 AM  02/04/2020 12:03:29 AM   \n",
       "3       2.0  02/04/2020 12:01:00 AM  02/04/2020 12:13:15 AM   \n",
       "4       NaN  02/04/2020 12:01:00 AM  02/04/2020 12:31:00 AM   \n",
       "\n",
       "  store_and_fwd_flag  RatecodeID  PULocationID  DOLocationID  passenger_count  \\\n",
       "0                  N         1.0            42           152              1.0   \n",
       "1                  N         1.0            25           188              1.0   \n",
       "2                  N         1.0           166           152              1.0   \n",
       "3                  N         1.0            82           173              1.0   \n",
       "4                NaN         NaN           136            90              NaN   \n",
       "\n",
       "   trip_distance  fare_amount  extra  mta_tax  tip_amount  tolls_amount  \\\n",
       "0           1.21         7.00   0.50      0.5         0.0           0.0   \n",
       "1           3.28        12.50   0.50      0.5         0.0           0.0   \n",
       "2           0.68         4.00   0.50      0.5         0.0           0.0   \n",
       "3           1.89         9.50   0.50      0.5         1.5           0.0   \n",
       "4          12.80        51.55   2.75      0.0         0.0           0.0   \n",
       "\n",
       "   ehail_fee  improvement_surcharge  total_amount  payment_type  trip_type  \\\n",
       "0        NaN                    0.3           8.3           1.0        1.0   \n",
       "1        NaN                    0.3          13.8           2.0        1.0   \n",
       "2        NaN                    0.3           5.3           2.0        1.0   \n",
       "3        NaN                    0.3          12.3           1.0        1.0   \n",
       "4        NaN                    0.3          54.6           NaN        NaN   \n",
       "\n",
       "   congestion_surcharge  \n",
       "0                   0.0  \n",
       "1                   0.0  \n",
       "2                   0.0  \n",
       "3                   0.0  \n",
       "4                   NaN  "
      ]
     },
     "execution_count": 2,
     "metadata": {},
     "output_type": "execute_result"
    }
   ],
   "source": [
    "taxi = pd.read_csv(\"https://raw.githubusercontent.com/megan-owen/MAT328-Techniques_in_Data_Science/main/data/Feb4_2020_Green_Taxi_Trip_Data.csv\")\n",
    "taxi.head()"
   ]
  },
  {
   "cell_type": "markdown",
   "metadata": {},
   "source": [
    "Clean the data as follows:\n",
    "\n",
    "1b) Create a new column call `paid_toll` that contains a 1 if the value in the `tolls_amount` column is greater than 0 and a 0 otherwise.  Hint:  See Lab 1, Section 6."
   ]
  },
  {
   "cell_type": "code",
   "execution_count": 4,
   "metadata": {},
   "outputs": [],
   "source": [
    "def is_positive(x):\n",
    "  if x > 0:\n",
    "    return 1\n",
    "  else:\n",
    "    return 0"
   ]
  },
  {
   "cell_type": "markdown",
   "metadata": {},
   "source": [
    "1c) Create a new DataFrame (or change your current DataFrame) that only contains the columns `RatecodeID`, `passenger_count`,`trip_distance`, `total_amount`, and `paid_toll`"
   ]
  },
  {
   "cell_type": "code",
   "execution_count": 5,
   "metadata": {},
   "outputs": [
    {
     "data": {
      "text/html": [
       "<div>\n",
       "<style scoped>\n",
       "    .dataframe tbody tr th:only-of-type {\n",
       "        vertical-align: middle;\n",
       "    }\n",
       "\n",
       "    .dataframe tbody tr th {\n",
       "        vertical-align: top;\n",
       "    }\n",
       "\n",
       "    .dataframe thead th {\n",
       "        text-align: right;\n",
       "    }\n",
       "</style>\n",
       "<table border=\"1\" class=\"dataframe\">\n",
       "  <thead>\n",
       "    <tr style=\"text-align: right;\">\n",
       "      <th></th>\n",
       "      <th>RatecodeID</th>\n",
       "      <th>passenger_count</th>\n",
       "      <th>trip_distance</th>\n",
       "      <th>total_amount</th>\n",
       "      <th>paid_toll</th>\n",
       "    </tr>\n",
       "  </thead>\n",
       "  <tbody>\n",
       "    <tr>\n",
       "      <th>0</th>\n",
       "      <td>1.0</td>\n",
       "      <td>1.0</td>\n",
       "      <td>1.21</td>\n",
       "      <td>8.30</td>\n",
       "      <td>0</td>\n",
       "    </tr>\n",
       "    <tr>\n",
       "      <th>1</th>\n",
       "      <td>1.0</td>\n",
       "      <td>1.0</td>\n",
       "      <td>3.28</td>\n",
       "      <td>13.80</td>\n",
       "      <td>0</td>\n",
       "    </tr>\n",
       "    <tr>\n",
       "      <th>2</th>\n",
       "      <td>1.0</td>\n",
       "      <td>1.0</td>\n",
       "      <td>0.68</td>\n",
       "      <td>5.30</td>\n",
       "      <td>0</td>\n",
       "    </tr>\n",
       "    <tr>\n",
       "      <th>3</th>\n",
       "      <td>1.0</td>\n",
       "      <td>1.0</td>\n",
       "      <td>1.89</td>\n",
       "      <td>12.30</td>\n",
       "      <td>0</td>\n",
       "    </tr>\n",
       "    <tr>\n",
       "      <th>4</th>\n",
       "      <td>NaN</td>\n",
       "      <td>NaN</td>\n",
       "      <td>12.80</td>\n",
       "      <td>54.60</td>\n",
       "      <td>0</td>\n",
       "    </tr>\n",
       "    <tr>\n",
       "      <th>...</th>\n",
       "      <td>...</td>\n",
       "      <td>...</td>\n",
       "      <td>...</td>\n",
       "      <td>...</td>\n",
       "      <td>...</td>\n",
       "    </tr>\n",
       "    <tr>\n",
       "      <th>13976</th>\n",
       "      <td>1.0</td>\n",
       "      <td>1.0</td>\n",
       "      <td>0.64</td>\n",
       "      <td>5.80</td>\n",
       "      <td>0</td>\n",
       "    </tr>\n",
       "    <tr>\n",
       "      <th>13977</th>\n",
       "      <td>1.0</td>\n",
       "      <td>1.0</td>\n",
       "      <td>1.77</td>\n",
       "      <td>10.30</td>\n",
       "      <td>0</td>\n",
       "    </tr>\n",
       "    <tr>\n",
       "      <th>13978</th>\n",
       "      <td>1.0</td>\n",
       "      <td>1.0</td>\n",
       "      <td>1.80</td>\n",
       "      <td>11.44</td>\n",
       "      <td>0</td>\n",
       "    </tr>\n",
       "    <tr>\n",
       "      <th>13979</th>\n",
       "      <td>1.0</td>\n",
       "      <td>1.0</td>\n",
       "      <td>0.69</td>\n",
       "      <td>5.80</td>\n",
       "      <td>0</td>\n",
       "    </tr>\n",
       "    <tr>\n",
       "      <th>13980</th>\n",
       "      <td>1.0</td>\n",
       "      <td>1.0</td>\n",
       "      <td>1.60</td>\n",
       "      <td>14.80</td>\n",
       "      <td>0</td>\n",
       "    </tr>\n",
       "  </tbody>\n",
       "</table>\n",
       "<p>13981 rows × 5 columns</p>\n",
       "</div>"
      ],
      "text/plain": [
       "       RatecodeID  passenger_count  trip_distance  total_amount  paid_toll\n",
       "0             1.0              1.0           1.21          8.30          0\n",
       "1             1.0              1.0           3.28         13.80          0\n",
       "2             1.0              1.0           0.68          5.30          0\n",
       "3             1.0              1.0           1.89         12.30          0\n",
       "4             NaN              NaN          12.80         54.60          0\n",
       "...           ...              ...            ...           ...        ...\n",
       "13976         1.0              1.0           0.64          5.80          0\n",
       "13977         1.0              1.0           1.77         10.30          0\n",
       "13978         1.0              1.0           1.80         11.44          0\n",
       "13979         1.0              1.0           0.69          5.80          0\n",
       "13980         1.0              1.0           1.60         14.80          0\n",
       "\n",
       "[13981 rows x 5 columns]"
      ]
     },
     "execution_count": 5,
     "metadata": {},
     "output_type": "execute_result"
    }
   ],
   "source": [
    "taxi[\"paid_toll\"] = taxi[\"tolls_amount\"].apply(is_positive)\n",
    "taxi2 = taxi[[\"RatecodeID\",\"passenger_count\",\"trip_distance\",\"total_amount\",\"paid_toll\"]]\n",
    "taxi2"
   ]
  },
  {
   "cell_type": "markdown",
   "metadata": {},
   "source": [
    "1d) Do any of the rows in the DataFrame created in question 1c have missing values?  If so, drop all rows with at least one NaN values.   How many rows did you drop?"
   ]
  },
  {
   "cell_type": "code",
   "execution_count": 10,
   "metadata": {},
   "outputs": [
    {
     "data": {
      "text/html": [
       "<div>\n",
       "<style scoped>\n",
       "    .dataframe tbody tr th:only-of-type {\n",
       "        vertical-align: middle;\n",
       "    }\n",
       "\n",
       "    .dataframe tbody tr th {\n",
       "        vertical-align: top;\n",
       "    }\n",
       "\n",
       "    .dataframe thead th {\n",
       "        text-align: right;\n",
       "    }\n",
       "</style>\n",
       "<table border=\"1\" class=\"dataframe\">\n",
       "  <thead>\n",
       "    <tr style=\"text-align: right;\">\n",
       "      <th></th>\n",
       "      <th>RatecodeID</th>\n",
       "      <th>passenger_count</th>\n",
       "      <th>trip_distance</th>\n",
       "      <th>total_amount</th>\n",
       "      <th>paid_toll</th>\n",
       "    </tr>\n",
       "  </thead>\n",
       "  <tbody>\n",
       "    <tr>\n",
       "      <th>0</th>\n",
       "      <td>1.0</td>\n",
       "      <td>1.0</td>\n",
       "      <td>1.21</td>\n",
       "      <td>8.30</td>\n",
       "      <td>0</td>\n",
       "    </tr>\n",
       "    <tr>\n",
       "      <th>1</th>\n",
       "      <td>1.0</td>\n",
       "      <td>1.0</td>\n",
       "      <td>3.28</td>\n",
       "      <td>13.80</td>\n",
       "      <td>0</td>\n",
       "    </tr>\n",
       "    <tr>\n",
       "      <th>2</th>\n",
       "      <td>1.0</td>\n",
       "      <td>1.0</td>\n",
       "      <td>0.68</td>\n",
       "      <td>5.30</td>\n",
       "      <td>0</td>\n",
       "    </tr>\n",
       "    <tr>\n",
       "      <th>3</th>\n",
       "      <td>1.0</td>\n",
       "      <td>1.0</td>\n",
       "      <td>1.89</td>\n",
       "      <td>12.30</td>\n",
       "      <td>0</td>\n",
       "    </tr>\n",
       "    <tr>\n",
       "      <th>5</th>\n",
       "      <td>1.0</td>\n",
       "      <td>2.0</td>\n",
       "      <td>4.57</td>\n",
       "      <td>17.30</td>\n",
       "      <td>0</td>\n",
       "    </tr>\n",
       "    <tr>\n",
       "      <th>...</th>\n",
       "      <td>...</td>\n",
       "      <td>...</td>\n",
       "      <td>...</td>\n",
       "      <td>...</td>\n",
       "      <td>...</td>\n",
       "    </tr>\n",
       "    <tr>\n",
       "      <th>13976</th>\n",
       "      <td>1.0</td>\n",
       "      <td>1.0</td>\n",
       "      <td>0.64</td>\n",
       "      <td>5.80</td>\n",
       "      <td>0</td>\n",
       "    </tr>\n",
       "    <tr>\n",
       "      <th>13977</th>\n",
       "      <td>1.0</td>\n",
       "      <td>1.0</td>\n",
       "      <td>1.77</td>\n",
       "      <td>10.30</td>\n",
       "      <td>0</td>\n",
       "    </tr>\n",
       "    <tr>\n",
       "      <th>13978</th>\n",
       "      <td>1.0</td>\n",
       "      <td>1.0</td>\n",
       "      <td>1.80</td>\n",
       "      <td>11.44</td>\n",
       "      <td>0</td>\n",
       "    </tr>\n",
       "    <tr>\n",
       "      <th>13979</th>\n",
       "      <td>1.0</td>\n",
       "      <td>1.0</td>\n",
       "      <td>0.69</td>\n",
       "      <td>5.80</td>\n",
       "      <td>0</td>\n",
       "    </tr>\n",
       "    <tr>\n",
       "      <th>13980</th>\n",
       "      <td>1.0</td>\n",
       "      <td>1.0</td>\n",
       "      <td>1.60</td>\n",
       "      <td>14.80</td>\n",
       "      <td>0</td>\n",
       "    </tr>\n",
       "  </tbody>\n",
       "</table>\n",
       "<p>10534 rows × 5 columns</p>\n",
       "</div>"
      ],
      "text/plain": [
       "       RatecodeID  passenger_count  trip_distance  total_amount  paid_toll\n",
       "0             1.0              1.0           1.21          8.30          0\n",
       "1             1.0              1.0           3.28         13.80          0\n",
       "2             1.0              1.0           0.68          5.30          0\n",
       "3             1.0              1.0           1.89         12.30          0\n",
       "5             1.0              2.0           4.57         17.30          0\n",
       "...           ...              ...            ...           ...        ...\n",
       "13976         1.0              1.0           0.64          5.80          0\n",
       "13977         1.0              1.0           1.77         10.30          0\n",
       "13978         1.0              1.0           1.80         11.44          0\n",
       "13979         1.0              1.0           0.69          5.80          0\n",
       "13980         1.0              1.0           1.60         14.80          0\n",
       "\n",
       "[10534 rows x 5 columns]"
      ]
     },
     "execution_count": 10,
     "metadata": {},
     "output_type": "execute_result"
    }
   ],
   "source": [
    "missing_rate = taxi2[\"RatecodeID\"].isna()\n",
    "taxi_rate = taxi2[~ missing_rate]\n",
    "missing_pass = taxi_rate[\"passenger_count\"].isna()\n",
    "taxi_pass = taxi_rate[~ missing_pass]\n",
    "missing_dis = taxi_pass[\"trip_distance\"].isna()\n",
    "taxi_dis = taxi_pass[~ missing_dis]\n",
    "missing_amount = taxi_dis[\"total_amount\"].isna()\n",
    "taxi3 = taxi_dis[~ missing_amount]\n",
    "taxi3"
   ]
  },
  {
   "cell_type": "markdown",
   "metadata": {},
   "source": [
    "3447 rows were dropped"
   ]
  },
  {
   "cell_type": "markdown",
   "metadata": {},
   "source": [
    "1d) Change the type of the `RatecodeID` column to `int` to make referencing the dummy variables easier, and then replace the `RatecodeID` column with dummy variables for it  Hint: See lab 4, Section 5 for changing the type of the column.\n"
   ]
  },
  {
   "cell_type": "code",
   "execution_count": 12,
   "metadata": {},
   "outputs": [],
   "source": [
    "taxi3[\"RatecodeID\"] = taxi3[\"RatecodeID\"].astype(int)"
   ]
  },
  {
   "cell_type": "code",
   "execution_count": 13,
   "metadata": {},
   "outputs": [
    {
     "data": {
      "text/plain": [
       "RatecodeID           int64\n",
       "passenger_count    float64\n",
       "trip_distance      float64\n",
       "total_amount       float64\n",
       "paid_toll            int64\n",
       "dtype: object"
      ]
     },
     "execution_count": 13,
     "metadata": {},
     "output_type": "execute_result"
    }
   ],
   "source": [
    "taxi3.dtypes"
   ]
  },
  {
   "cell_type": "code",
   "execution_count": 14,
   "metadata": {},
   "outputs": [
    {
     "data": {
      "text/html": [
       "<div>\n",
       "<style scoped>\n",
       "    .dataframe tbody tr th:only-of-type {\n",
       "        vertical-align: middle;\n",
       "    }\n",
       "\n",
       "    .dataframe tbody tr th {\n",
       "        vertical-align: top;\n",
       "    }\n",
       "\n",
       "    .dataframe thead th {\n",
       "        text-align: right;\n",
       "    }\n",
       "</style>\n",
       "<table border=\"1\" class=\"dataframe\">\n",
       "  <thead>\n",
       "    <tr style=\"text-align: right;\">\n",
       "      <th></th>\n",
       "      <th>passenger_count</th>\n",
       "      <th>trip_distance</th>\n",
       "      <th>total_amount</th>\n",
       "      <th>paid_toll</th>\n",
       "      <th>RatecodeID_2</th>\n",
       "      <th>RatecodeID_3</th>\n",
       "      <th>RatecodeID_4</th>\n",
       "      <th>RatecodeID_5</th>\n",
       "    </tr>\n",
       "  </thead>\n",
       "  <tbody>\n",
       "    <tr>\n",
       "      <th>0</th>\n",
       "      <td>1.0</td>\n",
       "      <td>1.21</td>\n",
       "      <td>8.30</td>\n",
       "      <td>0</td>\n",
       "      <td>0</td>\n",
       "      <td>0</td>\n",
       "      <td>0</td>\n",
       "      <td>0</td>\n",
       "    </tr>\n",
       "    <tr>\n",
       "      <th>1</th>\n",
       "      <td>1.0</td>\n",
       "      <td>3.28</td>\n",
       "      <td>13.80</td>\n",
       "      <td>0</td>\n",
       "      <td>0</td>\n",
       "      <td>0</td>\n",
       "      <td>0</td>\n",
       "      <td>0</td>\n",
       "    </tr>\n",
       "    <tr>\n",
       "      <th>2</th>\n",
       "      <td>1.0</td>\n",
       "      <td>0.68</td>\n",
       "      <td>5.30</td>\n",
       "      <td>0</td>\n",
       "      <td>0</td>\n",
       "      <td>0</td>\n",
       "      <td>0</td>\n",
       "      <td>0</td>\n",
       "    </tr>\n",
       "    <tr>\n",
       "      <th>3</th>\n",
       "      <td>1.0</td>\n",
       "      <td>1.89</td>\n",
       "      <td>12.30</td>\n",
       "      <td>0</td>\n",
       "      <td>0</td>\n",
       "      <td>0</td>\n",
       "      <td>0</td>\n",
       "      <td>0</td>\n",
       "    </tr>\n",
       "    <tr>\n",
       "      <th>5</th>\n",
       "      <td>2.0</td>\n",
       "      <td>4.57</td>\n",
       "      <td>17.30</td>\n",
       "      <td>0</td>\n",
       "      <td>0</td>\n",
       "      <td>0</td>\n",
       "      <td>0</td>\n",
       "      <td>0</td>\n",
       "    </tr>\n",
       "    <tr>\n",
       "      <th>...</th>\n",
       "      <td>...</td>\n",
       "      <td>...</td>\n",
       "      <td>...</td>\n",
       "      <td>...</td>\n",
       "      <td>...</td>\n",
       "      <td>...</td>\n",
       "      <td>...</td>\n",
       "      <td>...</td>\n",
       "    </tr>\n",
       "    <tr>\n",
       "      <th>13976</th>\n",
       "      <td>1.0</td>\n",
       "      <td>0.64</td>\n",
       "      <td>5.80</td>\n",
       "      <td>0</td>\n",
       "      <td>0</td>\n",
       "      <td>0</td>\n",
       "      <td>0</td>\n",
       "      <td>0</td>\n",
       "    </tr>\n",
       "    <tr>\n",
       "      <th>13977</th>\n",
       "      <td>1.0</td>\n",
       "      <td>1.77</td>\n",
       "      <td>10.30</td>\n",
       "      <td>0</td>\n",
       "      <td>0</td>\n",
       "      <td>0</td>\n",
       "      <td>0</td>\n",
       "      <td>0</td>\n",
       "    </tr>\n",
       "    <tr>\n",
       "      <th>13978</th>\n",
       "      <td>1.0</td>\n",
       "      <td>1.80</td>\n",
       "      <td>11.44</td>\n",
       "      <td>0</td>\n",
       "      <td>0</td>\n",
       "      <td>0</td>\n",
       "      <td>0</td>\n",
       "      <td>0</td>\n",
       "    </tr>\n",
       "    <tr>\n",
       "      <th>13979</th>\n",
       "      <td>1.0</td>\n",
       "      <td>0.69</td>\n",
       "      <td>5.80</td>\n",
       "      <td>0</td>\n",
       "      <td>0</td>\n",
       "      <td>0</td>\n",
       "      <td>0</td>\n",
       "      <td>0</td>\n",
       "    </tr>\n",
       "    <tr>\n",
       "      <th>13980</th>\n",
       "      <td>1.0</td>\n",
       "      <td>1.60</td>\n",
       "      <td>14.80</td>\n",
       "      <td>0</td>\n",
       "      <td>0</td>\n",
       "      <td>0</td>\n",
       "      <td>0</td>\n",
       "      <td>0</td>\n",
       "    </tr>\n",
       "  </tbody>\n",
       "</table>\n",
       "<p>10534 rows × 8 columns</p>\n",
       "</div>"
      ],
      "text/plain": [
       "       passenger_count  trip_distance  total_amount  paid_toll  RatecodeID_2  \\\n",
       "0                  1.0           1.21          8.30          0             0   \n",
       "1                  1.0           3.28         13.80          0             0   \n",
       "2                  1.0           0.68          5.30          0             0   \n",
       "3                  1.0           1.89         12.30          0             0   \n",
       "5                  2.0           4.57         17.30          0             0   \n",
       "...                ...            ...           ...        ...           ...   \n",
       "13976              1.0           0.64          5.80          0             0   \n",
       "13977              1.0           1.77         10.30          0             0   \n",
       "13978              1.0           1.80         11.44          0             0   \n",
       "13979              1.0           0.69          5.80          0             0   \n",
       "13980              1.0           1.60         14.80          0             0   \n",
       "\n",
       "       RatecodeID_3  RatecodeID_4  RatecodeID_5  \n",
       "0                 0             0             0  \n",
       "1                 0             0             0  \n",
       "2                 0             0             0  \n",
       "3                 0             0             0  \n",
       "5                 0             0             0  \n",
       "...             ...           ...           ...  \n",
       "13976             0             0             0  \n",
       "13977             0             0             0  \n",
       "13978             0             0             0  \n",
       "13979             0             0             0  \n",
       "13980             0             0             0  \n",
       "\n",
       "[10534 rows x 8 columns]"
      ]
     },
     "execution_count": 14,
     "metadata": {},
     "output_type": "execute_result"
    }
   ],
   "source": [
    "taxi4 = pd.get_dummies(taxi3, columns = [\"RatecodeID\"], drop_first = True)\n",
    "taxi4"
   ]
  },
  {
   "cell_type": "markdown",
   "metadata": {},
   "source": [
    "### Question 2: Logistic regression\n",
    "\n",
    "2a) Create a logistic model where `paid_toll` is the dependent variable, and all other columns in your final, cleaned DataFrame from Question 1 are the independent variables."
   ]
  },
  {
   "cell_type": "code",
   "execution_count": 15,
   "metadata": {},
   "outputs": [
    {
     "name": "stdout",
     "output_type": "stream",
     "text": [
      "Optimization terminated successfully.\n",
      "         Current function value: 0.068240\n",
      "         Iterations 9\n"
     ]
    },
    {
     "data": {
      "text/html": [
       "<table class=\"simpletable\">\n",
       "<caption>Logit Regression Results</caption>\n",
       "<tr>\n",
       "  <th>Dep. Variable:</th>       <td>paid_toll</td>    <th>  No. Observations:  </th>   <td> 10534</td>  \n",
       "</tr>\n",
       "<tr>\n",
       "  <th>Model:</th>                 <td>Logit</td>      <th>  Df Residuals:      </th>   <td> 10526</td>  \n",
       "</tr>\n",
       "<tr>\n",
       "  <th>Method:</th>                 <td>MLE</td>       <th>  Df Model:          </th>   <td>     7</td>  \n",
       "</tr>\n",
       "<tr>\n",
       "  <th>Date:</th>            <td>Tue, 06 Apr 2021</td> <th>  Pseudo R-squ.:     </th>   <td>0.4086</td>  \n",
       "</tr>\n",
       "<tr>\n",
       "  <th>Time:</th>                <td>17:29:42</td>     <th>  Log-Likelihood:    </th>  <td> -718.84</td> \n",
       "</tr>\n",
       "<tr>\n",
       "  <th>converged:</th>             <td>True</td>       <th>  LL-Null:           </th>  <td> -1215.5</td> \n",
       "</tr>\n",
       "<tr>\n",
       "  <th>Covariance Type:</th>     <td>nonrobust</td>    <th>  LLR p-value:       </th> <td>3.261e-210</td>\n",
       "</tr>\n",
       "</table>\n",
       "<table class=\"simpletable\">\n",
       "<tr>\n",
       "         <td></td>            <th>coef</th>     <th>std err</th>      <th>z</th>      <th>P>|z|</th>  <th>[0.025</th>    <th>0.975]</th>  \n",
       "</tr>\n",
       "<tr>\n",
       "  <th>Intercept</th>       <td>   -6.8267</td> <td>    0.217</td> <td>  -31.405</td> <td> 0.000</td> <td>   -7.253</td> <td>   -6.401</td>\n",
       "</tr>\n",
       "<tr>\n",
       "  <th>passenger_count</th> <td>    0.0860</td> <td>    0.076</td> <td>    1.133</td> <td> 0.257</td> <td>   -0.063</td> <td>    0.235</td>\n",
       "</tr>\n",
       "<tr>\n",
       "  <th>trip_distance</th>   <td>   -0.0258</td> <td>    0.021</td> <td>   -1.223</td> <td> 0.221</td> <td>   -0.067</td> <td>    0.016</td>\n",
       "</tr>\n",
       "<tr>\n",
       "  <th>total_amount</th>    <td>    0.1253</td> <td>    0.007</td> <td>   16.886</td> <td> 0.000</td> <td>    0.111</td> <td>    0.140</td>\n",
       "</tr>\n",
       "<tr>\n",
       "  <th>RatecodeID_2</th>    <td>   -0.4159</td> <td>    0.496</td> <td>   -0.839</td> <td> 0.402</td> <td>   -1.388</td> <td>    0.556</td>\n",
       "</tr>\n",
       "<tr>\n",
       "  <th>RatecodeID_3</th>    <td>   -1.0865</td> <td>    9.380</td> <td>   -0.116</td> <td> 0.908</td> <td>  -19.471</td> <td>   17.298</td>\n",
       "</tr>\n",
       "<tr>\n",
       "  <th>RatecodeID_4</th>    <td>   -3.8788</td> <td>    1.381</td> <td>   -2.810</td> <td> 0.005</td> <td>   -6.585</td> <td>   -1.173</td>\n",
       "</tr>\n",
       "<tr>\n",
       "  <th>RatecodeID_5</th>    <td>   -1.1538</td> <td>    0.535</td> <td>   -2.158</td> <td> 0.031</td> <td>   -2.202</td> <td>   -0.106</td>\n",
       "</tr>\n",
       "</table>"
      ],
      "text/plain": [
       "<class 'statsmodels.iolib.summary.Summary'>\n",
       "\"\"\"\n",
       "                           Logit Regression Results                           \n",
       "==============================================================================\n",
       "Dep. Variable:              paid_toll   No. Observations:                10534\n",
       "Model:                          Logit   Df Residuals:                    10526\n",
       "Method:                           MLE   Df Model:                            7\n",
       "Date:                Tue, 06 Apr 2021   Pseudo R-squ.:                  0.4086\n",
       "Time:                        17:29:42   Log-Likelihood:                -718.84\n",
       "converged:                       True   LL-Null:                       -1215.5\n",
       "Covariance Type:            nonrobust   LLR p-value:                3.261e-210\n",
       "===================================================================================\n",
       "                      coef    std err          z      P>|z|      [0.025      0.975]\n",
       "-----------------------------------------------------------------------------------\n",
       "Intercept          -6.8267      0.217    -31.405      0.000      -7.253      -6.401\n",
       "passenger_count     0.0860      0.076      1.133      0.257      -0.063       0.235\n",
       "trip_distance      -0.0258      0.021     -1.223      0.221      -0.067       0.016\n",
       "total_amount        0.1253      0.007     16.886      0.000       0.111       0.140\n",
       "RatecodeID_2       -0.4159      0.496     -0.839      0.402      -1.388       0.556\n",
       "RatecodeID_3       -1.0865      9.380     -0.116      0.908     -19.471      17.298\n",
       "RatecodeID_4       -3.8788      1.381     -2.810      0.005      -6.585      -1.173\n",
       "RatecodeID_5       -1.1538      0.535     -2.158      0.031      -2.202      -0.106\n",
       "===================================================================================\n",
       "\"\"\""
      ]
     },
     "execution_count": 15,
     "metadata": {},
     "output_type": "execute_result"
    }
   ],
   "source": [
    "logit_model = smf.logit('paid_toll ~ passenger_count + trip_distance + total_amount +\\\n",
    "    RatecodeID_2 + RatecodeID_3 + RatecodeID_4 + RatecodeID_5', \\\n",
    "                        data = taxi4).fit()\n",
    "logit_model.summary()"
   ]
  },
  {
   "cell_type": "markdown",
   "metadata": {},
   "source": [
    "2b) Recall that the p-value for each variable (in the column P > |z|) is the probability that we would get the coefficient in the `coef` column or one with a greater magnitude, when that coefficient is really 0 (meaning that variable does not affect the dependent variable).  Make a new logistic model with only those variables with a p-value less than 0.05, and compute the summary."
   ]
  },
  {
   "cell_type": "code",
   "execution_count": 16,
   "metadata": {},
   "outputs": [
    {
     "name": "stdout",
     "output_type": "stream",
     "text": [
      "Optimization terminated successfully.\n",
      "         Current function value: 0.068378\n",
      "         Iterations 9\n"
     ]
    },
    {
     "data": {
      "text/html": [
       "<table class=\"simpletable\">\n",
       "<caption>Logit Regression Results</caption>\n",
       "<tr>\n",
       "  <th>Dep. Variable:</th>       <td>paid_toll</td>    <th>  No. Observations:  </th>   <td> 10534</td>  \n",
       "</tr>\n",
       "<tr>\n",
       "  <th>Model:</th>                 <td>Logit</td>      <th>  Df Residuals:      </th>   <td> 10530</td>  \n",
       "</tr>\n",
       "<tr>\n",
       "  <th>Method:</th>                 <td>MLE</td>       <th>  Df Model:          </th>   <td>     3</td>  \n",
       "</tr>\n",
       "<tr>\n",
       "  <th>Date:</th>            <td>Tue, 06 Apr 2021</td> <th>  Pseudo R-squ.:     </th>   <td>0.4074</td>  \n",
       "</tr>\n",
       "<tr>\n",
       "  <th>Time:</th>                <td>17:32:34</td>     <th>  Log-Likelihood:    </th>  <td> -720.29</td> \n",
       "</tr>\n",
       "<tr>\n",
       "  <th>converged:</th>             <td>True</td>       <th>  LL-Null:           </th>  <td> -1215.5</td> \n",
       "</tr>\n",
       "<tr>\n",
       "  <th>Covariance Type:</th>     <td>nonrobust</td>    <th>  LLR p-value:       </th> <td>2.104e-214</td>\n",
       "</tr>\n",
       "</table>\n",
       "<table class=\"simpletable\">\n",
       "<tr>\n",
       "        <td></td>          <th>coef</th>     <th>std err</th>      <th>z</th>      <th>P>|z|</th>  <th>[0.025</th>    <th>0.975]</th>  \n",
       "</tr>\n",
       "<tr>\n",
       "  <th>Intercept</th>    <td>   -6.6329</td> <td>    0.173</td> <td>  -38.299</td> <td> 0.000</td> <td>   -6.972</td> <td>   -6.293</td>\n",
       "</tr>\n",
       "<tr>\n",
       "  <th>total_amount</th> <td>    0.1173</td> <td>    0.005</td> <td>   25.616</td> <td> 0.000</td> <td>    0.108</td> <td>    0.126</td>\n",
       "</tr>\n",
       "<tr>\n",
       "  <th>RatecodeID_4</th> <td>   -3.7002</td> <td>    1.383</td> <td>   -2.676</td> <td> 0.007</td> <td>   -6.410</td> <td>   -0.990</td>\n",
       "</tr>\n",
       "<tr>\n",
       "  <th>RatecodeID_5</th> <td>   -1.0520</td> <td>    0.523</td> <td>   -2.010</td> <td> 0.044</td> <td>   -2.078</td> <td>   -0.026</td>\n",
       "</tr>\n",
       "</table>"
      ],
      "text/plain": [
       "<class 'statsmodels.iolib.summary.Summary'>\n",
       "\"\"\"\n",
       "                           Logit Regression Results                           \n",
       "==============================================================================\n",
       "Dep. Variable:              paid_toll   No. Observations:                10534\n",
       "Model:                          Logit   Df Residuals:                    10530\n",
       "Method:                           MLE   Df Model:                            3\n",
       "Date:                Tue, 06 Apr 2021   Pseudo R-squ.:                  0.4074\n",
       "Time:                        17:32:34   Log-Likelihood:                -720.29\n",
       "converged:                       True   LL-Null:                       -1215.5\n",
       "Covariance Type:            nonrobust   LLR p-value:                2.104e-214\n",
       "================================================================================\n",
       "                   coef    std err          z      P>|z|      [0.025      0.975]\n",
       "--------------------------------------------------------------------------------\n",
       "Intercept       -6.6329      0.173    -38.299      0.000      -6.972      -6.293\n",
       "total_amount     0.1173      0.005     25.616      0.000       0.108       0.126\n",
       "RatecodeID_4    -3.7002      1.383     -2.676      0.007      -6.410      -0.990\n",
       "RatecodeID_5    -1.0520      0.523     -2.010      0.044      -2.078      -0.026\n",
       "================================================================================\n",
       "\"\"\""
      ]
     },
     "execution_count": 16,
     "metadata": {},
     "output_type": "execute_result"
    }
   ],
   "source": [
    "logit_model2 = smf.logit('paid_toll ~ total_amount +\\\n",
    "    RatecodeID_4 + RatecodeID_5', \\\n",
    "                        data = taxi4).fit()\n",
    "logit_model2.summary()"
   ]
  },
  {
   "cell_type": "markdown",
   "metadata": {},
   "source": [
    "2c)  What is the Pseudo R-squared value for your new logistic model?  What does it suggest about the fit of the model?  How does this compare to the pseudo r-squared value for all your first logistic regression model with all the variables?  How does it compare to the logistic regression model from Homework 14 that only used `trip_distance` as the independent variable?"
   ]
  },
  {
   "cell_type": "markdown",
   "metadata": {},
   "source": [
    "Pseudo R-squared: 0.4074  \n",
    "Compared to the first logistic regression model there isn't much change between both of them. But both are a improvement over the logistic regression model from homework 14."
   ]
  },
  {
   "cell_type": "markdown",
   "metadata": {
    "collapsed": true
   },
   "source": []
  },
  {
   "cell_type": "markdown",
   "metadata": {},
   "source": [
    "2d)  What is the equation of your logistic regression model?  The equation below is written in Latex, which is a system for typing math equations.  Double click on this cell, and replace the part of the equation that says \"reg\" to finish the formula.  \"run\" this cell (as you would a code cell) when you are finished.\n",
    "\n",
    "$$y = \\frac{1}{1 + e^{-(-6.6329+0.1173x_1-3.7002x_2-1.0520x_3)}}$$"
   ]
  },
  {
   "cell_type": "markdown",
   "metadata": {},
   "source": [
    " "
   ]
  },
  {
   "cell_type": "markdown",
   "metadata": {},
   "source": [
    "2f) Compute the confusion matrix for your second logistic regression model.  What is the accuracy, sensitivity, specificity, and precision of your model?  What does mean the strengths and weaknesses of the model are?"
   ]
  },
  {
   "cell_type": "code",
   "execution_count": 17,
   "metadata": {},
   "outputs": [
    {
     "data": {
      "text/plain": [
       "array([[10232.,    43.],\n",
       "       [  191.,    68.]])"
      ]
     },
     "execution_count": 17,
     "metadata": {},
     "output_type": "execute_result"
    }
   ],
   "source": [
    "logit_model2.pred_table()"
   ]
  },
  {
   "cell_type": "code",
   "execution_count": 21,
   "metadata": {},
   "outputs": [
    {
     "data": {
      "text/plain": [
       "0.9754129485475603"
      ]
     },
     "execution_count": 21,
     "metadata": {},
     "output_type": "execute_result"
    }
   ],
   "source": [
    "# accuracy\n",
    "(10232 + 43)/len(taxi4)"
   ]
  },
  {
   "cell_type": "code",
   "execution_count": 18,
   "metadata": {},
   "outputs": [
    {
     "data": {
      "text/plain": [
       "0.2625482625482625"
      ]
     },
     "execution_count": 18,
     "metadata": {},
     "output_type": "execute_result"
    }
   ],
   "source": [
    "# sensitivity\n",
    "68/(191+68)"
   ]
  },
  {
   "cell_type": "code",
   "execution_count": 19,
   "metadata": {},
   "outputs": [
    {
     "data": {
      "text/plain": [
       "0.9958150851581509"
      ]
     },
     "execution_count": 19,
     "metadata": {},
     "output_type": "execute_result"
    }
   ],
   "source": [
    "# specificity\n",
    "10232/(10232+43)"
   ]
  },
  {
   "cell_type": "code",
   "execution_count": 22,
   "metadata": {},
   "outputs": [
    {
     "data": {
      "text/plain": [
       "0.9816751415139595"
      ]
     },
     "execution_count": 22,
     "metadata": {},
     "output_type": "execute_result"
    }
   ],
   "source": [
    "# precision\n",
    "10232/(10232 + 191)"
   ]
  },
  {
   "cell_type": "markdown",
   "metadata": {},
   "source": [
    "The sensitivity seems to be the weakest thing in this model while the rest seem to be pretty good."
   ]
  }
 ],
 "metadata": {
  "kernelspec": {
   "display_name": "Python 3",
   "language": "python",
   "name": "python3"
  },
  "language_info": {
   "codemirror_mode": {
    "name": "ipython",
    "version": 3
   },
   "file_extension": ".py",
   "mimetype": "text/x-python",
   "name": "python",
   "nbconvert_exporter": "python",
   "pygments_lexer": "ipython3",
   "version": "3.8.5"
  }
 },
 "nbformat": 4,
 "nbformat_minor": 2
}
